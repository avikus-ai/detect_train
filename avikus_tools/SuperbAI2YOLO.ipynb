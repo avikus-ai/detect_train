{
 "cells": [
  {
   "attachments": {},
   "cell_type": "markdown",
   "metadata": {},
   "source": [
    "### 라이브러리 선언"
   ]
  },
  {
   "cell_type": "code",
   "execution_count": 19,
   "metadata": {},
   "outputs": [],
   "source": [
    "import os\n",
    "from glob import glob\n",
    "import shutil\n",
    "import cv2 as cv\n",
    "import numpy as np\n",
    "from tqdm import tqdm\n",
    "\n",
    "# For parse json|\n",
    "import json\n",
    "import pprint\n",
    "\n",
    "# For drawing\n",
    "import random\n",
    "import matplotlib.pyplot as plt\n",
    "import pylab\n",
    "%matplotlib inline"
   ]
  },
  {
   "attachments": {},
   "cell_type": "markdown",
   "metadata": {},
   "source": [
    "#### 최종 데이터셋 구조\n",
    "- avikus-data  \n",
    " ㄴ images  \n",
    " ㄴ labels  \n",
    "\n",
    "- YAML\n",
    "   - class 0: boat\n",
    "   - class 1: buoy\n",
    "\n",
    "기존 데이터셋 문제점은 이름이 중복되는 부분이 있다는 것이다. 따라서 prefix로 추가해야할 것이다\n",
    "\n",
    "***val은 UK가 포함된 폴더를 모두 넣고, 나머지는 train을 넣도록 한다***"
   ]
  },
  {
   "attachments": {},
   "cell_type": "markdown",
   "metadata": {},
   "source": [
    "### 입력 이미지 및 출력 관련 폴더 선언"
   ]
  },
  {
   "cell_type": "code",
   "execution_count": 20,
   "metadata": {},
   "outputs": [],
   "source": [
    "# 세그멘테이션 라벨링 파일이 포함된 폴더\n",
    "labeling_folder = '../../avikus-data/labeling'\n",
    "rawimg_folder = '../../avikus-data/rawdata/'\n",
    "include_classes = [\"boat\", \"buoy\"] # 파싱하고자 하는 데이터셋\n",
    "\n",
    "train_image_folder = '../../avikus-data/images/train'\n",
    "train_label_folder = '../../avikus-data/labels/train'\n",
    "val_image_folder = '../../avikus-data/images/val'\n",
    "val_label_folder = '../../avikus-data/labels/val'\n",
    "\n",
    "# The length of each row does not have to be equal.\n",
    "# Each segmentation label must have a minimum of 3 xy points: <class-index> <x1> <y1> <x2> <y2> <x3> <y3>\n",
    "\n",
    "class2label = { name:i for i, name in enumerate(include_classes) }"
   ]
  },
  {
   "cell_type": "code",
   "execution_count": 21,
   "metadata": {},
   "outputs": [
    {
     "name": "stdout",
     "output_type": "stream",
     "text": [
      "{'boat': 0, 'buoy': 1}\n"
     ]
    }
   ],
   "source": [
    "pprint.pprint(class2label)"
   ]
  },
  {
   "cell_type": "code",
   "execution_count": 22,
   "metadata": {},
   "outputs": [],
   "source": [
    "# 랜덤 컬러\n",
    "def random_color():\n",
    "    return (random.randint(0, 255), random.randint(0, 255), random.randint(0, 255))"
   ]
  },
  {
   "cell_type": "code",
   "execution_count": 23,
   "metadata": {},
   "outputs": [
    {
     "name": "stderr",
     "output_type": "stream",
     "text": [
      "0it [00:00, ?it/s]"
     ]
    },
    {
     "name": "stdout",
     "output_type": "stream",
     "text": [
      "The folder ../../avikus-data/images/train was created.\n",
      "Done. Image saved to ../../avikus-data/images/train/batch2_wangsan_data_00h46m20s~00h46m35s_230511_ws_left.mp4.mp4_image_00000003.jpg\n",
      "The folder ../../avikus-data/labels/train was created.\n",
      "Done. Image saved to ../../avikus-data/images/train/batch2_wangsan_data_00h46m20s~00h46m35s_230511_ws_left.mp4.mp4_image_00000004.jpg\n",
      "Done. Image saved to ../../avikus-data/images/train/batch2_wangsan_data_00h46m20s~00h46m35s_230511_ws_left.mp4.mp4_image_00000005.jpg\n",
      "Done. Image saved to ../../avikus-data/images/train/batch2_wangsan_data_00h46m20s~00h46m35s_230511_ws_left.mp4.mp4_image_00000006.jpg\n",
      "Done. Image saved to ../../avikus-data/images/train/batch2_wangsan_data_00h46m20s~00h46m35s_230511_ws_left.mp4.mp4_image_00000007.jpg\n",
      "Done. Image saved to ../../avikus-data/images/train/batch2_wangsan_data_00h46m20s~00h46m35s_230511_ws_left.mp4.mp4_image_00000001.jpg\n",
      "Done. Image saved to ../../avikus-data/images/train/batch2_wangsan_data_00h46m20s~00h46m35s_230511_ws_left.mp4.mp4_image_00000002.jpg\n"
     ]
    },
    {
     "name": "stderr",
     "output_type": "stream",
     "text": [
      "3it [00:00,  6.81it/s]"
     ]
    },
    {
     "name": "stdout",
     "output_type": "stream",
     "text": [
      "Done. Image saved to ../../avikus-data/images/train/batch2_wangsan_data_00h46m20s~00h46m35s_230511_ws_left.mp4.mp4_image_00000008.jpg\n",
      "Done. Image saved to ../../avikus-data/images/train/batch2_UK_data_record_stbd_berth_3_0m39s_video_right.mp4_image_00000010.jpg\n",
      "The folder ../../avikus-data/labels/val was created.\n",
      "Done. Image saved to ../../avikus-data/images/train/batch2_UK_data_record_stbd_berth_3_0m39s_video_right.mp4_image_00000020.jpg\n",
      "Done. Image saved to ../../avikus-data/images/train/batch2_UK_data_record_stbd_berth_3_0m39s_video_right.mp4_image_00000003.jpg\n",
      "Done. Image saved to ../../avikus-data/images/train/batch2_UK_data_record_stbd_berth_3_0m39s_video_right.mp4_image_00000014.jpg\n",
      "Done. Image saved to ../../avikus-data/images/train/batch2_UK_data_record_stbd_berth_3_0m39s_video_right.mp4_image_00000018.jpg\n",
      "Done. Image saved to ../../avikus-data/images/train/batch2_UK_data_record_stbd_berth_3_0m39s_video_right.mp4_image_00000012.jpg\n",
      "Done. Image saved to ../../avikus-data/images/train/batch2_UK_data_record_stbd_berth_3_0m39s_video_right.mp4_image_00000019.jpg\n",
      "Done. Image saved to ../../avikus-data/images/train/batch2_UK_data_record_stbd_berth_3_0m39s_video_right.mp4_image_00000017.jpg\n",
      "Done. Image saved to ../../avikus-data/images/train/batch2_UK_data_record_stbd_berth_3_0m39s_video_right.mp4_image_00000015.jpg\n",
      "Done. Image saved to ../../avikus-data/images/train/batch2_UK_data_record_stbd_berth_3_0m39s_video_right.mp4_image_00000004.jpg\n",
      "Done. Image saved to ../../avikus-data/images/train/batch2_UK_data_record_stbd_berth_3_0m39s_video_right.mp4_image_00000005.jpg\n",
      "Done. Image saved to ../../avikus-data/images/train/batch2_UK_data_record_stbd_berth_3_0m39s_video_right.mp4_image_00000021.jpg\n",
      "Done. Image saved to ../../avikus-data/images/train/batch2_UK_data_record_stbd_berth_3_0m39s_video_right.mp4_image_00000013.jpg\n",
      "Done. Image saved to ../../avikus-data/images/train/batch2_UK_data_record_stbd_berth_3_0m39s_video_right.mp4_image_00000006.jpg\n",
      "Done. Image saved to ../../avikus-data/images/train/batch2_UK_data_record_stbd_berth_3_0m39s_video_right.mp4_image_00000007.jpg\n",
      "Done. Image saved to ../../avikus-data/images/train/batch2_UK_data_record_stbd_berth_3_0m39s_video_right.mp4_image_00000001.jpg\n",
      "Done. Image saved to ../../avikus-data/images/train/batch2_UK_data_record_stbd_berth_3_0m39s_video_right.mp4_image_00000016.jpg\n",
      "Done. Image saved to ../../avikus-data/images/train/batch2_UK_data_record_stbd_berth_3_0m39s_video_right.mp4_image_00000002.jpg\n",
      "Done. Image saved to ../../avikus-data/images/train/batch2_UK_data_record_stbd_berth_3_0m39s_video_right.mp4_image_00000008.jpg\n",
      "Done. Image saved to ../../avikus-data/images/train/batch2_UK_data_record_stbd_berth_3_0m39s_video_right.mp4_image_00000009.jpg\n"
     ]
    },
    {
     "name": "stderr",
     "output_type": "stream",
     "text": [
      "8it [00:01,  7.23it/s]"
     ]
    },
    {
     "name": "stdout",
     "output_type": "stream",
     "text": [
      "Done. Image saved to ../../avikus-data/images/train/batch2_UK_data_record_stbd_berth_3_0m39s_video_right.mp4_image_00000011.jpg\n",
      "Done. Image saved to ../../avikus-data/images/train/batch2_busan_unberthing_REAR.mp4_image_00000010.jpg\n",
      "Done. Image saved to ../../avikus-data/images/train/batch2_busan_unberthing_REAR.mp4_image_00000003.jpg\n",
      "Done. Image saved to ../../avikus-data/images/train/batch2_busan_unberthing_REAR.mp4_image_00000004.jpg\n",
      "Done. Image saved to ../../avikus-data/images/train/batch2_busan_unberthing_REAR.mp4_image_00000005.jpg\n",
      "Done. Image saved to ../../avikus-data/images/train/batch2_busan_unberthing_REAR.mp4_image_00000006.jpg\n"
     ]
    },
    {
     "name": "stderr",
     "output_type": "stream",
     "text": [
      "13it [00:01,  9.55it/s]"
     ]
    },
    {
     "name": "stdout",
     "output_type": "stream",
     "text": [
      "Done. Image saved to ../../avikus-data/images/train/batch2_busan_unberthing_REAR.mp4_image_00000007.jpg\n",
      "Done. Image saved to ../../avikus-data/images/train/batch2_busan_unberthing_REAR.mp4_image_00000001.jpg\n",
      "Done. Image saved to ../../avikus-data/images/train/batch2_busan_unberthing_REAR.mp4_image_00000002.jpg\n",
      "Done. Image saved to ../../avikus-data/images/train/batch2_busan_unberthing_REAR.mp4_image_00000008.jpg\n",
      "Done. Image saved to ../../avikus-data/images/train/batch2_busan_unberthing_REAR.mp4_image_00000009.jpg\n",
      "Done. Image saved to ../../avikus-data/images/train/batch2_wangsan_data_08m00s~08m30s_230426_ws_blindleft.mp4_image_00000010.jpg\n",
      "Done. Image saved to ../../avikus-data/images/train/batch2_wangsan_data_08m00s~08m30s_230426_ws_blindleft.mp4_image_00000003.jpg\n",
      "Done. Image saved to ../../avikus-data/images/train/batch2_wangsan_data_08m00s~08m30s_230426_ws_blindleft.mp4_image_00000014.jpg\n",
      "Done. Image saved to ../../avikus-data/images/train/batch2_wangsan_data_08m00s~08m30s_230426_ws_blindleft.mp4_image_00000012.jpg\n",
      "Done. Image saved to ../../avikus-data/images/train/batch2_wangsan_data_08m00s~08m30s_230426_ws_blindleft.mp4_image_00000015.jpg\n",
      "Done. Image saved to ../../avikus-data/images/train/batch2_wangsan_data_08m00s~08m30s_230426_ws_blindleft.mp4_image_00000004.jpg\n",
      "Done. Image saved to ../../avikus-data/images/train/batch2_wangsan_data_08m00s~08m30s_230426_ws_blindleft.mp4_image_00000005.jpg\n",
      "Done. Image saved to ../../avikus-data/images/train/batch2_wangsan_data_08m00s~08m30s_230426_ws_blindleft.mp4_image_00000013.jpg\n",
      "Done. Image saved to ../../avikus-data/images/train/batch2_wangsan_data_08m00s~08m30s_230426_ws_blindleft.mp4_image_00000006.jpg\n",
      "Done. Image saved to ../../avikus-data/images/train/batch2_wangsan_data_08m00s~08m30s_230426_ws_blindleft.mp4_image_00000007.jpg\n",
      "Done. Image saved to ../../avikus-data/images/train/batch2_wangsan_data_08m00s~08m30s_230426_ws_blindleft.mp4_image_00000001.jpg\n",
      "Done. Image saved to ../../avikus-data/images/train/batch2_wangsan_data_08m00s~08m30s_230426_ws_blindleft.mp4_image_00000016.jpg\n"
     ]
    },
    {
     "name": "stderr",
     "output_type": "stream",
     "text": [
      "18it [00:02,  7.34it/s]"
     ]
    },
    {
     "name": "stdout",
     "output_type": "stream",
     "text": [
      "Done. Image saved to ../../avikus-data/images/train/batch2_wangsan_data_08m00s~08m30s_230426_ws_blindleft.mp4_image_00000002.jpg\n",
      "Done. Image saved to ../../avikus-data/images/train/batch2_wangsan_data_08m00s~08m30s_230426_ws_blindleft.mp4_image_00000008.jpg\n",
      "Done. Image saved to ../../avikus-data/images/train/batch2_wangsan_data_08m00s~08m30s_230426_ws_blindleft.mp4_image_00000009.jpg\n",
      "Done. Image saved to ../../avikus-data/images/train/batch2_wangsan_data_08m00s~08m30s_230426_ws_blindleft.mp4_image_00000011.jpg\n",
      "Done. Image saved to ../../avikus-data/images/train/batch2_wangsan_data_01h17m00s~01h17m45s_230511_ws_rear.mp4.mp4_image_00000010.jpg\n",
      "Done. Image saved to ../../avikus-data/images/train/batch2_wangsan_data_01h17m00s~01h17m45s_230511_ws_rear.mp4.mp4_image_00000020.jpg\n",
      "Done. Image saved to ../../avikus-data/images/train/batch2_wangsan_data_01h17m00s~01h17m45s_230511_ws_rear.mp4.mp4_image_00000003.jpg\n",
      "Done. Image saved to ../../avikus-data/images/train/batch2_wangsan_data_01h17m00s~01h17m45s_230511_ws_rear.mp4.mp4_image_00000014.jpg\n",
      "Done. Image saved to ../../avikus-data/images/train/batch2_wangsan_data_01h17m00s~01h17m45s_230511_ws_rear.mp4.mp4_image_00000018.jpg\n",
      "Done. Image saved to ../../avikus-data/images/train/batch2_wangsan_data_01h17m00s~01h17m45s_230511_ws_rear.mp4.mp4_image_00000012.jpg\n",
      "Done. Image saved to ../../avikus-data/images/train/batch2_wangsan_data_01h17m00s~01h17m45s_230511_ws_rear.mp4.mp4_image_00000019.jpg\n",
      "Done. Image saved to ../../avikus-data/images/train/batch2_wangsan_data_01h17m00s~01h17m45s_230511_ws_rear.mp4.mp4_image_00000017.jpg\n",
      "Done. Image saved to ../../avikus-data/images/train/batch2_wangsan_data_01h17m00s~01h17m45s_230511_ws_rear.mp4.mp4_image_00000015.jpg\n",
      "Done. Image saved to ../../avikus-data/images/train/batch2_wangsan_data_01h17m00s~01h17m45s_230511_ws_rear.mp4.mp4_image_00000004.jpg\n",
      "Done. Image saved to ../../avikus-data/images/train/batch2_wangsan_data_01h17m00s~01h17m45s_230511_ws_rear.mp4.mp4_image_00000005.jpg\n",
      "Done. Image saved to ../../avikus-data/images/train/batch2_wangsan_data_01h17m00s~01h17m45s_230511_ws_rear.mp4.mp4_image_00000021.jpg\n",
      "Done. Image saved to ../../avikus-data/images/train/batch2_wangsan_data_01h17m00s~01h17m45s_230511_ws_rear.mp4.mp4_image_00000013.jpg\n",
      "Done. Image saved to ../../avikus-data/images/train/batch2_wangsan_data_01h17m00s~01h17m45s_230511_ws_rear.mp4.mp4_image_00000006.jpg\n",
      "Done. Image saved to ../../avikus-data/images/train/batch2_wangsan_data_01h17m00s~01h17m45s_230511_ws_rear.mp4.mp4_image_00000007.jpg\n",
      "Done. Image saved to ../../avikus-data/images/train/batch2_wangsan_data_01h17m00s~01h17m45s_230511_ws_rear.mp4.mp4_image_00000022.jpg\n",
      "Done. Image saved to ../../avikus-data/images/train/batch2_wangsan_data_01h17m00s~01h17m45s_230511_ws_rear.mp4.mp4_image_00000001.jpg\n",
      "Done. Image saved to ../../avikus-data/images/train/batch2_wangsan_data_01h17m00s~01h17m45s_230511_ws_rear.mp4.mp4_image_00000016.jpg\n",
      "Done. Image saved to ../../avikus-data/images/train/batch2_wangsan_data_01h17m00s~01h17m45s_230511_ws_rear.mp4.mp4_image_00000002.jpg\n",
      "Done. Image saved to ../../avikus-data/images/train/batch2_wangsan_data_01h17m00s~01h17m45s_230511_ws_rear.mp4.mp4_image_00000008.jpg\n",
      "Done. Image saved to ../../avikus-data/images/train/batch2_wangsan_data_01h17m00s~01h17m45s_230511_ws_rear.mp4.mp4_image_00000009.jpg\n",
      "Done. Image saved to ../../avikus-data/images/train/batch2_wangsan_data_01h17m00s~01h17m45s_230511_ws_rear.mp4.mp4_image_00000011.jpg\n"
     ]
    },
    {
     "name": "stderr",
     "output_type": "stream",
     "text": [
      "23it [00:03,  5.06it/s]"
     ]
    },
    {
     "name": "stdout",
     "output_type": "stream",
     "text": [
      "Done. Image saved to ../../avikus-data/images/train/batch2_wangsan_data_01h17m00s~01h17m45s_230511_ws_rear.mp4.mp4_image_00000023.jpg\n",
      "Done. Image saved to ../../avikus-data/images/train/batch2_wangsan_data_09m30s~10m30s_230426_ws_blindright.mp4_image_00000010.jpg\n",
      "Done. Image saved to ../../avikus-data/images/train/batch2_wangsan_data_09m30s~10m30s_230426_ws_blindright.mp4_image_00000020.jpg\n",
      "Done. Image saved to ../../avikus-data/images/train/batch2_wangsan_data_09m30s~10m30s_230426_ws_blindright.mp4_image_00000027.jpg\n",
      "Done. Image saved to ../../avikus-data/images/train/batch2_wangsan_data_09m30s~10m30s_230426_ws_blindright.mp4_image_00000003.jpg\n",
      "Done. Image saved to ../../avikus-data/images/train/batch2_wangsan_data_09m30s~10m30s_230426_ws_blindright.mp4_image_00000014.jpg\n",
      "Done. Image saved to ../../avikus-data/images/train/batch2_wangsan_data_09m30s~10m30s_230426_ws_blindright.mp4_image_00000018.jpg\n",
      "Done. Image saved to ../../avikus-data/images/train/batch2_wangsan_data_09m30s~10m30s_230426_ws_blindright.mp4_image_00000012.jpg\n",
      "Done. Image saved to ../../avikus-data/images/train/batch2_wangsan_data_09m30s~10m30s_230426_ws_blindright.mp4_image_00000019.jpg\n",
      "Done. Image saved to ../../avikus-data/images/train/batch2_wangsan_data_09m30s~10m30s_230426_ws_blindright.mp4_image_00000026.jpg\n",
      "Done. Image saved to ../../avikus-data/images/train/batch2_wangsan_data_09m30s~10m30s_230426_ws_blindright.mp4_image_00000017.jpg\n",
      "Done. Image saved to ../../avikus-data/images/train/batch2_wangsan_data_09m30s~10m30s_230426_ws_blindright.mp4_image_00000015.jpg\n",
      "Done. Image saved to ../../avikus-data/images/train/batch2_wangsan_data_09m30s~10m30s_230426_ws_blindright.mp4_image_00000004.jpg\n",
      "Done. Image saved to ../../avikus-data/images/train/batch2_wangsan_data_09m30s~10m30s_230426_ws_blindright.mp4_image_00000005.jpg\n",
      "Done. Image saved to ../../avikus-data/images/train/batch2_wangsan_data_09m30s~10m30s_230426_ws_blindright.mp4_image_00000021.jpg\n",
      "Done. Image saved to ../../avikus-data/images/train/batch2_wangsan_data_09m30s~10m30s_230426_ws_blindright.mp4_image_00000024.jpg\n",
      "Done. Image saved to ../../avikus-data/images/train/batch2_wangsan_data_09m30s~10m30s_230426_ws_blindright.mp4_image_00000013.jpg\n",
      "Done. Image saved to ../../avikus-data/images/train/batch2_wangsan_data_09m30s~10m30s_230426_ws_blindright.mp4_image_00000031.jpg\n",
      "Done. Image saved to ../../avikus-data/images/train/batch2_wangsan_data_09m30s~10m30s_230426_ws_blindright.mp4_image_00000006.jpg\n",
      "Done. Image saved to ../../avikus-data/images/train/batch2_wangsan_data_09m30s~10m30s_230426_ws_blindright.mp4_image_00000007.jpg\n",
      "Done. Image saved to ../../avikus-data/images/train/batch2_wangsan_data_09m30s~10m30s_230426_ws_blindright.mp4_image_00000022.jpg\n",
      "Done. Image saved to ../../avikus-data/images/train/batch2_wangsan_data_09m30s~10m30s_230426_ws_blindright.mp4_image_00000029.jpg\n",
      "Done. Image saved to ../../avikus-data/images/train/batch2_wangsan_data_09m30s~10m30s_230426_ws_blindright.mp4_image_00000025.jpg\n",
      "Done. Image saved to ../../avikus-data/images/train/batch2_wangsan_data_09m30s~10m30s_230426_ws_blindright.mp4_image_00000001.jpg\n",
      "Done. Image saved to ../../avikus-data/images/train/batch2_wangsan_data_09m30s~10m30s_230426_ws_blindright.mp4_image_00000016.jpg\n",
      "Done. Image saved to ../../avikus-data/images/train/batch2_wangsan_data_09m30s~10m30s_230426_ws_blindright.mp4_image_00000002.jpg\n",
      "Done. Image saved to ../../avikus-data/images/train/batch2_wangsan_data_09m30s~10m30s_230426_ws_blindright.mp4_image_00000028.jpg\n",
      "Done. Image saved to ../../avikus-data/images/train/batch2_wangsan_data_09m30s~10m30s_230426_ws_blindright.mp4_image_00000030.jpg\n"
     ]
    },
    {
     "name": "stderr",
     "output_type": "stream",
     "text": [
      "28it [00:05,  3.94it/s]"
     ]
    },
    {
     "name": "stdout",
     "output_type": "stream",
     "text": [
      "Done. Image saved to ../../avikus-data/images/train/batch2_wangsan_data_09m30s~10m30s_230426_ws_blindright.mp4_image_00000008.jpg\n",
      "Done. Image saved to ../../avikus-data/images/train/batch2_wangsan_data_09m30s~10m30s_230426_ws_blindright.mp4_image_00000009.jpg\n",
      "Done. Image saved to ../../avikus-data/images/train/batch2_wangsan_data_09m30s~10m30s_230426_ws_blindright.mp4_image_00000011.jpg\n",
      "Done. Image saved to ../../avikus-data/images/train/batch2_wangsan_data_09m30s~10m30s_230426_ws_blindright.mp4_image_00000023.jpg\n",
      "Done. Image saved to ../../avikus-data/images/train/batch2_wangsan_data_00h02m45s~00h03m45s_230511_ws_right.mp4.mp4_image_00000010.jpg\n",
      "Done. Image saved to ../../avikus-data/images/train/batch2_wangsan_data_00h02m45s~00h03m45s_230511_ws_right.mp4.mp4_image_00000020.jpg\n",
      "Done. Image saved to ../../avikus-data/images/train/batch2_wangsan_data_00h02m45s~00h03m45s_230511_ws_right.mp4.mp4_image_00000027.jpg\n",
      "Done. Image saved to ../../avikus-data/images/train/batch2_wangsan_data_00h02m45s~00h03m45s_230511_ws_right.mp4.mp4_image_00000003.jpg\n",
      "Done. Image saved to ../../avikus-data/images/train/batch2_wangsan_data_00h02m45s~00h03m45s_230511_ws_right.mp4.mp4_image_00000014.jpg\n",
      "Done. Image saved to ../../avikus-data/images/train/batch2_wangsan_data_00h02m45s~00h03m45s_230511_ws_right.mp4.mp4_image_00000018.jpg\n",
      "Done. Image saved to ../../avikus-data/images/train/batch2_wangsan_data_00h02m45s~00h03m45s_230511_ws_right.mp4.mp4_image_00000012.jpg\n",
      "Done. Image saved to ../../avikus-data/images/train/batch2_wangsan_data_00h02m45s~00h03m45s_230511_ws_right.mp4.mp4_image_00000019.jpg\n",
      "Done. Image saved to ../../avikus-data/images/train/batch2_wangsan_data_00h02m45s~00h03m45s_230511_ws_right.mp4.mp4_image_00000026.jpg\n",
      "Done. Image saved to ../../avikus-data/images/train/batch2_wangsan_data_00h02m45s~00h03m45s_230511_ws_right.mp4.mp4_image_00000017.jpg\n",
      "Done. Image saved to ../../avikus-data/images/train/batch2_wangsan_data_00h02m45s~00h03m45s_230511_ws_right.mp4.mp4_image_00000015.jpg\n",
      "Done. Image saved to ../../avikus-data/images/train/batch2_wangsan_data_00h02m45s~00h03m45s_230511_ws_right.mp4.mp4_image_00000004.jpg\n",
      "Done. Image saved to ../../avikus-data/images/train/batch2_wangsan_data_00h02m45s~00h03m45s_230511_ws_right.mp4.mp4_image_00000005.jpg\n",
      "Done. Image saved to ../../avikus-data/images/train/batch2_wangsan_data_00h02m45s~00h03m45s_230511_ws_right.mp4.mp4_image_00000021.jpg\n",
      "Done. Image saved to ../../avikus-data/images/train/batch2_wangsan_data_00h02m45s~00h03m45s_230511_ws_right.mp4.mp4_image_00000024.jpg\n",
      "Done. Image saved to ../../avikus-data/images/train/batch2_wangsan_data_00h02m45s~00h03m45s_230511_ws_right.mp4.mp4_image_00000013.jpg\n",
      "Done. Image saved to ../../avikus-data/images/train/batch2_wangsan_data_00h02m45s~00h03m45s_230511_ws_right.mp4.mp4_image_00000031.jpg\n",
      "Done. Image saved to ../../avikus-data/images/train/batch2_wangsan_data_00h02m45s~00h03m45s_230511_ws_right.mp4.mp4_image_00000006.jpg\n",
      "Done. Image saved to ../../avikus-data/images/train/batch2_wangsan_data_00h02m45s~00h03m45s_230511_ws_right.mp4.mp4_image_00000007.jpg\n",
      "Done. Image saved to ../../avikus-data/images/train/batch2_wangsan_data_00h02m45s~00h03m45s_230511_ws_right.mp4.mp4_image_00000022.jpg\n",
      "Done. Image saved to ../../avikus-data/images/train/batch2_wangsan_data_00h02m45s~00h03m45s_230511_ws_right.mp4.mp4_image_00000029.jpg\n",
      "Done. Image saved to ../../avikus-data/images/train/batch2_wangsan_data_00h02m45s~00h03m45s_230511_ws_right.mp4.mp4_image_00000025.jpg\n",
      "Done. Image saved to ../../avikus-data/images/train/batch2_wangsan_data_00h02m45s~00h03m45s_230511_ws_right.mp4.mp4_image_00000001.jpg\n",
      "Done. Image saved to ../../avikus-data/images/train/batch2_wangsan_data_00h02m45s~00h03m45s_230511_ws_right.mp4.mp4_image_00000016.jpg\n",
      "Done. Image saved to ../../avikus-data/images/train/batch2_wangsan_data_00h02m45s~00h03m45s_230511_ws_right.mp4.mp4_image_00000002.jpg\n",
      "Done. Image saved to ../../avikus-data/images/train/batch2_wangsan_data_00h02m45s~00h03m45s_230511_ws_right.mp4.mp4_image_00000028.jpg\n",
      "Done. Image saved to ../../avikus-data/images/train/batch2_wangsan_data_00h02m45s~00h03m45s_230511_ws_right.mp4.mp4_image_00000030.jpg\n",
      "Done. Image saved to ../../avikus-data/images/train/batch2_wangsan_data_00h02m45s~00h03m45s_230511_ws_right.mp4.mp4_image_00000008.jpg\n",
      "Done. Image saved to ../../avikus-data/images/train/batch2_wangsan_data_00h02m45s~00h03m45s_230511_ws_right.mp4.mp4_image_00000009.jpg\n",
      "Done. Image saved to ../../avikus-data/images/train/batch2_wangsan_data_00h02m45s~00h03m45s_230511_ws_right.mp4.mp4_image_00000011.jpg\n"
     ]
    },
    {
     "name": "stderr",
     "output_type": "stream",
     "text": [
      "33it [00:07,  3.29it/s]"
     ]
    },
    {
     "name": "stdout",
     "output_type": "stream",
     "text": [
      "Done. Image saved to ../../avikus-data/images/train/batch2_wangsan_data_00h02m45s~00h03m45s_230511_ws_right.mp4.mp4_image_00000023.jpg\n",
      "Done. Image saved to ../../avikus-data/images/train/batch2_wangsan_data_00h01m45s~00h02m45s_230511_ws_blindright.mp4.mp4_image_00000010.jpg\n",
      "Done. Image saved to ../../avikus-data/images/train/batch2_wangsan_data_00h01m45s~00h02m45s_230511_ws_blindright.mp4.mp4_image_00000020.jpg\n",
      "Done. Image saved to ../../avikus-data/images/train/batch2_wangsan_data_00h01m45s~00h02m45s_230511_ws_blindright.mp4.mp4_image_00000027.jpg\n",
      "Done. Image saved to ../../avikus-data/images/train/batch2_wangsan_data_00h01m45s~00h02m45s_230511_ws_blindright.mp4.mp4_image_00000003.jpg\n",
      "Done. Image saved to ../../avikus-data/images/train/batch2_wangsan_data_00h01m45s~00h02m45s_230511_ws_blindright.mp4.mp4_image_00000014.jpg\n",
      "Done. Image saved to ../../avikus-data/images/train/batch2_wangsan_data_00h01m45s~00h02m45s_230511_ws_blindright.mp4.mp4_image_00000018.jpg\n",
      "Done. Image saved to ../../avikus-data/images/train/batch2_wangsan_data_00h01m45s~00h02m45s_230511_ws_blindright.mp4.mp4_image_00000012.jpg\n",
      "Done. Image saved to ../../avikus-data/images/train/batch2_wangsan_data_00h01m45s~00h02m45s_230511_ws_blindright.mp4.mp4_image_00000019.jpg\n",
      "Done. Image saved to ../../avikus-data/images/train/batch2_wangsan_data_00h01m45s~00h02m45s_230511_ws_blindright.mp4.mp4_image_00000026.jpg\n",
      "Done. Image saved to ../../avikus-data/images/train/batch2_wangsan_data_00h01m45s~00h02m45s_230511_ws_blindright.mp4.mp4_image_00000017.jpg\n",
      "Done. Image saved to ../../avikus-data/images/train/batch2_wangsan_data_00h01m45s~00h02m45s_230511_ws_blindright.mp4.mp4_image_00000015.jpg\n",
      "Done. Image saved to ../../avikus-data/images/train/batch2_wangsan_data_00h01m45s~00h02m45s_230511_ws_blindright.mp4.mp4_image_00000004.jpg\n",
      "Done. Image saved to ../../avikus-data/images/train/batch2_wangsan_data_00h01m45s~00h02m45s_230511_ws_blindright.mp4.mp4_image_00000005.jpg\n",
      "Done. Image saved to ../../avikus-data/images/train/batch2_wangsan_data_00h01m45s~00h02m45s_230511_ws_blindright.mp4.mp4_image_00000021.jpg\n",
      "Done. Image saved to ../../avikus-data/images/train/batch2_wangsan_data_00h01m45s~00h02m45s_230511_ws_blindright.mp4.mp4_image_00000024.jpg\n",
      "Done. Image saved to ../../avikus-data/images/train/batch2_wangsan_data_00h01m45s~00h02m45s_230511_ws_blindright.mp4.mp4_image_00000013.jpg\n",
      "Done. Image saved to ../../avikus-data/images/train/batch2_wangsan_data_00h01m45s~00h02m45s_230511_ws_blindright.mp4.mp4_image_00000031.jpg\n",
      "Done. Image saved to ../../avikus-data/images/train/batch2_wangsan_data_00h01m45s~00h02m45s_230511_ws_blindright.mp4.mp4_image_00000006.jpg\n",
      "Done. Image saved to ../../avikus-data/images/train/batch2_wangsan_data_00h01m45s~00h02m45s_230511_ws_blindright.mp4.mp4_image_00000007.jpg\n",
      "Done. Image saved to ../../avikus-data/images/train/batch2_wangsan_data_00h01m45s~00h02m45s_230511_ws_blindright.mp4.mp4_image_00000022.jpg\n",
      "Done. Image saved to ../../avikus-data/images/train/batch2_wangsan_data_00h01m45s~00h02m45s_230511_ws_blindright.mp4.mp4_image_00000029.jpg\n",
      "Done. Image saved to ../../avikus-data/images/train/batch2_wangsan_data_00h01m45s~00h02m45s_230511_ws_blindright.mp4.mp4_image_00000025.jpg\n",
      "Done. Image saved to ../../avikus-data/images/train/batch2_wangsan_data_00h01m45s~00h02m45s_230511_ws_blindright.mp4.mp4_image_00000001.jpg\n",
      "Done. Image saved to ../../avikus-data/images/train/batch2_wangsan_data_00h01m45s~00h02m45s_230511_ws_blindright.mp4.mp4_image_00000016.jpg\n",
      "Done. Image saved to ../../avikus-data/images/train/batch2_wangsan_data_00h01m45s~00h02m45s_230511_ws_blindright.mp4.mp4_image_00000002.jpg\n",
      "Done. Image saved to ../../avikus-data/images/train/batch2_wangsan_data_00h01m45s~00h02m45s_230511_ws_blindright.mp4.mp4_image_00000028.jpg\n",
      "Done. Image saved to ../../avikus-data/images/train/batch2_wangsan_data_00h01m45s~00h02m45s_230511_ws_blindright.mp4.mp4_image_00000030.jpg\n"
     ]
    },
    {
     "name": "stderr",
     "output_type": "stream",
     "text": [
      "38it [00:09,  3.14it/s]"
     ]
    },
    {
     "name": "stdout",
     "output_type": "stream",
     "text": [
      "Done. Image saved to ../../avikus-data/images/train/batch2_wangsan_data_00h01m45s~00h02m45s_230511_ws_blindright.mp4.mp4_image_00000008.jpg\n",
      "Done. Image saved to ../../avikus-data/images/train/batch2_wangsan_data_00h01m45s~00h02m45s_230511_ws_blindright.mp4.mp4_image_00000009.jpg\n",
      "Done. Image saved to ../../avikus-data/images/train/batch2_wangsan_data_00h01m45s~00h02m45s_230511_ws_blindright.mp4.mp4_image_00000011.jpg\n",
      "Done. Image saved to ../../avikus-data/images/train/batch2_wangsan_data_00h01m45s~00h02m45s_230511_ws_blindright.mp4.mp4_image_00000023.jpg\n",
      "Done. Image saved to ../../avikus-data/images/train/batch2_UK_data_record_run_2_00m40s~01m22s_video_leftblind.mp4_image_00000010.jpg\n",
      "Done. Image saved to ../../avikus-data/images/train/batch2_UK_data_record_run_2_00m40s~01m22s_video_leftblind.mp4_image_00000020.jpg\n",
      "Done. Image saved to ../../avikus-data/images/train/batch2_UK_data_record_run_2_00m40s~01m22s_video_leftblind.mp4_image_00000003.jpg\n",
      "Done. Image saved to ../../avikus-data/images/train/batch2_UK_data_record_run_2_00m40s~01m22s_video_leftblind.mp4_image_00000014.jpg\n",
      "Done. Image saved to ../../avikus-data/images/train/batch2_UK_data_record_run_2_00m40s~01m22s_video_leftblind.mp4_image_00000018.jpg\n",
      "Done. Image saved to ../../avikus-data/images/train/batch2_UK_data_record_run_2_00m40s~01m22s_video_leftblind.mp4_image_00000012.jpg\n",
      "Done. Image saved to ../../avikus-data/images/train/batch2_UK_data_record_run_2_00m40s~01m22s_video_leftblind.mp4_image_00000019.jpg\n",
      "Done. Image saved to ../../avikus-data/images/train/batch2_UK_data_record_run_2_00m40s~01m22s_video_leftblind.mp4_image_00000017.jpg\n",
      "Done. Image saved to ../../avikus-data/images/train/batch2_UK_data_record_run_2_00m40s~01m22s_video_leftblind.mp4_image_00000015.jpg\n",
      "Done. Image saved to ../../avikus-data/images/train/batch2_UK_data_record_run_2_00m40s~01m22s_video_leftblind.mp4_image_00000004.jpg\n",
      "Done. Image saved to ../../avikus-data/images/train/batch2_UK_data_record_run_2_00m40s~01m22s_video_leftblind.mp4_image_00000005.jpg\n",
      "Done. Image saved to ../../avikus-data/images/train/batch2_UK_data_record_run_2_00m40s~01m22s_video_leftblind.mp4_image_00000021.jpg\n",
      "Done. Image saved to ../../avikus-data/images/train/batch2_UK_data_record_run_2_00m40s~01m22s_video_leftblind.mp4_image_00000013.jpg\n",
      "Done. Image saved to ../../avikus-data/images/train/batch2_UK_data_record_run_2_00m40s~01m22s_video_leftblind.mp4_image_00000006.jpg\n",
      "Done. Image saved to ../../avikus-data/images/train/batch2_UK_data_record_run_2_00m40s~01m22s_video_leftblind.mp4_image_00000007.jpg\n",
      "Done. Image saved to ../../avikus-data/images/train/batch2_UK_data_record_run_2_00m40s~01m22s_video_leftblind.mp4_image_00000022.jpg\n",
      "Done. Image saved to ../../avikus-data/images/train/batch2_UK_data_record_run_2_00m40s~01m22s_video_leftblind.mp4_image_00000016.jpg\n",
      "Done. Image saved to ../../avikus-data/images/train/batch2_UK_data_record_run_2_00m40s~01m22s_video_leftblind.mp4_image_00000002.jpg\n",
      "Done. Image saved to ../../avikus-data/images/train/batch2_UK_data_record_run_2_00m40s~01m22s_video_leftblind.mp4_image_00000008.jpg\n",
      "Done. Image saved to ../../avikus-data/images/train/batch2_UK_data_record_run_2_00m40s~01m22s_video_leftblind.mp4_image_00000009.jpg\n"
     ]
    },
    {
     "name": "stderr",
     "output_type": "stream",
     "text": [
      "43it [00:10,  3.41it/s]"
     ]
    },
    {
     "name": "stdout",
     "output_type": "stream",
     "text": [
      "Done. Image saved to ../../avikus-data/images/train/batch2_UK_data_record_run_2_00m40s~01m22s_video_leftblind.mp4_image_00000011.jpg\n",
      "Done. Image saved to ../../avikus-data/images/train/batch2_busan_unberthing_PORT.mp4_image_00000010.jpg\n",
      "Done. Image saved to ../../avikus-data/images/train/batch2_busan_unberthing_PORT.mp4_image_00000003.jpg\n",
      "Done. Image saved to ../../avikus-data/images/train/batch2_busan_unberthing_PORT.mp4_image_00000004.jpg\n",
      "Done. Image saved to ../../avikus-data/images/train/batch2_busan_unberthing_PORT.mp4_image_00000005.jpg\n",
      "Done. Image saved to ../../avikus-data/images/train/batch2_busan_unberthing_PORT.mp4_image_00000006.jpg\n"
     ]
    },
    {
     "name": "stderr",
     "output_type": "stream",
     "text": [
      "48it [00:10,  4.45it/s]"
     ]
    },
    {
     "name": "stdout",
     "output_type": "stream",
     "text": [
      "Done. Image saved to ../../avikus-data/images/train/batch2_busan_unberthing_PORT.mp4_image_00000007.jpg\n",
      "Done. Image saved to ../../avikus-data/images/train/batch2_busan_unberthing_PORT.mp4_image_00000001.jpg\n",
      "Done. Image saved to ../../avikus-data/images/train/batch2_busan_unberthing_PORT.mp4_image_00000002.jpg\n",
      "Done. Image saved to ../../avikus-data/images/train/batch2_busan_unberthing_PORT.mp4_image_00000008.jpg\n",
      "Done. Image saved to ../../avikus-data/images/train/batch2_busan_unberthing_PORT.mp4_image_00000009.jpg\n",
      "Done. Image saved to ../../avikus-data/images/train/batch2_wangsan_data_21m45s~22m15s_230426_ws_right.mp4_image_00000010.jpg\n",
      "Done. Image saved to ../../avikus-data/images/train/batch2_wangsan_data_21m45s~22m15s_230426_ws_right.mp4_image_00000003.jpg\n",
      "Done. Image saved to ../../avikus-data/images/train/batch2_wangsan_data_21m45s~22m15s_230426_ws_right.mp4_image_00000014.jpg\n",
      "Done. Image saved to ../../avikus-data/images/train/batch2_wangsan_data_21m45s~22m15s_230426_ws_right.mp4_image_00000012.jpg\n",
      "Done. Image saved to ../../avikus-data/images/train/batch2_wangsan_data_21m45s~22m15s_230426_ws_right.mp4_image_00000015.jpg\n",
      "Done. Image saved to ../../avikus-data/images/train/batch2_wangsan_data_21m45s~22m15s_230426_ws_right.mp4_image_00000004.jpg\n",
      "Done. Image saved to ../../avikus-data/images/train/batch2_wangsan_data_21m45s~22m15s_230426_ws_right.mp4_image_00000005.jpg\n",
      "Done. Image saved to ../../avikus-data/images/train/batch2_wangsan_data_21m45s~22m15s_230426_ws_right.mp4_image_00000013.jpg\n",
      "Done. Image saved to ../../avikus-data/images/train/batch2_wangsan_data_21m45s~22m15s_230426_ws_right.mp4_image_00000006.jpg\n",
      "Done. Image saved to ../../avikus-data/images/train/batch2_wangsan_data_21m45s~22m15s_230426_ws_right.mp4_image_00000007.jpg\n",
      "Done. Image saved to ../../avikus-data/images/train/batch2_wangsan_data_21m45s~22m15s_230426_ws_right.mp4_image_00000001.jpg\n",
      "Done. Image saved to ../../avikus-data/images/train/batch2_wangsan_data_21m45s~22m15s_230426_ws_right.mp4_image_00000016.jpg\n",
      "Done. Image saved to ../../avikus-data/images/train/batch2_wangsan_data_21m45s~22m15s_230426_ws_right.mp4_image_00000002.jpg\n",
      "Done. Image saved to ../../avikus-data/images/train/batch2_wangsan_data_21m45s~22m15s_230426_ws_right.mp4_image_00000008.jpg\n",
      "Done. Image saved to ../../avikus-data/images/train/batch2_wangsan_data_21m45s~22m15s_230426_ws_right.mp4_image_00000009.jpg\n"
     ]
    },
    {
     "name": "stderr",
     "output_type": "stream",
     "text": [
      "53it [00:12,  4.50it/s]"
     ]
    },
    {
     "name": "stdout",
     "output_type": "stream",
     "text": [
      "Done. Image saved to ../../avikus-data/images/train/batch2_wangsan_data_21m45s~22m15s_230426_ws_right.mp4_image_00000011.jpg\n",
      "Done. Image saved to ../../avikus-data/images/train/batch2_wangsan_data_00h51m00s~00h51m30s_230511_ws_front.mp4.mp4_image_00000010.jpg\n",
      "Done. Image saved to ../../avikus-data/images/train/batch2_wangsan_data_00h51m00s~00h51m30s_230511_ws_front.mp4.mp4_image_00000003.jpg\n",
      "Done. Image saved to ../../avikus-data/images/train/batch2_wangsan_data_00h51m00s~00h51m30s_230511_ws_front.mp4.mp4_image_00000014.jpg\n",
      "Done. Image saved to ../../avikus-data/images/train/batch2_wangsan_data_00h51m00s~00h51m30s_230511_ws_front.mp4.mp4_image_00000012.jpg\n",
      "Done. Image saved to ../../avikus-data/images/train/batch2_wangsan_data_00h51m00s~00h51m30s_230511_ws_front.mp4.mp4_image_00000015.jpg\n",
      "Done. Image saved to ../../avikus-data/images/train/batch2_wangsan_data_00h51m00s~00h51m30s_230511_ws_front.mp4.mp4_image_00000004.jpg\n",
      "Done. Image saved to ../../avikus-data/images/train/batch2_wangsan_data_00h51m00s~00h51m30s_230511_ws_front.mp4.mp4_image_00000005.jpg\n",
      "Done. Image saved to ../../avikus-data/images/train/batch2_wangsan_data_00h51m00s~00h51m30s_230511_ws_front.mp4.mp4_image_00000013.jpg\n",
      "Done. Image saved to ../../avikus-data/images/train/batch2_wangsan_data_00h51m00s~00h51m30s_230511_ws_front.mp4.mp4_image_00000006.jpg\n",
      "Done. Image saved to ../../avikus-data/images/train/batch2_wangsan_data_00h51m00s~00h51m30s_230511_ws_front.mp4.mp4_image_00000007.jpg\n",
      "Done. Image saved to ../../avikus-data/images/train/batch2_wangsan_data_00h51m00s~00h51m30s_230511_ws_front.mp4.mp4_image_00000001.jpg\n",
      "Done. Image saved to ../../avikus-data/images/train/batch2_wangsan_data_00h51m00s~00h51m30s_230511_ws_front.mp4.mp4_image_00000016.jpg\n",
      "Done. Image saved to ../../avikus-data/images/train/batch2_wangsan_data_00h51m00s~00h51m30s_230511_ws_front.mp4.mp4_image_00000002.jpg\n",
      "Done. Image saved to ../../avikus-data/images/train/batch2_wangsan_data_00h51m00s~00h51m30s_230511_ws_front.mp4.mp4_image_00000008.jpg\n",
      "Done. Image saved to ../../avikus-data/images/train/batch2_wangsan_data_00h51m00s~00h51m30s_230511_ws_front.mp4.mp4_image_00000009.jpg\n"
     ]
    },
    {
     "name": "stderr",
     "output_type": "stream",
     "text": [
      "58it [00:12,  4.85it/s]"
     ]
    },
    {
     "name": "stdout",
     "output_type": "stream",
     "text": [
      "Done. Image saved to ../../avikus-data/images/train/batch2_wangsan_data_00h51m00s~00h51m30s_230511_ws_front.mp4.mp4_image_00000011.jpg\n",
      "Done. Image saved to ../../avikus-data/images/train/batch2_wangsan_data_01m00s~02m00s_230426_ws_right.mp4_image_00000010.jpg\n",
      "Done. Image saved to ../../avikus-data/images/train/batch2_wangsan_data_01m00s~02m00s_230426_ws_right.mp4_image_00000020.jpg\n",
      "Done. Image saved to ../../avikus-data/images/train/batch2_wangsan_data_01m00s~02m00s_230426_ws_right.mp4_image_00000027.jpg\n",
      "Done. Image saved to ../../avikus-data/images/train/batch2_wangsan_data_01m00s~02m00s_230426_ws_right.mp4_image_00000003.jpg\n",
      "Done. Image saved to ../../avikus-data/images/train/batch2_wangsan_data_01m00s~02m00s_230426_ws_right.mp4_image_00000014.jpg\n",
      "Done. Image saved to ../../avikus-data/images/train/batch2_wangsan_data_01m00s~02m00s_230426_ws_right.mp4_image_00000018.jpg\n",
      "Done. Image saved to ../../avikus-data/images/train/batch2_wangsan_data_01m00s~02m00s_230426_ws_right.mp4_image_00000012.jpg\n",
      "Done. Image saved to ../../avikus-data/images/train/batch2_wangsan_data_01m00s~02m00s_230426_ws_right.mp4_image_00000019.jpg\n",
      "Done. Image saved to ../../avikus-data/images/train/batch2_wangsan_data_01m00s~02m00s_230426_ws_right.mp4_image_00000026.jpg\n",
      "Done. Image saved to ../../avikus-data/images/train/batch2_wangsan_data_01m00s~02m00s_230426_ws_right.mp4_image_00000017.jpg\n",
      "Done. Image saved to ../../avikus-data/images/train/batch2_wangsan_data_01m00s~02m00s_230426_ws_right.mp4_image_00000015.jpg\n",
      "Done. Image saved to ../../avikus-data/images/train/batch2_wangsan_data_01m00s~02m00s_230426_ws_right.mp4_image_00000004.jpg\n",
      "Done. Image saved to ../../avikus-data/images/train/batch2_wangsan_data_01m00s~02m00s_230426_ws_right.mp4_image_00000005.jpg\n",
      "Done. Image saved to ../../avikus-data/images/train/batch2_wangsan_data_01m00s~02m00s_230426_ws_right.mp4_image_00000021.jpg\n",
      "Done. Image saved to ../../avikus-data/images/train/batch2_wangsan_data_01m00s~02m00s_230426_ws_right.mp4_image_00000024.jpg\n",
      "Done. Image saved to ../../avikus-data/images/train/batch2_wangsan_data_01m00s~02m00s_230426_ws_right.mp4_image_00000013.jpg\n",
      "Done. Image saved to ../../avikus-data/images/train/batch2_wangsan_data_01m00s~02m00s_230426_ws_right.mp4_image_00000031.jpg\n",
      "Done. Image saved to ../../avikus-data/images/train/batch2_wangsan_data_01m00s~02m00s_230426_ws_right.mp4_image_00000006.jpg\n",
      "Done. Image saved to ../../avikus-data/images/train/batch2_wangsan_data_01m00s~02m00s_230426_ws_right.mp4_image_00000007.jpg\n",
      "Done. Image saved to ../../avikus-data/images/train/batch2_wangsan_data_01m00s~02m00s_230426_ws_right.mp4_image_00000022.jpg\n",
      "Done. Image saved to ../../avikus-data/images/train/batch2_wangsan_data_01m00s~02m00s_230426_ws_right.mp4_image_00000029.jpg\n",
      "Done. Image saved to ../../avikus-data/images/train/batch2_wangsan_data_01m00s~02m00s_230426_ws_right.mp4_image_00000025.jpg\n",
      "Done. Image saved to ../../avikus-data/images/train/batch2_wangsan_data_01m00s~02m00s_230426_ws_right.mp4_image_00000001.jpg\n",
      "Done. Image saved to ../../avikus-data/images/train/batch2_wangsan_data_01m00s~02m00s_230426_ws_right.mp4_image_00000016.jpg\n",
      "Done. Image saved to ../../avikus-data/images/train/batch2_wangsan_data_01m00s~02m00s_230426_ws_right.mp4_image_00000002.jpg\n",
      "Done. Image saved to ../../avikus-data/images/train/batch2_wangsan_data_01m00s~02m00s_230426_ws_right.mp4_image_00000028.jpg\n",
      "Done. Image saved to ../../avikus-data/images/train/batch2_wangsan_data_01m00s~02m00s_230426_ws_right.mp4_image_00000030.jpg\n",
      "Done. Image saved to ../../avikus-data/images/train/batch2_wangsan_data_01m00s~02m00s_230426_ws_right.mp4_image_00000008.jpg\n",
      "Done. Image saved to ../../avikus-data/images/train/batch2_wangsan_data_01m00s~02m00s_230426_ws_right.mp4_image_00000009.jpg\n",
      "Done. Image saved to ../../avikus-data/images/train/batch2_wangsan_data_01m00s~02m00s_230426_ws_right.mp4_image_00000011.jpg\n"
     ]
    },
    {
     "name": "stderr",
     "output_type": "stream",
     "text": [
      "63it [00:14,  3.72it/s]"
     ]
    },
    {
     "name": "stdout",
     "output_type": "stream",
     "text": [
      "Done. Image saved to ../../avikus-data/images/train/batch2_wangsan_data_01m00s~02m00s_230426_ws_right.mp4_image_00000023.jpg\n",
      "Done. Image saved to ../../avikus-data/images/train/batch2_wangsan_data_00h01m45s~00h02m45s_230511_ws_front.mp4.mp4_image_00000010.jpg\n",
      "Done. Image saved to ../../avikus-data/images/train/batch2_wangsan_data_00h01m45s~00h02m45s_230511_ws_front.mp4.mp4_image_00000020.jpg\n",
      "Done. Image saved to ../../avikus-data/images/train/batch2_wangsan_data_00h01m45s~00h02m45s_230511_ws_front.mp4.mp4_image_00000027.jpg\n",
      "Done. Image saved to ../../avikus-data/images/train/batch2_wangsan_data_00h01m45s~00h02m45s_230511_ws_front.mp4.mp4_image_00000003.jpg\n",
      "Done. Image saved to ../../avikus-data/images/train/batch2_wangsan_data_00h01m45s~00h02m45s_230511_ws_front.mp4.mp4_image_00000014.jpg\n",
      "Done. Image saved to ../../avikus-data/images/train/batch2_wangsan_data_00h01m45s~00h02m45s_230511_ws_front.mp4.mp4_image_00000018.jpg\n",
      "Done. Image saved to ../../avikus-data/images/train/batch2_wangsan_data_00h01m45s~00h02m45s_230511_ws_front.mp4.mp4_image_00000012.jpg\n",
      "Done. Image saved to ../../avikus-data/images/train/batch2_wangsan_data_00h01m45s~00h02m45s_230511_ws_front.mp4.mp4_image_00000019.jpg\n",
      "Done. Image saved to ../../avikus-data/images/train/batch2_wangsan_data_00h01m45s~00h02m45s_230511_ws_front.mp4.mp4_image_00000026.jpg\n",
      "Done. Image saved to ../../avikus-data/images/train/batch2_wangsan_data_00h01m45s~00h02m45s_230511_ws_front.mp4.mp4_image_00000017.jpg\n",
      "Done. Image saved to ../../avikus-data/images/train/batch2_wangsan_data_00h01m45s~00h02m45s_230511_ws_front.mp4.mp4_image_00000015.jpg\n",
      "Done. Image saved to ../../avikus-data/images/train/batch2_wangsan_data_00h01m45s~00h02m45s_230511_ws_front.mp4.mp4_image_00000004.jpg\n",
      "Done. Image saved to ../../avikus-data/images/train/batch2_wangsan_data_00h01m45s~00h02m45s_230511_ws_front.mp4.mp4_image_00000005.jpg\n",
      "Done. Image saved to ../../avikus-data/images/train/batch2_wangsan_data_00h01m45s~00h02m45s_230511_ws_front.mp4.mp4_image_00000021.jpg\n",
      "Done. Image saved to ../../avikus-data/images/train/batch2_wangsan_data_00h01m45s~00h02m45s_230511_ws_front.mp4.mp4_image_00000024.jpg\n",
      "Done. Image saved to ../../avikus-data/images/train/batch2_wangsan_data_00h01m45s~00h02m45s_230511_ws_front.mp4.mp4_image_00000013.jpg\n",
      "Done. Image saved to ../../avikus-data/images/train/batch2_wangsan_data_00h01m45s~00h02m45s_230511_ws_front.mp4.mp4_image_00000031.jpg\n",
      "Done. Image saved to ../../avikus-data/images/train/batch2_wangsan_data_00h01m45s~00h02m45s_230511_ws_front.mp4.mp4_image_00000006.jpg\n",
      "Done. Image saved to ../../avikus-data/images/train/batch2_wangsan_data_00h01m45s~00h02m45s_230511_ws_front.mp4.mp4_image_00000007.jpg\n",
      "Done. Image saved to ../../avikus-data/images/train/batch2_wangsan_data_00h01m45s~00h02m45s_230511_ws_front.mp4.mp4_image_00000022.jpg\n",
      "Done. Image saved to ../../avikus-data/images/train/batch2_wangsan_data_00h01m45s~00h02m45s_230511_ws_front.mp4.mp4_image_00000029.jpg\n",
      "Done. Image saved to ../../avikus-data/images/train/batch2_wangsan_data_00h01m45s~00h02m45s_230511_ws_front.mp4.mp4_image_00000025.jpg\n",
      "Done. Image saved to ../../avikus-data/images/train/batch2_wangsan_data_00h01m45s~00h02m45s_230511_ws_front.mp4.mp4_image_00000001.jpg\n",
      "Done. Image saved to ../../avikus-data/images/train/batch2_wangsan_data_00h01m45s~00h02m45s_230511_ws_front.mp4.mp4_image_00000016.jpg\n",
      "Done. Image saved to ../../avikus-data/images/train/batch2_wangsan_data_00h01m45s~00h02m45s_230511_ws_front.mp4.mp4_image_00000002.jpg\n",
      "Done. Image saved to ../../avikus-data/images/train/batch2_wangsan_data_00h01m45s~00h02m45s_230511_ws_front.mp4.mp4_image_00000028.jpg\n",
      "Done. Image saved to ../../avikus-data/images/train/batch2_wangsan_data_00h01m45s~00h02m45s_230511_ws_front.mp4.mp4_image_00000030.jpg\n"
     ]
    },
    {
     "name": "stderr",
     "output_type": "stream",
     "text": [
      "68it [00:16,  3.26it/s]"
     ]
    },
    {
     "name": "stdout",
     "output_type": "stream",
     "text": [
      "Done. Image saved to ../../avikus-data/images/train/batch2_wangsan_data_00h01m45s~00h02m45s_230511_ws_front.mp4.mp4_image_00000008.jpg\n",
      "Done. Image saved to ../../avikus-data/images/train/batch2_wangsan_data_00h01m45s~00h02m45s_230511_ws_front.mp4.mp4_image_00000009.jpg\n",
      "Done. Image saved to ../../avikus-data/images/train/batch2_wangsan_data_00h01m45s~00h02m45s_230511_ws_front.mp4.mp4_image_00000011.jpg\n",
      "Done. Image saved to ../../avikus-data/images/train/batch2_wangsan_data_00h01m45s~00h02m45s_230511_ws_front.mp4.mp4_image_00000023.jpg\n",
      "Done. Image saved to ../../avikus-data/images/train/batch2_busan_unberthing_FRONT2.mp4_image_00000010.jpg\n",
      "Done. Image saved to ../../avikus-data/images/train/batch2_busan_unberthing_FRONT2.mp4_image_00000003.jpg\n",
      "Done. Image saved to ../../avikus-data/images/train/batch2_busan_unberthing_FRONT2.mp4_image_00000004.jpg\n",
      "Done. Image saved to ../../avikus-data/images/train/batch2_busan_unberthing_FRONT2.mp4_image_00000005.jpg\n",
      "Done. Image saved to ../../avikus-data/images/train/batch2_busan_unberthing_FRONT2.mp4_image_00000006.jpg\n",
      "Done. Image saved to ../../avikus-data/images/train/batch2_busan_unberthing_FRONT2.mp4_image_00000007.jpg\n",
      "Done. Image saved to ../../avikus-data/images/train/batch2_busan_unberthing_FRONT2.mp4_image_00000001.jpg\n"
     ]
    },
    {
     "name": "stderr",
     "output_type": "stream",
     "text": [
      "73it [00:17,  4.28it/s]"
     ]
    },
    {
     "name": "stdout",
     "output_type": "stream",
     "text": [
      "Done. Image saved to ../../avikus-data/images/train/batch2_busan_unberthing_FRONT2.mp4_image_00000002.jpg\n",
      "Done. Image saved to ../../avikus-data/images/train/batch2_busan_unberthing_FRONT2.mp4_image_00000008.jpg\n",
      "Done. Image saved to ../../avikus-data/images/train/batch2_busan_unberthing_FRONT2.mp4_image_00000009.jpg\n",
      "Done. Image saved to ../../avikus-data/images/train/batch2_wangsan_data_08m00s~08m30s_230426_ws_blindright.mp4_image_00000010.jpg\n",
      "Done. Image saved to ../../avikus-data/images/train/batch2_wangsan_data_08m00s~08m30s_230426_ws_blindright.mp4_image_00000003.jpg\n",
      "Done. Image saved to ../../avikus-data/images/train/batch2_wangsan_data_08m00s~08m30s_230426_ws_blindright.mp4_image_00000014.jpg\n",
      "Done. Image saved to ../../avikus-data/images/train/batch2_wangsan_data_08m00s~08m30s_230426_ws_blindright.mp4_image_00000012.jpg\n",
      "Done. Image saved to ../../avikus-data/images/train/batch2_wangsan_data_08m00s~08m30s_230426_ws_blindright.mp4_image_00000015.jpg\n",
      "Done. Image saved to ../../avikus-data/images/train/batch2_wangsan_data_08m00s~08m30s_230426_ws_blindright.mp4_image_00000004.jpg\n",
      "Done. Image saved to ../../avikus-data/images/train/batch2_wangsan_data_08m00s~08m30s_230426_ws_blindright.mp4_image_00000005.jpg\n",
      "Done. Image saved to ../../avikus-data/images/train/batch2_wangsan_data_08m00s~08m30s_230426_ws_blindright.mp4_image_00000013.jpg\n",
      "Done. Image saved to ../../avikus-data/images/train/batch2_wangsan_data_08m00s~08m30s_230426_ws_blindright.mp4_image_00000006.jpg\n",
      "Done. Image saved to ../../avikus-data/images/train/batch2_wangsan_data_08m00s~08m30s_230426_ws_blindright.mp4_image_00000007.jpg\n",
      "Done. Image saved to ../../avikus-data/images/train/batch2_wangsan_data_08m00s~08m30s_230426_ws_blindright.mp4_image_00000001.jpg\n",
      "Done. Image saved to ../../avikus-data/images/train/batch2_wangsan_data_08m00s~08m30s_230426_ws_blindright.mp4_image_00000016.jpg\n",
      "Done. Image saved to ../../avikus-data/images/train/batch2_wangsan_data_08m00s~08m30s_230426_ws_blindright.mp4_image_00000002.jpg\n",
      "Done. Image saved to ../../avikus-data/images/train/batch2_wangsan_data_08m00s~08m30s_230426_ws_blindright.mp4_image_00000008.jpg\n"
     ]
    },
    {
     "name": "stderr",
     "output_type": "stream",
     "text": [
      "78it [00:18,  4.50it/s]"
     ]
    },
    {
     "name": "stdout",
     "output_type": "stream",
     "text": [
      "Done. Image saved to ../../avikus-data/images/train/batch2_wangsan_data_08m00s~08m30s_230426_ws_blindright.mp4_image_00000009.jpg\n",
      "Done. Image saved to ../../avikus-data/images/train/batch2_wangsan_data_08m00s~08m30s_230426_ws_blindright.mp4_image_00000011.jpg\n",
      "Done. Image saved to ../../avikus-data/images/train/batch2_wangsan_data_00m00s~00m30s_230426_ws_blindright.mp4_image_00000010.jpg\n",
      "Done. Image saved to ../../avikus-data/images/train/batch2_wangsan_data_00m00s~00m30s_230426_ws_blindright.mp4_image_00000003.jpg\n",
      "Done. Image saved to ../../avikus-data/images/train/batch2_wangsan_data_00m00s~00m30s_230426_ws_blindright.mp4_image_00000014.jpg\n",
      "Done. Image saved to ../../avikus-data/images/train/batch2_wangsan_data_00m00s~00m30s_230426_ws_blindright.mp4_image_00000012.jpg\n",
      "Done. Image saved to ../../avikus-data/images/train/batch2_wangsan_data_00m00s~00m30s_230426_ws_blindright.mp4_image_00000015.jpg\n",
      "Done. Image saved to ../../avikus-data/images/train/batch2_wangsan_data_00m00s~00m30s_230426_ws_blindright.mp4_image_00000004.jpg\n",
      "Done. Image saved to ../../avikus-data/images/train/batch2_wangsan_data_00m00s~00m30s_230426_ws_blindright.mp4_image_00000005.jpg\n",
      "Done. Image saved to ../../avikus-data/images/train/batch2_wangsan_data_00m00s~00m30s_230426_ws_blindright.mp4_image_00000013.jpg\n",
      "Done. Image saved to ../../avikus-data/images/train/batch2_wangsan_data_00m00s~00m30s_230426_ws_blindright.mp4_image_00000006.jpg\n",
      "Done. Image saved to ../../avikus-data/images/train/batch2_wangsan_data_00m00s~00m30s_230426_ws_blindright.mp4_image_00000007.jpg\n",
      "Done. Image saved to ../../avikus-data/images/train/batch2_wangsan_data_00m00s~00m30s_230426_ws_blindright.mp4_image_00000001.jpg\n",
      "Done. Image saved to ../../avikus-data/images/train/batch2_wangsan_data_00m00s~00m30s_230426_ws_blindright.mp4_image_00000016.jpg\n",
      "Done. Image saved to ../../avikus-data/images/train/batch2_wangsan_data_00m00s~00m30s_230426_ws_blindright.mp4_image_00000002.jpg\n",
      "Done. Image saved to ../../avikus-data/images/train/batch2_wangsan_data_00m00s~00m30s_230426_ws_blindright.mp4_image_00000008.jpg\n"
     ]
    },
    {
     "name": "stderr",
     "output_type": "stream",
     "text": [
      "83it [00:19,  4.70it/s]"
     ]
    },
    {
     "name": "stdout",
     "output_type": "stream",
     "text": [
      "Done. Image saved to ../../avikus-data/images/train/batch2_wangsan_data_00m00s~00m30s_230426_ws_blindright.mp4_image_00000009.jpg\n",
      "Done. Image saved to ../../avikus-data/images/train/batch2_wangsan_data_00m00s~00m30s_230426_ws_blindright.mp4_image_00000011.jpg\n",
      "Done. Image saved to ../../avikus-data/images/train/batch2_wangsan_data_00h46m20s~00h46m35s_230511_ws_front.mp4.mp4_image_00000003.jpg\n",
      "Done. Image saved to ../../avikus-data/images/train/batch2_wangsan_data_00h46m20s~00h46m35s_230511_ws_front.mp4.mp4_image_00000004.jpg\n",
      "Done. Image saved to ../../avikus-data/images/train/batch2_wangsan_data_00h46m20s~00h46m35s_230511_ws_front.mp4.mp4_image_00000005.jpg\n",
      "Done. Image saved to ../../avikus-data/images/train/batch2_wangsan_data_00h46m20s~00h46m35s_230511_ws_front.mp4.mp4_image_00000006.jpg\n",
      "Done. Image saved to ../../avikus-data/images/train/batch2_wangsan_data_00h46m20s~00h46m35s_230511_ws_front.mp4.mp4_image_00000007.jpg\n",
      "Done. Image saved to ../../avikus-data/images/train/batch2_wangsan_data_00h46m20s~00h46m35s_230511_ws_front.mp4.mp4_image_00000001.jpg\n"
     ]
    },
    {
     "name": "stderr",
     "output_type": "stream",
     "text": [
      "88it [00:19,  5.66it/s]"
     ]
    },
    {
     "name": "stdout",
     "output_type": "stream",
     "text": [
      "Done. Image saved to ../../avikus-data/images/train/batch2_wangsan_data_00h46m20s~00h46m35s_230511_ws_front.mp4.mp4_image_00000002.jpg\n",
      "Done. Image saved to ../../avikus-data/images/train/batch2_wangsan_data_00h46m20s~00h46m35s_230511_ws_front.mp4.mp4_image_00000008.jpg\n",
      "Done. Image saved to ../../avikus-data/images/train/batch2_wangsan_data_18m00s~18m30s_230426_ws_rear.mp4_image_00000010.jpg\n",
      "Done. Image saved to ../../avikus-data/images/train/batch2_wangsan_data_18m00s~18m30s_230426_ws_rear.mp4_image_00000003.jpg\n",
      "Done. Image saved to ../../avikus-data/images/train/batch2_wangsan_data_18m00s~18m30s_230426_ws_rear.mp4_image_00000014.jpg\n",
      "Done. Image saved to ../../avikus-data/images/train/batch2_wangsan_data_18m00s~18m30s_230426_ws_rear.mp4_image_00000012.jpg\n",
      "Done. Image saved to ../../avikus-data/images/train/batch2_wangsan_data_18m00s~18m30s_230426_ws_rear.mp4_image_00000015.jpg\n",
      "Done. Image saved to ../../avikus-data/images/train/batch2_wangsan_data_18m00s~18m30s_230426_ws_rear.mp4_image_00000004.jpg\n",
      "Done. Image saved to ../../avikus-data/images/train/batch2_wangsan_data_18m00s~18m30s_230426_ws_rear.mp4_image_00000005.jpg\n",
      "Done. Image saved to ../../avikus-data/images/train/batch2_wangsan_data_18m00s~18m30s_230426_ws_rear.mp4_image_00000013.jpg\n",
      "Done. Image saved to ../../avikus-data/images/train/batch2_wangsan_data_18m00s~18m30s_230426_ws_rear.mp4_image_00000006.jpg\n",
      "Done. Image saved to ../../avikus-data/images/train/batch2_wangsan_data_18m00s~18m30s_230426_ws_rear.mp4_image_00000007.jpg\n",
      "Done. Image saved to ../../avikus-data/images/train/batch2_wangsan_data_18m00s~18m30s_230426_ws_rear.mp4_image_00000001.jpg\n",
      "Done. Image saved to ../../avikus-data/images/train/batch2_wangsan_data_18m00s~18m30s_230426_ws_rear.mp4_image_00000016.jpg\n",
      "Done. Image saved to ../../avikus-data/images/train/batch2_wangsan_data_18m00s~18m30s_230426_ws_rear.mp4_image_00000002.jpg\n",
      "Done. Image saved to ../../avikus-data/images/train/batch2_wangsan_data_18m00s~18m30s_230426_ws_rear.mp4_image_00000008.jpg\n"
     ]
    },
    {
     "name": "stderr",
     "output_type": "stream",
     "text": [
      "93it [00:20,  5.49it/s]"
     ]
    },
    {
     "name": "stdout",
     "output_type": "stream",
     "text": [
      "Done. Image saved to ../../avikus-data/images/train/batch2_wangsan_data_18m00s~18m30s_230426_ws_rear.mp4_image_00000009.jpg\n",
      "Done. Image saved to ../../avikus-data/images/train/batch2_wangsan_data_18m00s~18m30s_230426_ws_rear.mp4_image_00000011.jpg\n",
      "Done. Image saved to ../../avikus-data/images/train/batch2_wangsan_data_01m00s~02m00s_230426_ws_left.mp4_image_00000010.jpg\n",
      "Done. Image saved to ../../avikus-data/images/train/batch2_wangsan_data_01m00s~02m00s_230426_ws_left.mp4_image_00000020.jpg\n",
      "Done. Image saved to ../../avikus-data/images/train/batch2_wangsan_data_01m00s~02m00s_230426_ws_left.mp4_image_00000027.jpg\n",
      "Done. Image saved to ../../avikus-data/images/train/batch2_wangsan_data_01m00s~02m00s_230426_ws_left.mp4_image_00000003.jpg\n",
      "Done. Image saved to ../../avikus-data/images/train/batch2_wangsan_data_01m00s~02m00s_230426_ws_left.mp4_image_00000014.jpg\n",
      "Done. Image saved to ../../avikus-data/images/train/batch2_wangsan_data_01m00s~02m00s_230426_ws_left.mp4_image_00000018.jpg\n",
      "Done. Image saved to ../../avikus-data/images/train/batch2_wangsan_data_01m00s~02m00s_230426_ws_left.mp4_image_00000012.jpg\n",
      "Done. Image saved to ../../avikus-data/images/train/batch2_wangsan_data_01m00s~02m00s_230426_ws_left.mp4_image_00000019.jpg\n",
      "Done. Image saved to ../../avikus-data/images/train/batch2_wangsan_data_01m00s~02m00s_230426_ws_left.mp4_image_00000026.jpg\n",
      "Done. Image saved to ../../avikus-data/images/train/batch2_wangsan_data_01m00s~02m00s_230426_ws_left.mp4_image_00000017.jpg\n",
      "Done. Image saved to ../../avikus-data/images/train/batch2_wangsan_data_01m00s~02m00s_230426_ws_left.mp4_image_00000015.jpg\n",
      "Done. Image saved to ../../avikus-data/images/train/batch2_wangsan_data_01m00s~02m00s_230426_ws_left.mp4_image_00000004.jpg\n",
      "Done. Image saved to ../../avikus-data/images/train/batch2_wangsan_data_01m00s~02m00s_230426_ws_left.mp4_image_00000005.jpg\n",
      "Done. Image saved to ../../avikus-data/images/train/batch2_wangsan_data_01m00s~02m00s_230426_ws_left.mp4_image_00000021.jpg\n",
      "Done. Image saved to ../../avikus-data/images/train/batch2_wangsan_data_01m00s~02m00s_230426_ws_left.mp4_image_00000024.jpg\n",
      "Done. Image saved to ../../avikus-data/images/train/batch2_wangsan_data_01m00s~02m00s_230426_ws_left.mp4_image_00000013.jpg\n",
      "Done. Image saved to ../../avikus-data/images/train/batch2_wangsan_data_01m00s~02m00s_230426_ws_left.mp4_image_00000031.jpg\n",
      "Done. Image saved to ../../avikus-data/images/train/batch2_wangsan_data_01m00s~02m00s_230426_ws_left.mp4_image_00000006.jpg\n",
      "Done. Image saved to ../../avikus-data/images/train/batch2_wangsan_data_01m00s~02m00s_230426_ws_left.mp4_image_00000007.jpg\n",
      "Done. Image saved to ../../avikus-data/images/train/batch2_wangsan_data_01m00s~02m00s_230426_ws_left.mp4_image_00000022.jpg\n",
      "Done. Image saved to ../../avikus-data/images/train/batch2_wangsan_data_01m00s~02m00s_230426_ws_left.mp4_image_00000029.jpg\n",
      "Done. Image saved to ../../avikus-data/images/train/batch2_wangsan_data_01m00s~02m00s_230426_ws_left.mp4_image_00000025.jpg\n",
      "Done. Image saved to ../../avikus-data/images/train/batch2_wangsan_data_01m00s~02m00s_230426_ws_left.mp4_image_00000001.jpg\n",
      "Done. Image saved to ../../avikus-data/images/train/batch2_wangsan_data_01m00s~02m00s_230426_ws_left.mp4_image_00000016.jpg\n",
      "Done. Image saved to ../../avikus-data/images/train/batch2_wangsan_data_01m00s~02m00s_230426_ws_left.mp4_image_00000002.jpg\n",
      "Done. Image saved to ../../avikus-data/images/train/batch2_wangsan_data_01m00s~02m00s_230426_ws_left.mp4_image_00000028.jpg\n",
      "Done. Image saved to ../../avikus-data/images/train/batch2_wangsan_data_01m00s~02m00s_230426_ws_left.mp4_image_00000030.jpg\n",
      "Done. Image saved to ../../avikus-data/images/train/batch2_wangsan_data_01m00s~02m00s_230426_ws_left.mp4_image_00000008.jpg\n",
      "Done. Image saved to ../../avikus-data/images/train/batch2_wangsan_data_01m00s~02m00s_230426_ws_left.mp4_image_00000009.jpg\n"
     ]
    },
    {
     "name": "stderr",
     "output_type": "stream",
     "text": [
      "98it [00:22,  4.04it/s]"
     ]
    },
    {
     "name": "stdout",
     "output_type": "stream",
     "text": [
      "Done. Image saved to ../../avikus-data/images/train/batch2_wangsan_data_01m00s~02m00s_230426_ws_left.mp4_image_00000011.jpg\n",
      "Done. Image saved to ../../avikus-data/images/train/batch2_wangsan_data_01m00s~02m00s_230426_ws_left.mp4_image_00000023.jpg\n",
      "Done. Image saved to ../../avikus-data/images/train/batch2_UK_data_record_stbd_berth_3_0m39s_video_front.mp4_image_00000010.jpg\n",
      "Done. Image saved to ../../avikus-data/images/train/batch2_UK_data_record_stbd_berth_3_0m39s_video_front.mp4_image_00000020.jpg\n",
      "Done. Image saved to ../../avikus-data/images/train/batch2_UK_data_record_stbd_berth_3_0m39s_video_front.mp4_image_00000003.jpg\n",
      "Done. Image saved to ../../avikus-data/images/train/batch2_UK_data_record_stbd_berth_3_0m39s_video_front.mp4_image_00000014.jpg\n",
      "Done. Image saved to ../../avikus-data/images/train/batch2_UK_data_record_stbd_berth_3_0m39s_video_front.mp4_image_00000018.jpg\n",
      "Done. Image saved to ../../avikus-data/images/train/batch2_UK_data_record_stbd_berth_3_0m39s_video_front.mp4_image_00000012.jpg\n",
      "Done. Image saved to ../../avikus-data/images/train/batch2_UK_data_record_stbd_berth_3_0m39s_video_front.mp4_image_00000019.jpg\n",
      "Done. Image saved to ../../avikus-data/images/train/batch2_UK_data_record_stbd_berth_3_0m39s_video_front.mp4_image_00000017.jpg\n",
      "Done. Image saved to ../../avikus-data/images/train/batch2_UK_data_record_stbd_berth_3_0m39s_video_front.mp4_image_00000015.jpg\n",
      "Done. Image saved to ../../avikus-data/images/train/batch2_UK_data_record_stbd_berth_3_0m39s_video_front.mp4_image_00000004.jpg\n",
      "Done. Image saved to ../../avikus-data/images/train/batch2_UK_data_record_stbd_berth_3_0m39s_video_front.mp4_image_00000005.jpg\n",
      "Done. Image saved to ../../avikus-data/images/train/batch2_UK_data_record_stbd_berth_3_0m39s_video_front.mp4_image_00000021.jpg\n",
      "Done. Image saved to ../../avikus-data/images/train/batch2_UK_data_record_stbd_berth_3_0m39s_video_front.mp4_image_00000013.jpg\n",
      "Done. Image saved to ../../avikus-data/images/train/batch2_UK_data_record_stbd_berth_3_0m39s_video_front.mp4_image_00000006.jpg\n",
      "Done. Image saved to ../../avikus-data/images/train/batch2_UK_data_record_stbd_berth_3_0m39s_video_front.mp4_image_00000007.jpg\n",
      "Done. Image saved to ../../avikus-data/images/train/batch2_UK_data_record_stbd_berth_3_0m39s_video_front.mp4_image_00000001.jpg\n",
      "Done. Image saved to ../../avikus-data/images/train/batch2_UK_data_record_stbd_berth_3_0m39s_video_front.mp4_image_00000016.jpg\n"
     ]
    },
    {
     "name": "stderr",
     "output_type": "stream",
     "text": [
      "103it [00:23,  4.68it/s]"
     ]
    },
    {
     "name": "stdout",
     "output_type": "stream",
     "text": [
      "Done. Image saved to ../../avikus-data/images/train/batch2_UK_data_record_stbd_berth_3_0m39s_video_front.mp4_image_00000002.jpg\n",
      "Done. Image saved to ../../avikus-data/images/train/batch2_UK_data_record_stbd_berth_3_0m39s_video_front.mp4_image_00000008.jpg\n",
      "Done. Image saved to ../../avikus-data/images/train/batch2_UK_data_record_stbd_berth_3_0m39s_video_front.mp4_image_00000009.jpg\n",
      "Done. Image saved to ../../avikus-data/images/train/batch2_UK_data_record_stbd_berth_3_0m39s_video_front.mp4_image_00000011.jpg\n",
      "Done. Image saved to ../../avikus-data/images/train/batch2_busan_unberthing_STBD.mp4_image_00000010.jpg\n",
      "Done. Image saved to ../../avikus-data/images/train/batch2_busan_unberthing_STBD.mp4_image_00000003.jpg\n",
      "Done. Image saved to ../../avikus-data/images/train/batch2_busan_unberthing_STBD.mp4_image_00000004.jpg\n",
      "Done. Image saved to ../../avikus-data/images/train/batch2_busan_unberthing_STBD.mp4_image_00000005.jpg\n",
      "Done. Image saved to ../../avikus-data/images/train/batch2_busan_unberthing_STBD.mp4_image_00000006.jpg\n",
      "Done. Image saved to ../../avikus-data/images/train/batch2_busan_unberthing_STBD.mp4_image_00000007.jpg\n",
      "Done. Image saved to ../../avikus-data/images/train/batch2_busan_unberthing_STBD.mp4_image_00000001.jpg\n"
     ]
    },
    {
     "name": "stderr",
     "output_type": "stream",
     "text": [
      "108it [00:23,  5.76it/s]"
     ]
    },
    {
     "name": "stdout",
     "output_type": "stream",
     "text": [
      "Done. Image saved to ../../avikus-data/images/train/batch2_busan_unberthing_STBD.mp4_image_00000002.jpg\n",
      "Done. Image saved to ../../avikus-data/images/train/batch2_busan_unberthing_STBD.mp4_image_00000008.jpg\n",
      "Done. Image saved to ../../avikus-data/images/train/batch2_busan_unberthing_STBD.mp4_image_00000009.jpg\n",
      "Done. Image saved to ../../avikus-data/images/train/batch2_wangsan_data_00h46m20s~00h46m35s_230511_ws_blindleft.mp4.mp4_image_00000003.jpg\n",
      "Done. Image saved to ../../avikus-data/images/train/batch2_wangsan_data_00h46m20s~00h46m35s_230511_ws_blindleft.mp4.mp4_image_00000004.jpg\n",
      "Done. Image saved to ../../avikus-data/images/train/batch2_wangsan_data_00h46m20s~00h46m35s_230511_ws_blindleft.mp4.mp4_image_00000005.jpg\n",
      "Done. Image saved to ../../avikus-data/images/train/batch2_wangsan_data_00h46m20s~00h46m35s_230511_ws_blindleft.mp4.mp4_image_00000006.jpg\n",
      "Done. Image saved to ../../avikus-data/images/train/batch2_wangsan_data_00h46m20s~00h46m35s_230511_ws_blindleft.mp4.mp4_image_00000007.jpg\n",
      "Done. Image saved to ../../avikus-data/images/train/batch2_wangsan_data_00h46m20s~00h46m35s_230511_ws_blindleft.mp4.mp4_image_00000001.jpg\n"
     ]
    },
    {
     "name": "stderr",
     "output_type": "stream",
     "text": [
      "113it [00:24,  6.83it/s]"
     ]
    },
    {
     "name": "stdout",
     "output_type": "stream",
     "text": [
      "Done. Image saved to ../../avikus-data/images/train/batch2_wangsan_data_00h46m20s~00h46m35s_230511_ws_blindleft.mp4.mp4_image_00000002.jpg\n",
      "Done. Image saved to ../../avikus-data/images/train/batch2_wangsan_data_00h46m20s~00h46m35s_230511_ws_blindleft.mp4.mp4_image_00000008.jpg\n",
      "Done. Image saved to ../../avikus-data/images/train/batch2_wangsan_data_00h02m45s~00h03m45s_230511_ws_front.mp4.mp4_image_00000010.jpg\n",
      "Done. Image saved to ../../avikus-data/images/train/batch2_wangsan_data_00h02m45s~00h03m45s_230511_ws_front.mp4.mp4_image_00000020.jpg\n",
      "Done. Image saved to ../../avikus-data/images/train/batch2_wangsan_data_00h02m45s~00h03m45s_230511_ws_front.mp4.mp4_image_00000027.jpg\n",
      "Done. Image saved to ../../avikus-data/images/train/batch2_wangsan_data_00h02m45s~00h03m45s_230511_ws_front.mp4.mp4_image_00000003.jpg\n",
      "Done. Image saved to ../../avikus-data/images/train/batch2_wangsan_data_00h02m45s~00h03m45s_230511_ws_front.mp4.mp4_image_00000014.jpg\n",
      "Done. Image saved to ../../avikus-data/images/train/batch2_wangsan_data_00h02m45s~00h03m45s_230511_ws_front.mp4.mp4_image_00000018.jpg\n",
      "Done. Image saved to ../../avikus-data/images/train/batch2_wangsan_data_00h02m45s~00h03m45s_230511_ws_front.mp4.mp4_image_00000012.jpg\n",
      "Done. Image saved to ../../avikus-data/images/train/batch2_wangsan_data_00h02m45s~00h03m45s_230511_ws_front.mp4.mp4_image_00000019.jpg\n",
      "Done. Image saved to ../../avikus-data/images/train/batch2_wangsan_data_00h02m45s~00h03m45s_230511_ws_front.mp4.mp4_image_00000026.jpg\n",
      "Done. Image saved to ../../avikus-data/images/train/batch2_wangsan_data_00h02m45s~00h03m45s_230511_ws_front.mp4.mp4_image_00000017.jpg\n",
      "Done. Image saved to ../../avikus-data/images/train/batch2_wangsan_data_00h02m45s~00h03m45s_230511_ws_front.mp4.mp4_image_00000015.jpg\n",
      "Done. Image saved to ../../avikus-data/images/train/batch2_wangsan_data_00h02m45s~00h03m45s_230511_ws_front.mp4.mp4_image_00000004.jpg\n",
      "Done. Image saved to ../../avikus-data/images/train/batch2_wangsan_data_00h02m45s~00h03m45s_230511_ws_front.mp4.mp4_image_00000005.jpg\n",
      "Done. Image saved to ../../avikus-data/images/train/batch2_wangsan_data_00h02m45s~00h03m45s_230511_ws_front.mp4.mp4_image_00000021.jpg\n",
      "Done. Image saved to ../../avikus-data/images/train/batch2_wangsan_data_00h02m45s~00h03m45s_230511_ws_front.mp4.mp4_image_00000024.jpg\n",
      "Done. Image saved to ../../avikus-data/images/train/batch2_wangsan_data_00h02m45s~00h03m45s_230511_ws_front.mp4.mp4_image_00000013.jpg\n",
      "Done. Image saved to ../../avikus-data/images/train/batch2_wangsan_data_00h02m45s~00h03m45s_230511_ws_front.mp4.mp4_image_00000031.jpg\n",
      "Done. Image saved to ../../avikus-data/images/train/batch2_wangsan_data_00h02m45s~00h03m45s_230511_ws_front.mp4.mp4_image_00000006.jpg\n",
      "Done. Image saved to ../../avikus-data/images/train/batch2_wangsan_data_00h02m45s~00h03m45s_230511_ws_front.mp4.mp4_image_00000007.jpg\n",
      "Done. Image saved to ../../avikus-data/images/train/batch2_wangsan_data_00h02m45s~00h03m45s_230511_ws_front.mp4.mp4_image_00000022.jpg\n",
      "Done. Image saved to ../../avikus-data/images/train/batch2_wangsan_data_00h02m45s~00h03m45s_230511_ws_front.mp4.mp4_image_00000029.jpg\n",
      "Done. Image saved to ../../avikus-data/images/train/batch2_wangsan_data_00h02m45s~00h03m45s_230511_ws_front.mp4.mp4_image_00000025.jpg\n",
      "Done. Image saved to ../../avikus-data/images/train/batch2_wangsan_data_00h02m45s~00h03m45s_230511_ws_front.mp4.mp4_image_00000001.jpg\n",
      "Done. Image saved to ../../avikus-data/images/train/batch2_wangsan_data_00h02m45s~00h03m45s_230511_ws_front.mp4.mp4_image_00000016.jpg\n",
      "Done. Image saved to ../../avikus-data/images/train/batch2_wangsan_data_00h02m45s~00h03m45s_230511_ws_front.mp4.mp4_image_00000002.jpg\n",
      "Done. Image saved to ../../avikus-data/images/train/batch2_wangsan_data_00h02m45s~00h03m45s_230511_ws_front.mp4.mp4_image_00000028.jpg\n",
      "Done. Image saved to ../../avikus-data/images/train/batch2_wangsan_data_00h02m45s~00h03m45s_230511_ws_front.mp4.mp4_image_00000030.jpg\n",
      "Done. Image saved to ../../avikus-data/images/train/batch2_wangsan_data_00h02m45s~00h03m45s_230511_ws_front.mp4.mp4_image_00000008.jpg\n",
      "Done. Image saved to ../../avikus-data/images/train/batch2_wangsan_data_00h02m45s~00h03m45s_230511_ws_front.mp4.mp4_image_00000009.jpg\n",
      "Done. Image saved to ../../avikus-data/images/train/batch2_wangsan_data_00h02m45s~00h03m45s_230511_ws_front.mp4.mp4_image_00000011.jpg\n"
     ]
    },
    {
     "name": "stderr",
     "output_type": "stream",
     "text": [
      "118it [00:26,  4.62it/s]"
     ]
    },
    {
     "name": "stdout",
     "output_type": "stream",
     "text": [
      "Done. Image saved to ../../avikus-data/images/train/batch2_wangsan_data_00h02m45s~00h03m45s_230511_ws_front.mp4.mp4_image_00000023.jpg\n",
      "Done. Image saved to ../../avikus-data/images/train/batch2_wangsan_data_00h51m00s~00h51m30s_230511_ws_right.mp4.mp4_image_00000010.jpg\n",
      "Done. Image saved to ../../avikus-data/images/train/batch2_wangsan_data_00h51m00s~00h51m30s_230511_ws_right.mp4.mp4_image_00000003.jpg\n",
      "Done. Image saved to ../../avikus-data/images/train/batch2_wangsan_data_00h51m00s~00h51m30s_230511_ws_right.mp4.mp4_image_00000014.jpg\n",
      "Done. Image saved to ../../avikus-data/images/train/batch2_wangsan_data_00h51m00s~00h51m30s_230511_ws_right.mp4.mp4_image_00000012.jpg\n",
      "Done. Image saved to ../../avikus-data/images/train/batch2_wangsan_data_00h51m00s~00h51m30s_230511_ws_right.mp4.mp4_image_00000015.jpg\n",
      "Done. Image saved to ../../avikus-data/images/train/batch2_wangsan_data_00h51m00s~00h51m30s_230511_ws_right.mp4.mp4_image_00000004.jpg\n",
      "Done. Image saved to ../../avikus-data/images/train/batch2_wangsan_data_00h51m00s~00h51m30s_230511_ws_right.mp4.mp4_image_00000005.jpg\n",
      "Done. Image saved to ../../avikus-data/images/train/batch2_wangsan_data_00h51m00s~00h51m30s_230511_ws_right.mp4.mp4_image_00000013.jpg\n",
      "Done. Image saved to ../../avikus-data/images/train/batch2_wangsan_data_00h51m00s~00h51m30s_230511_ws_right.mp4.mp4_image_00000006.jpg\n",
      "Done. Image saved to ../../avikus-data/images/train/batch2_wangsan_data_00h51m00s~00h51m30s_230511_ws_right.mp4.mp4_image_00000007.jpg\n",
      "Done. Image saved to ../../avikus-data/images/train/batch2_wangsan_data_00h51m00s~00h51m30s_230511_ws_right.mp4.mp4_image_00000001.jpg\n",
      "Done. Image saved to ../../avikus-data/images/train/batch2_wangsan_data_00h51m00s~00h51m30s_230511_ws_right.mp4.mp4_image_00000016.jpg\n",
      "Done. Image saved to ../../avikus-data/images/train/batch2_wangsan_data_00h51m00s~00h51m30s_230511_ws_right.mp4.mp4_image_00000002.jpg\n",
      "Done. Image saved to ../../avikus-data/images/train/batch2_wangsan_data_00h51m00s~00h51m30s_230511_ws_right.mp4.mp4_image_00000008.jpg\n",
      "Done. Image saved to ../../avikus-data/images/train/batch2_wangsan_data_00h51m00s~00h51m30s_230511_ws_right.mp4.mp4_image_00000009.jpg\n"
     ]
    },
    {
     "name": "stderr",
     "output_type": "stream",
     "text": [
      "123it [00:26,  4.89it/s]"
     ]
    },
    {
     "name": "stdout",
     "output_type": "stream",
     "text": [
      "Done. Image saved to ../../avikus-data/images/train/batch2_wangsan_data_00h51m00s~00h51m30s_230511_ws_right.mp4.mp4_image_00000011.jpg\n",
      "Done. Image saved to ../../avikus-data/images/train/batch2_wangsan_data_00h32m30s~00h33m00s_230511_ws_blindleft.mp4.mp4_image_00000010.jpg\n",
      "Done. Image saved to ../../avikus-data/images/train/batch2_wangsan_data_00h32m30s~00h33m00s_230511_ws_blindleft.mp4.mp4_image_00000003.jpg\n",
      "Done. Image saved to ../../avikus-data/images/train/batch2_wangsan_data_00h32m30s~00h33m00s_230511_ws_blindleft.mp4.mp4_image_00000014.jpg\n",
      "Done. Image saved to ../../avikus-data/images/train/batch2_wangsan_data_00h32m30s~00h33m00s_230511_ws_blindleft.mp4.mp4_image_00000012.jpg\n",
      "Done. Image saved to ../../avikus-data/images/train/batch2_wangsan_data_00h32m30s~00h33m00s_230511_ws_blindleft.mp4.mp4_image_00000015.jpg\n",
      "Done. Image saved to ../../avikus-data/images/train/batch2_wangsan_data_00h32m30s~00h33m00s_230511_ws_blindleft.mp4.mp4_image_00000004.jpg\n",
      "Done. Image saved to ../../avikus-data/images/train/batch2_wangsan_data_00h32m30s~00h33m00s_230511_ws_blindleft.mp4.mp4_image_00000005.jpg\n",
      "Done. Image saved to ../../avikus-data/images/train/batch2_wangsan_data_00h32m30s~00h33m00s_230511_ws_blindleft.mp4.mp4_image_00000013.jpg\n",
      "Done. Image saved to ../../avikus-data/images/train/batch2_wangsan_data_00h32m30s~00h33m00s_230511_ws_blindleft.mp4.mp4_image_00000006.jpg\n",
      "Done. Image saved to ../../avikus-data/images/train/batch2_wangsan_data_00h32m30s~00h33m00s_230511_ws_blindleft.mp4.mp4_image_00000007.jpg\n",
      "Done. Image saved to ../../avikus-data/images/train/batch2_wangsan_data_00h32m30s~00h33m00s_230511_ws_blindleft.mp4.mp4_image_00000001.jpg\n",
      "Done. Image saved to ../../avikus-data/images/train/batch2_wangsan_data_00h32m30s~00h33m00s_230511_ws_blindleft.mp4.mp4_image_00000016.jpg\n"
     ]
    },
    {
     "name": "stderr",
     "output_type": "stream",
     "text": [
      "128it [00:27,  5.23it/s]"
     ]
    },
    {
     "name": "stdout",
     "output_type": "stream",
     "text": [
      "Done. Image saved to ../../avikus-data/images/train/batch2_wangsan_data_00h32m30s~00h33m00s_230511_ws_blindleft.mp4.mp4_image_00000002.jpg\n",
      "Done. Image saved to ../../avikus-data/images/train/batch2_wangsan_data_00h32m30s~00h33m00s_230511_ws_blindleft.mp4.mp4_image_00000008.jpg\n",
      "Done. Image saved to ../../avikus-data/images/train/batch2_wangsan_data_00h32m30s~00h33m00s_230511_ws_blindleft.mp4.mp4_image_00000009.jpg\n",
      "Done. Image saved to ../../avikus-data/images/train/batch2_wangsan_data_00h32m30s~00h33m00s_230511_ws_blindleft.mp4.mp4_image_00000011.jpg\n",
      "Done. Image saved to ../../avikus-data/images/train/batch2_UK_data_record_tight_channel_2_00m30s~01m15s_video_rightblind.mp4_image_00000010.jpg\n",
      "Done. Image saved to ../../avikus-data/images/train/batch2_UK_data_record_tight_channel_2_00m30s~01m15s_video_rightblind.mp4_image_00000020.jpg\n",
      "Done. Image saved to ../../avikus-data/images/train/batch2_UK_data_record_tight_channel_2_00m30s~01m15s_video_rightblind.mp4_image_00000003.jpg\n",
      "Done. Image saved to ../../avikus-data/images/train/batch2_UK_data_record_tight_channel_2_00m30s~01m15s_video_rightblind.mp4_image_00000014.jpg\n",
      "Done. Image saved to ../../avikus-data/images/train/batch2_UK_data_record_tight_channel_2_00m30s~01m15s_video_rightblind.mp4_image_00000018.jpg\n",
      "Done. Image saved to ../../avikus-data/images/train/batch2_UK_data_record_tight_channel_2_00m30s~01m15s_video_rightblind.mp4_image_00000012.jpg\n",
      "Done. Image saved to ../../avikus-data/images/train/batch2_UK_data_record_tight_channel_2_00m30s~01m15s_video_rightblind.mp4_image_00000019.jpg\n",
      "Done. Image saved to ../../avikus-data/images/train/batch2_UK_data_record_tight_channel_2_00m30s~01m15s_video_rightblind.mp4_image_00000017.jpg\n",
      "Done. Image saved to ../../avikus-data/images/train/batch2_UK_data_record_tight_channel_2_00m30s~01m15s_video_rightblind.mp4_image_00000015.jpg\n",
      "Done. Image saved to ../../avikus-data/images/train/batch2_UK_data_record_tight_channel_2_00m30s~01m15s_video_rightblind.mp4_image_00000004.jpg\n",
      "Done. Image saved to ../../avikus-data/images/train/batch2_UK_data_record_tight_channel_2_00m30s~01m15s_video_rightblind.mp4_image_00000005.jpg\n",
      "Done. Image saved to ../../avikus-data/images/train/batch2_UK_data_record_tight_channel_2_00m30s~01m15s_video_rightblind.mp4_image_00000021.jpg\n",
      "Done. Image saved to ../../avikus-data/images/train/batch2_UK_data_record_tight_channel_2_00m30s~01m15s_video_rightblind.mp4_image_00000013.jpg\n",
      "Done. Image saved to ../../avikus-data/images/train/batch2_UK_data_record_tight_channel_2_00m30s~01m15s_video_rightblind.mp4_image_00000006.jpg\n",
      "Done. Image saved to ../../avikus-data/images/train/batch2_UK_data_record_tight_channel_2_00m30s~01m15s_video_rightblind.mp4_image_00000007.jpg\n",
      "Done. Image saved to ../../avikus-data/images/train/batch2_UK_data_record_tight_channel_2_00m30s~01m15s_video_rightblind.mp4_image_00000022.jpg\n",
      "Done. Image saved to ../../avikus-data/images/train/batch2_UK_data_record_tight_channel_2_00m30s~01m15s_video_rightblind.mp4_image_00000016.jpg\n",
      "Done. Image saved to ../../avikus-data/images/train/batch2_UK_data_record_tight_channel_2_00m30s~01m15s_video_rightblind.mp4_image_00000002.jpg\n",
      "Done. Image saved to ../../avikus-data/images/train/batch2_UK_data_record_tight_channel_2_00m30s~01m15s_video_rightblind.mp4_image_00000008.jpg\n",
      "Done. Image saved to ../../avikus-data/images/train/batch2_UK_data_record_tight_channel_2_00m30s~01m15s_video_rightblind.mp4_image_00000009.jpg\n"
     ]
    },
    {
     "name": "stderr",
     "output_type": "stream",
     "text": [
      "133it [00:29,  4.74it/s]"
     ]
    },
    {
     "name": "stdout",
     "output_type": "stream",
     "text": [
      "Done. Image saved to ../../avikus-data/images/train/batch2_UK_data_record_tight_channel_2_00m30s~01m15s_video_rightblind.mp4_image_00000011.jpg\n",
      "Done. Image saved to ../../avikus-data/images/train/batch2_UK_data_record_tight_channel_2_00m30s~01m15s_video_rightblind.mp4_image_00000023.jpg\n",
      "Done. Image saved to ../../avikus-data/images/train/batch2_wangsan_data_00h02m45s~00h03m45s_230511_ws_blindright.mp4.mp4_image_00000010.jpg\n",
      "Done. Image saved to ../../avikus-data/images/train/batch2_wangsan_data_00h02m45s~00h03m45s_230511_ws_blindright.mp4.mp4_image_00000020.jpg\n",
      "Done. Image saved to ../../avikus-data/images/train/batch2_wangsan_data_00h02m45s~00h03m45s_230511_ws_blindright.mp4.mp4_image_00000027.jpg\n",
      "Done. Image saved to ../../avikus-data/images/train/batch2_wangsan_data_00h02m45s~00h03m45s_230511_ws_blindright.mp4.mp4_image_00000003.jpg\n",
      "Done. Image saved to ../../avikus-data/images/train/batch2_wangsan_data_00h02m45s~00h03m45s_230511_ws_blindright.mp4.mp4_image_00000014.jpg\n",
      "Done. Image saved to ../../avikus-data/images/train/batch2_wangsan_data_00h02m45s~00h03m45s_230511_ws_blindright.mp4.mp4_image_00000018.jpg\n",
      "Done. Image saved to ../../avikus-data/images/train/batch2_wangsan_data_00h02m45s~00h03m45s_230511_ws_blindright.mp4.mp4_image_00000012.jpg\n",
      "Done. Image saved to ../../avikus-data/images/train/batch2_wangsan_data_00h02m45s~00h03m45s_230511_ws_blindright.mp4.mp4_image_00000019.jpg\n",
      "Done. Image saved to ../../avikus-data/images/train/batch2_wangsan_data_00h02m45s~00h03m45s_230511_ws_blindright.mp4.mp4_image_00000026.jpg\n",
      "Done. Image saved to ../../avikus-data/images/train/batch2_wangsan_data_00h02m45s~00h03m45s_230511_ws_blindright.mp4.mp4_image_00000017.jpg\n",
      "Done. Image saved to ../../avikus-data/images/train/batch2_wangsan_data_00h02m45s~00h03m45s_230511_ws_blindright.mp4.mp4_image_00000015.jpg\n",
      "Done. Image saved to ../../avikus-data/images/train/batch2_wangsan_data_00h02m45s~00h03m45s_230511_ws_blindright.mp4.mp4_image_00000004.jpg\n",
      "Done. Image saved to ../../avikus-data/images/train/batch2_wangsan_data_00h02m45s~00h03m45s_230511_ws_blindright.mp4.mp4_image_00000005.jpg\n",
      "Done. Image saved to ../../avikus-data/images/train/batch2_wangsan_data_00h02m45s~00h03m45s_230511_ws_blindright.mp4.mp4_image_00000021.jpg\n",
      "Done. Image saved to ../../avikus-data/images/train/batch2_wangsan_data_00h02m45s~00h03m45s_230511_ws_blindright.mp4.mp4_image_00000024.jpg\n",
      "Done. Image saved to ../../avikus-data/images/train/batch2_wangsan_data_00h02m45s~00h03m45s_230511_ws_blindright.mp4.mp4_image_00000013.jpg\n",
      "Done. Image saved to ../../avikus-data/images/train/batch2_wangsan_data_00h02m45s~00h03m45s_230511_ws_blindright.mp4.mp4_image_00000031.jpg\n",
      "Done. Image saved to ../../avikus-data/images/train/batch2_wangsan_data_00h02m45s~00h03m45s_230511_ws_blindright.mp4.mp4_image_00000006.jpg\n",
      "Done. Image saved to ../../avikus-data/images/train/batch2_wangsan_data_00h02m45s~00h03m45s_230511_ws_blindright.mp4.mp4_image_00000007.jpg\n",
      "Done. Image saved to ../../avikus-data/images/train/batch2_wangsan_data_00h02m45s~00h03m45s_230511_ws_blindright.mp4.mp4_image_00000022.jpg\n",
      "Done. Image saved to ../../avikus-data/images/train/batch2_wangsan_data_00h02m45s~00h03m45s_230511_ws_blindright.mp4.mp4_image_00000029.jpg\n",
      "Done. Image saved to ../../avikus-data/images/train/batch2_wangsan_data_00h02m45s~00h03m45s_230511_ws_blindright.mp4.mp4_image_00000025.jpg\n",
      "Done. Image saved to ../../avikus-data/images/train/batch2_wangsan_data_00h02m45s~00h03m45s_230511_ws_blindright.mp4.mp4_image_00000001.jpg\n",
      "Done. Image saved to ../../avikus-data/images/train/batch2_wangsan_data_00h02m45s~00h03m45s_230511_ws_blindright.mp4.mp4_image_00000016.jpg\n",
      "Done. Image saved to ../../avikus-data/images/train/batch2_wangsan_data_00h02m45s~00h03m45s_230511_ws_blindright.mp4.mp4_image_00000002.jpg\n",
      "Done. Image saved to ../../avikus-data/images/train/batch2_wangsan_data_00h02m45s~00h03m45s_230511_ws_blindright.mp4.mp4_image_00000028.jpg\n",
      "Done. Image saved to ../../avikus-data/images/train/batch2_wangsan_data_00h02m45s~00h03m45s_230511_ws_blindright.mp4.mp4_image_00000030.jpg\n",
      "Done. Image saved to ../../avikus-data/images/train/batch2_wangsan_data_00h02m45s~00h03m45s_230511_ws_blindright.mp4.mp4_image_00000008.jpg\n",
      "Done. Image saved to ../../avikus-data/images/train/batch2_wangsan_data_00h02m45s~00h03m45s_230511_ws_blindright.mp4.mp4_image_00000009.jpg\n",
      "Done. Image saved to ../../avikus-data/images/train/batch2_wangsan_data_00h02m45s~00h03m45s_230511_ws_blindright.mp4.mp4_image_00000011.jpg\n"
     ]
    },
    {
     "name": "stderr",
     "output_type": "stream",
     "text": [
      "138it [00:30,  4.01it/s]"
     ]
    },
    {
     "name": "stdout",
     "output_type": "stream",
     "text": [
      "Done. Image saved to ../../avikus-data/images/train/batch2_wangsan_data_00h02m45s~00h03m45s_230511_ws_blindright.mp4.mp4_image_00000023.jpg\n",
      "Done. Image saved to ../../avikus-data/images/train/batch2_UK_data_record_port_berth_2_2_00m40s~01m10s_video_rear.mp4_image_00000010.jpg\n",
      "Done. Image saved to ../../avikus-data/images/train/batch2_UK_data_record_port_berth_2_2_00m40s~01m10s_video_rear.mp4_image_00000003.jpg\n",
      "Done. Image saved to ../../avikus-data/images/train/batch2_UK_data_record_port_berth_2_2_00m40s~01m10s_video_rear.mp4_image_00000014.jpg\n",
      "Done. Image saved to ../../avikus-data/images/train/batch2_UK_data_record_port_berth_2_2_00m40s~01m10s_video_rear.mp4_image_00000012.jpg\n",
      "Done. Image saved to ../../avikus-data/images/train/batch2_UK_data_record_port_berth_2_2_00m40s~01m10s_video_rear.mp4_image_00000015.jpg\n",
      "Done. Image saved to ../../avikus-data/images/train/batch2_UK_data_record_port_berth_2_2_00m40s~01m10s_video_rear.mp4_image_00000004.jpg\n",
      "Done. Image saved to ../../avikus-data/images/train/batch2_UK_data_record_port_berth_2_2_00m40s~01m10s_video_rear.mp4_image_00000005.jpg\n",
      "Done. Image saved to ../../avikus-data/images/train/batch2_UK_data_record_port_berth_2_2_00m40s~01m10s_video_rear.mp4_image_00000013.jpg\n",
      "Done. Image saved to ../../avikus-data/images/train/batch2_UK_data_record_port_berth_2_2_00m40s~01m10s_video_rear.mp4_image_00000006.jpg\n",
      "Done. Image saved to ../../avikus-data/images/train/batch2_UK_data_record_port_berth_2_2_00m40s~01m10s_video_rear.mp4_image_00000007.jpg\n",
      "Done. Image saved to ../../avikus-data/images/train/batch2_UK_data_record_port_berth_2_2_00m40s~01m10s_video_rear.mp4_image_00000001.jpg\n",
      "Done. Image saved to ../../avikus-data/images/train/batch2_UK_data_record_port_berth_2_2_00m40s~01m10s_video_rear.mp4_image_00000016.jpg\n",
      "Done. Image saved to ../../avikus-data/images/train/batch2_UK_data_record_port_berth_2_2_00m40s~01m10s_video_rear.mp4_image_00000002.jpg\n",
      "Done. Image saved to ../../avikus-data/images/train/batch2_UK_data_record_port_berth_2_2_00m40s~01m10s_video_rear.mp4_image_00000008.jpg\n",
      "Done. Image saved to ../../avikus-data/images/train/batch2_UK_data_record_port_berth_2_2_00m40s~01m10s_video_rear.mp4_image_00000009.jpg\n"
     ]
    },
    {
     "name": "stderr",
     "output_type": "stream",
     "text": [
      "143it [00:31,  4.12it/s]"
     ]
    },
    {
     "name": "stdout",
     "output_type": "stream",
     "text": [
      "Done. Image saved to ../../avikus-data/images/train/batch2_UK_data_record_port_berth_2_2_00m40s~01m10s_video_rear.mp4_image_00000011.jpg\n",
      "Done. Image saved to ../../avikus-data/images/train/batch2_wangsan_data_00h02m45s~00h03m45s_230511_ws_rear.mp4.mp4_image_00000010.jpg\n",
      "Done. Image saved to ../../avikus-data/images/train/batch2_wangsan_data_00h02m45s~00h03m45s_230511_ws_rear.mp4.mp4_image_00000020.jpg\n",
      "Done. Image saved to ../../avikus-data/images/train/batch2_wangsan_data_00h02m45s~00h03m45s_230511_ws_rear.mp4.mp4_image_00000027.jpg\n",
      "Done. Image saved to ../../avikus-data/images/train/batch2_wangsan_data_00h02m45s~00h03m45s_230511_ws_rear.mp4.mp4_image_00000003.jpg\n",
      "Done. Image saved to ../../avikus-data/images/train/batch2_wangsan_data_00h02m45s~00h03m45s_230511_ws_rear.mp4.mp4_image_00000014.jpg\n",
      "Done. Image saved to ../../avikus-data/images/train/batch2_wangsan_data_00h02m45s~00h03m45s_230511_ws_rear.mp4.mp4_image_00000018.jpg\n",
      "Done. Image saved to ../../avikus-data/images/train/batch2_wangsan_data_00h02m45s~00h03m45s_230511_ws_rear.mp4.mp4_image_00000012.jpg\n",
      "Done. Image saved to ../../avikus-data/images/train/batch2_wangsan_data_00h02m45s~00h03m45s_230511_ws_rear.mp4.mp4_image_00000019.jpg\n",
      "Done. Image saved to ../../avikus-data/images/train/batch2_wangsan_data_00h02m45s~00h03m45s_230511_ws_rear.mp4.mp4_image_00000026.jpg\n",
      "Done. Image saved to ../../avikus-data/images/train/batch2_wangsan_data_00h02m45s~00h03m45s_230511_ws_rear.mp4.mp4_image_00000017.jpg\n",
      "Done. Image saved to ../../avikus-data/images/train/batch2_wangsan_data_00h02m45s~00h03m45s_230511_ws_rear.mp4.mp4_image_00000015.jpg\n",
      "Done. Image saved to ../../avikus-data/images/train/batch2_wangsan_data_00h02m45s~00h03m45s_230511_ws_rear.mp4.mp4_image_00000004.jpg\n",
      "Done. Image saved to ../../avikus-data/images/train/batch2_wangsan_data_00h02m45s~00h03m45s_230511_ws_rear.mp4.mp4_image_00000005.jpg\n",
      "Done. Image saved to ../../avikus-data/images/train/batch2_wangsan_data_00h02m45s~00h03m45s_230511_ws_rear.mp4.mp4_image_00000021.jpg\n",
      "Done. Image saved to ../../avikus-data/images/train/batch2_wangsan_data_00h02m45s~00h03m45s_230511_ws_rear.mp4.mp4_image_00000024.jpg\n",
      "Done. Image saved to ../../avikus-data/images/train/batch2_wangsan_data_00h02m45s~00h03m45s_230511_ws_rear.mp4.mp4_image_00000013.jpg\n",
      "Done. Image saved to ../../avikus-data/images/train/batch2_wangsan_data_00h02m45s~00h03m45s_230511_ws_rear.mp4.mp4_image_00000031.jpg\n",
      "Done. Image saved to ../../avikus-data/images/train/batch2_wangsan_data_00h02m45s~00h03m45s_230511_ws_rear.mp4.mp4_image_00000006.jpg\n",
      "Done. Image saved to ../../avikus-data/images/train/batch2_wangsan_data_00h02m45s~00h03m45s_230511_ws_rear.mp4.mp4_image_00000007.jpg\n",
      "Done. Image saved to ../../avikus-data/images/train/batch2_wangsan_data_00h02m45s~00h03m45s_230511_ws_rear.mp4.mp4_image_00000022.jpg\n",
      "Done. Image saved to ../../avikus-data/images/train/batch2_wangsan_data_00h02m45s~00h03m45s_230511_ws_rear.mp4.mp4_image_00000029.jpg\n",
      "Done. Image saved to ../../avikus-data/images/train/batch2_wangsan_data_00h02m45s~00h03m45s_230511_ws_rear.mp4.mp4_image_00000025.jpg\n",
      "Done. Image saved to ../../avikus-data/images/train/batch2_wangsan_data_00h02m45s~00h03m45s_230511_ws_rear.mp4.mp4_image_00000001.jpg\n",
      "Done. Image saved to ../../avikus-data/images/train/batch2_wangsan_data_00h02m45s~00h03m45s_230511_ws_rear.mp4.mp4_image_00000016.jpg\n",
      "Done. Image saved to ../../avikus-data/images/train/batch2_wangsan_data_00h02m45s~00h03m45s_230511_ws_rear.mp4.mp4_image_00000002.jpg\n",
      "Done. Image saved to ../../avikus-data/images/train/batch2_wangsan_data_00h02m45s~00h03m45s_230511_ws_rear.mp4.mp4_image_00000028.jpg\n",
      "Done. Image saved to ../../avikus-data/images/train/batch2_wangsan_data_00h02m45s~00h03m45s_230511_ws_rear.mp4.mp4_image_00000030.jpg\n",
      "Done. Image saved to ../../avikus-data/images/train/batch2_wangsan_data_00h02m45s~00h03m45s_230511_ws_rear.mp4.mp4_image_00000008.jpg\n",
      "Done. Image saved to ../../avikus-data/images/train/batch2_wangsan_data_00h02m45s~00h03m45s_230511_ws_rear.mp4.mp4_image_00000009.jpg\n",
      "Done. Image saved to ../../avikus-data/images/train/batch2_wangsan_data_00h02m45s~00h03m45s_230511_ws_rear.mp4.mp4_image_00000011.jpg\n"
     ]
    },
    {
     "name": "stderr",
     "output_type": "stream",
     "text": [
      "148it [00:33,  3.45it/s]"
     ]
    },
    {
     "name": "stdout",
     "output_type": "stream",
     "text": [
      "Done. Image saved to ../../avikus-data/images/train/batch2_wangsan_data_00h02m45s~00h03m45s_230511_ws_rear.mp4.mp4_image_00000023.jpg\n",
      "Done. Image saved to ../../avikus-data/images/train/batch2_UK_data_record_port_berth_2_2_00m00s~00m12s_video_rear.mp4_image_00000003.jpg\n",
      "Done. Image saved to ../../avikus-data/images/train/batch2_UK_data_record_port_berth_2_2_00m00s~00m12s_video_rear.mp4_image_00000004.jpg\n",
      "Done. Image saved to ../../avikus-data/images/train/batch2_UK_data_record_port_berth_2_2_00m00s~00m12s_video_rear.mp4_image_00000005.jpg\n",
      "Done. Image saved to ../../avikus-data/images/train/batch2_UK_data_record_port_berth_2_2_00m00s~00m12s_video_rear.mp4_image_00000006.jpg\n",
      "Done. Image saved to ../../avikus-data/images/train/batch2_UK_data_record_port_berth_2_2_00m00s~00m12s_video_rear.mp4_image_00000007.jpg\n"
     ]
    },
    {
     "name": "stderr",
     "output_type": "stream",
     "text": [
      "153it [00:34,  4.30it/s]"
     ]
    },
    {
     "name": "stdout",
     "output_type": "stream",
     "text": [
      "Done. Image saved to ../../avikus-data/images/train/batch2_UK_data_record_port_berth_2_2_00m00s~00m12s_video_rear.mp4_image_00000001.jpg\n",
      "Done. Image saved to ../../avikus-data/images/train/batch2_UK_data_record_port_berth_2_2_00m00s~00m12s_video_rear.mp4_image_00000002.jpg\n",
      "Done. Image saved to ../../avikus-data/images/train/batch2_busan_berthing_FRONT.mp4_image_00000066.jpg\n",
      "Done. Image saved to ../../avikus-data/images/train/batch2_busan_berthing_FRONT.mp4_image_00000010.jpg\n",
      "Done. Image saved to ../../avikus-data/images/train/batch2_busan_berthing_FRONT.mp4_image_00000020.jpg\n",
      "Done. Image saved to ../../avikus-data/images/train/batch2_busan_berthing_FRONT.mp4_image_00000027.jpg\n",
      "Done. Image saved to ../../avikus-data/images/train/batch2_busan_berthing_FRONT.mp4_image_00000076.jpg\n",
      "Done. Image saved to ../../avikus-data/images/train/batch2_busan_berthing_FRONT.mp4_image_00000003.jpg\n",
      "Done. Image saved to ../../avikus-data/images/train/batch2_busan_berthing_FRONT.mp4_image_00000014.jpg\n",
      "Done. Image saved to ../../avikus-data/images/train/batch2_busan_berthing_FRONT.mp4_image_00000018.jpg\n",
      "Done. Image saved to ../../avikus-data/images/train/batch2_busan_berthing_FRONT.mp4_image_00000012.jpg\n",
      "Done. Image saved to ../../avikus-data/images/train/batch2_busan_berthing_FRONT.mp4_image_00000019.jpg\n",
      "Done. Image saved to ../../avikus-data/images/train/batch2_busan_berthing_FRONT.mp4_image_00000036.jpg\n",
      "Done. Image saved to ../../avikus-data/images/train/batch2_busan_berthing_FRONT.mp4_image_00000069.jpg\n",
      "Done. Image saved to ../../avikus-data/images/train/batch2_busan_berthing_FRONT.mp4_image_00000055.jpg\n",
      "Done. Image saved to ../../avikus-data/images/train/batch2_busan_berthing_FRONT.mp4_image_00000026.jpg\n",
      "Done. Image saved to ../../avikus-data/images/train/batch2_busan_berthing_FRONT.mp4_image_00000017.jpg\n",
      "Done. Image saved to ../../avikus-data/images/train/batch2_busan_berthing_FRONT.mp4_image_00000060.jpg\n",
      "Done. Image saved to ../../avikus-data/images/train/batch2_busan_berthing_FRONT.mp4_image_00000039.jpg\n",
      "Done. Image saved to ../../avikus-data/images/train/batch2_busan_berthing_FRONT.mp4_image_00000015.jpg\n",
      "Done. Image saved to ../../avikus-data/images/train/batch2_busan_berthing_FRONT.mp4_image_00000051.jpg\n",
      "Done. Image saved to ../../avikus-data/images/train/batch2_busan_berthing_FRONT.mp4_image_00000072.jpg\n",
      "Done. Image saved to ../../avikus-data/images/train/batch2_busan_berthing_FRONT.mp4_image_00000004.jpg\n",
      "Done. Image saved to ../../avikus-data/images/train/batch2_busan_berthing_FRONT.mp4_image_00000041.jpg\n",
      "Done. Image saved to ../../avikus-data/images/train/batch2_busan_berthing_FRONT.mp4_image_00000005.jpg\n",
      "Done. Image saved to ../../avikus-data/images/train/batch2_busan_berthing_FRONT.mp4_image_00000088.jpg\n",
      "Done. Image saved to ../../avikus-data/images/train/batch2_busan_berthing_FRONT.mp4_image_00000091.jpg\n",
      "Done. Image saved to ../../avikus-data/images/train/batch2_busan_berthing_FRONT.mp4_image_00000052.jpg\n",
      "Done. Image saved to ../../avikus-data/images/train/batch2_busan_berthing_FRONT.mp4_image_00000021.jpg\n",
      "Done. Image saved to ../../avikus-data/images/train/batch2_busan_berthing_FRONT.mp4_image_00000085.jpg\n",
      "Done. Image saved to ../../avikus-data/images/train/batch2_busan_berthing_FRONT.mp4_image_00000087.jpg\n",
      "Done. Image saved to ../../avikus-data/images/train/batch2_busan_berthing_FRONT.mp4_image_00000062.jpg\n",
      "Done. Image saved to ../../avikus-data/images/train/batch2_busan_berthing_FRONT.mp4_image_00000064.jpg\n",
      "Done. Image saved to ../../avikus-data/images/train/batch2_busan_berthing_FRONT.mp4_image_00000024.jpg\n",
      "Done. Image saved to ../../avikus-data/images/train/batch2_busan_berthing_FRONT.mp4_image_00000013.jpg\n",
      "Done. Image saved to ../../avikus-data/images/train/batch2_busan_berthing_FRONT.mp4_image_00000057.jpg\n",
      "Done. Image saved to ../../avikus-data/images/train/batch2_busan_berthing_FRONT.mp4_image_00000056.jpg\n",
      "Done. Image saved to ../../avikus-data/images/train/batch2_busan_berthing_FRONT.mp4_image_00000068.jpg\n",
      "Done. Image saved to ../../avikus-data/images/train/batch2_busan_berthing_FRONT.mp4_image_00000081.jpg\n",
      "Done. Image saved to ../../avikus-data/images/train/batch2_busan_berthing_FRONT.mp4_image_00000083.jpg\n",
      "Done. Image saved to ../../avikus-data/images/train/batch2_busan_berthing_FRONT.mp4_image_00000074.jpg\n",
      "Done. Image saved to ../../avikus-data/images/train/batch2_busan_berthing_FRONT.mp4_image_00000092.jpg\n",
      "Done. Image saved to ../../avikus-data/images/train/batch2_busan_berthing_FRONT.mp4_image_00000050.jpg\n",
      "Done. Image saved to ../../avikus-data/images/train/batch2_busan_berthing_FRONT.mp4_image_00000035.jpg\n",
      "Done. Image saved to ../../avikus-data/images/train/batch2_busan_berthing_FRONT.mp4_image_00000033.jpg\n",
      "Done. Image saved to ../../avikus-data/images/train/batch2_busan_berthing_FRONT.mp4_image_00000031.jpg\n",
      "Done. Image saved to ../../avikus-data/images/train/batch2_busan_berthing_FRONT.mp4_image_00000054.jpg\n",
      "Done. Image saved to ../../avikus-data/images/train/batch2_busan_berthing_FRONT.mp4_image_00000070.jpg\n",
      "Done. Image saved to ../../avikus-data/images/train/batch2_busan_berthing_FRONT.mp4_image_00000080.jpg\n",
      "Done. Image saved to ../../avikus-data/images/train/batch2_busan_berthing_FRONT.mp4_image_00000082.jpg\n",
      "Done. Image saved to ../../avikus-data/images/train/batch2_busan_berthing_FRONT.mp4_image_00000073.jpg\n",
      "Done. Image saved to ../../avikus-data/images/train/batch2_busan_berthing_FRONT.mp4_image_00000086.jpg\n",
      "Done. Image saved to ../../avikus-data/images/train/batch2_busan_berthing_FRONT.mp4_image_00000006.jpg\n",
      "Done. Image saved to ../../avikus-data/images/train/batch2_busan_berthing_FRONT.mp4_image_00000075.jpg\n",
      "Done. Image saved to ../../avikus-data/images/train/batch2_busan_berthing_FRONT.mp4_image_00000067.jpg\n",
      "Done. Image saved to ../../avikus-data/images/train/batch2_busan_berthing_FRONT.mp4_image_00000007.jpg\n",
      "Done. Image saved to ../../avikus-data/images/train/batch2_busan_berthing_FRONT.mp4_image_00000061.jpg\n",
      "Done. Image saved to ../../avikus-data/images/train/batch2_busan_berthing_FRONT.mp4_image_00000065.jpg\n",
      "Done. Image saved to ../../avikus-data/images/train/batch2_busan_berthing_FRONT.mp4_image_00000071.jpg\n",
      "Done. Image saved to ../../avikus-data/images/train/batch2_busan_berthing_FRONT.mp4_image_00000040.jpg\n",
      "Done. Image saved to ../../avikus-data/images/train/batch2_busan_berthing_FRONT.mp4_image_00000022.jpg\n",
      "Done. Image saved to ../../avikus-data/images/train/batch2_busan_berthing_FRONT.mp4_image_00000032.jpg\n",
      "Done. Image saved to ../../avikus-data/images/train/batch2_busan_berthing_FRONT.mp4_image_00000029.jpg\n",
      "Done. Image saved to ../../avikus-data/images/train/batch2_busan_berthing_FRONT.mp4_image_00000025.jpg\n",
      "Done. Image saved to ../../avikus-data/images/train/batch2_busan_berthing_FRONT.mp4_image_00000001.jpg\n",
      "Done. Image saved to ../../avikus-data/images/train/batch2_busan_berthing_FRONT.mp4_image_00000084.jpg\n",
      "Done. Image saved to ../../avikus-data/images/train/batch2_busan_berthing_FRONT.mp4_image_00000016.jpg\n",
      "Done. Image saved to ../../avikus-data/images/train/batch2_busan_berthing_FRONT.mp4_image_00000038.jpg\n",
      "Done. Image saved to ../../avikus-data/images/train/batch2_busan_berthing_FRONT.mp4_image_00000053.jpg\n",
      "Done. Image saved to ../../avikus-data/images/train/batch2_busan_berthing_FRONT.mp4_image_00000002.jpg\n",
      "Done. Image saved to ../../avikus-data/images/train/batch2_busan_berthing_FRONT.mp4_image_00000077.jpg\n",
      "Done. Image saved to ../../avikus-data/images/train/batch2_busan_berthing_FRONT.mp4_image_00000079.jpg\n",
      "Done. Image saved to ../../avikus-data/images/train/batch2_busan_berthing_FRONT.mp4_image_00000063.jpg\n",
      "Done. Image saved to ../../avikus-data/images/train/batch2_busan_berthing_FRONT.mp4_image_00000034.jpg\n",
      "Done. Image saved to ../../avikus-data/images/train/batch2_busan_berthing_FRONT.mp4_image_00000059.jpg\n",
      "Done. Image saved to ../../avikus-data/images/train/batch2_busan_berthing_FRONT.mp4_image_00000045.jpg\n",
      "Done. Image saved to ../../avikus-data/images/train/batch2_busan_berthing_FRONT.mp4_image_00000078.jpg\n",
      "Done. Image saved to ../../avikus-data/images/train/batch2_busan_berthing_FRONT.mp4_image_00000042.jpg\n",
      "Done. Image saved to ../../avikus-data/images/train/batch2_busan_berthing_FRONT.mp4_image_00000028.jpg\n",
      "Done. Image saved to ../../avikus-data/images/train/batch2_busan_berthing_FRONT.mp4_image_00000030.jpg\n",
      "Done. Image saved to ../../avikus-data/images/train/batch2_busan_berthing_FRONT.mp4_image_00000008.jpg\n",
      "Done. Image saved to ../../avikus-data/images/train/batch2_busan_berthing_FRONT.mp4_image_00000009.jpg\n",
      "Done. Image saved to ../../avikus-data/images/train/batch2_busan_berthing_FRONT.mp4_image_00000058.jpg\n",
      "Done. Image saved to ../../avikus-data/images/train/batch2_busan_berthing_FRONT.mp4_image_00000089.jpg\n",
      "Done. Image saved to ../../avikus-data/images/train/batch2_busan_berthing_FRONT.mp4_image_00000044.jpg\n",
      "Done. Image saved to ../../avikus-data/images/train/batch2_busan_berthing_FRONT.mp4_image_00000046.jpg\n",
      "Done. Image saved to ../../avikus-data/images/train/batch2_busan_berthing_FRONT.mp4_image_00000011.jpg\n",
      "Done. Image saved to ../../avikus-data/images/train/batch2_busan_berthing_FRONT.mp4_image_00000037.jpg\n",
      "Done. Image saved to ../../avikus-data/images/train/batch2_busan_berthing_FRONT.mp4_image_00000043.jpg\n",
      "Done. Image saved to ../../avikus-data/images/train/batch2_busan_berthing_FRONT.mp4_image_00000047.jpg\n",
      "Done. Image saved to ../../avikus-data/images/train/batch2_busan_berthing_FRONT.mp4_image_00000090.jpg\n",
      "Done. Image saved to ../../avikus-data/images/train/batch2_busan_berthing_FRONT.mp4_image_00000049.jpg\n"
     ]
    },
    {
     "name": "stderr",
     "output_type": "stream",
     "text": [
      "158it [00:37,  2.88it/s]"
     ]
    },
    {
     "name": "stdout",
     "output_type": "stream",
     "text": [
      "Done. Image saved to ../../avikus-data/images/train/batch2_busan_berthing_FRONT.mp4_image_00000048.jpg\n",
      "Done. Image saved to ../../avikus-data/images/train/batch2_busan_berthing_FRONT.mp4_image_00000023.jpg\n",
      "Done. Image saved to ../../avikus-data/images/train/batch2_busan_unberthing_FRONT.mp4_image_00000010.jpg\n",
      "Done. Image saved to ../../avikus-data/images/train/batch2_busan_unberthing_FRONT.mp4_image_00000003.jpg\n",
      "Done. Image saved to ../../avikus-data/images/train/batch2_busan_unberthing_FRONT.mp4_image_00000004.jpg\n",
      "Done. Image saved to ../../avikus-data/images/train/batch2_busan_unberthing_FRONT.mp4_image_00000005.jpg\n"
     ]
    },
    {
     "name": "stderr",
     "output_type": "stream",
     "text": [
      "163it [00:37,  3.79it/s]"
     ]
    },
    {
     "name": "stdout",
     "output_type": "stream",
     "text": [
      "Done. Image saved to ../../avikus-data/images/train/batch2_busan_unberthing_FRONT.mp4_image_00000006.jpg\n",
      "Done. Image saved to ../../avikus-data/images/train/batch2_busan_unberthing_FRONT.mp4_image_00000007.jpg\n",
      "Done. Image saved to ../../avikus-data/images/train/batch2_busan_unberthing_FRONT.mp4_image_00000001.jpg\n",
      "Done. Image saved to ../../avikus-data/images/train/batch2_busan_unberthing_FRONT.mp4_image_00000002.jpg\n",
      "Done. Image saved to ../../avikus-data/images/train/batch2_busan_unberthing_FRONT.mp4_image_00000008.jpg\n",
      "Done. Image saved to ../../avikus-data/images/train/batch2_busan_unberthing_FRONT.mp4_image_00000009.jpg\n",
      "Done. Image saved to ../../avikus-data/images/train/batch2_wangsan_data_00h00m45s~00h01m45s_230511_ws_blindleft.mp4.mp4_image_00000010.jpg\n",
      "Done. Image saved to ../../avikus-data/images/train/batch2_wangsan_data_00h00m45s~00h01m45s_230511_ws_blindleft.mp4.mp4_image_00000020.jpg\n",
      "Done. Image saved to ../../avikus-data/images/train/batch2_wangsan_data_00h00m45s~00h01m45s_230511_ws_blindleft.mp4.mp4_image_00000027.jpg\n",
      "Done. Image saved to ../../avikus-data/images/train/batch2_wangsan_data_00h00m45s~00h01m45s_230511_ws_blindleft.mp4.mp4_image_00000003.jpg\n",
      "Done. Image saved to ../../avikus-data/images/train/batch2_wangsan_data_00h00m45s~00h01m45s_230511_ws_blindleft.mp4.mp4_image_00000014.jpg\n",
      "Done. Image saved to ../../avikus-data/images/train/batch2_wangsan_data_00h00m45s~00h01m45s_230511_ws_blindleft.mp4.mp4_image_00000018.jpg\n",
      "Done. Image saved to ../../avikus-data/images/train/batch2_wangsan_data_00h00m45s~00h01m45s_230511_ws_blindleft.mp4.mp4_image_00000012.jpg\n",
      "Done. Image saved to ../../avikus-data/images/train/batch2_wangsan_data_00h00m45s~00h01m45s_230511_ws_blindleft.mp4.mp4_image_00000019.jpg\n",
      "Done. Image saved to ../../avikus-data/images/train/batch2_wangsan_data_00h00m45s~00h01m45s_230511_ws_blindleft.mp4.mp4_image_00000026.jpg\n",
      "Done. Image saved to ../../avikus-data/images/train/batch2_wangsan_data_00h00m45s~00h01m45s_230511_ws_blindleft.mp4.mp4_image_00000017.jpg\n",
      "Done. Image saved to ../../avikus-data/images/train/batch2_wangsan_data_00h00m45s~00h01m45s_230511_ws_blindleft.mp4.mp4_image_00000015.jpg\n",
      "Done. Image saved to ../../avikus-data/images/train/batch2_wangsan_data_00h00m45s~00h01m45s_230511_ws_blindleft.mp4.mp4_image_00000004.jpg\n",
      "Done. Image saved to ../../avikus-data/images/train/batch2_wangsan_data_00h00m45s~00h01m45s_230511_ws_blindleft.mp4.mp4_image_00000005.jpg\n",
      "Done. Image saved to ../../avikus-data/images/train/batch2_wangsan_data_00h00m45s~00h01m45s_230511_ws_blindleft.mp4.mp4_image_00000021.jpg\n",
      "Done. Image saved to ../../avikus-data/images/train/batch2_wangsan_data_00h00m45s~00h01m45s_230511_ws_blindleft.mp4.mp4_image_00000024.jpg\n",
      "Done. Image saved to ../../avikus-data/images/train/batch2_wangsan_data_00h00m45s~00h01m45s_230511_ws_blindleft.mp4.mp4_image_00000013.jpg\n",
      "Done. Image saved to ../../avikus-data/images/train/batch2_wangsan_data_00h00m45s~00h01m45s_230511_ws_blindleft.mp4.mp4_image_00000031.jpg\n",
      "Done. Image saved to ../../avikus-data/images/train/batch2_wangsan_data_00h00m45s~00h01m45s_230511_ws_blindleft.mp4.mp4_image_00000006.jpg\n",
      "Done. Image saved to ../../avikus-data/images/train/batch2_wangsan_data_00h00m45s~00h01m45s_230511_ws_blindleft.mp4.mp4_image_00000007.jpg\n",
      "Done. Image saved to ../../avikus-data/images/train/batch2_wangsan_data_00h00m45s~00h01m45s_230511_ws_blindleft.mp4.mp4_image_00000022.jpg\n",
      "Done. Image saved to ../../avikus-data/images/train/batch2_wangsan_data_00h00m45s~00h01m45s_230511_ws_blindleft.mp4.mp4_image_00000029.jpg\n",
      "Done. Image saved to ../../avikus-data/images/train/batch2_wangsan_data_00h00m45s~00h01m45s_230511_ws_blindleft.mp4.mp4_image_00000025.jpg\n",
      "Done. Image saved to ../../avikus-data/images/train/batch2_wangsan_data_00h00m45s~00h01m45s_230511_ws_blindleft.mp4.mp4_image_00000001.jpg\n",
      "Done. Image saved to ../../avikus-data/images/train/batch2_wangsan_data_00h00m45s~00h01m45s_230511_ws_blindleft.mp4.mp4_image_00000016.jpg\n",
      "Done. Image saved to ../../avikus-data/images/train/batch2_wangsan_data_00h00m45s~00h01m45s_230511_ws_blindleft.mp4.mp4_image_00000002.jpg\n",
      "Done. Image saved to ../../avikus-data/images/train/batch2_wangsan_data_00h00m45s~00h01m45s_230511_ws_blindleft.mp4.mp4_image_00000028.jpg\n",
      "Done. Image saved to ../../avikus-data/images/train/batch2_wangsan_data_00h00m45s~00h01m45s_230511_ws_blindleft.mp4.mp4_image_00000030.jpg\n",
      "Done. Image saved to ../../avikus-data/images/train/batch2_wangsan_data_00h00m45s~00h01m45s_230511_ws_blindleft.mp4.mp4_image_00000008.jpg\n"
     ]
    },
    {
     "name": "stderr",
     "output_type": "stream",
     "text": [
      "168it [00:39,  3.48it/s]"
     ]
    },
    {
     "name": "stdout",
     "output_type": "stream",
     "text": [
      "Done. Image saved to ../../avikus-data/images/train/batch2_wangsan_data_00h00m45s~00h01m45s_230511_ws_blindleft.mp4.mp4_image_00000009.jpg\n",
      "Done. Image saved to ../../avikus-data/images/train/batch2_wangsan_data_00h00m45s~00h01m45s_230511_ws_blindleft.mp4.mp4_image_00000011.jpg\n",
      "Done. Image saved to ../../avikus-data/images/train/batch2_wangsan_data_00h00m45s~00h01m45s_230511_ws_blindleft.mp4.mp4_image_00000023.jpg\n",
      "Done. Image saved to ../../avikus-data/images/train/batch2_wangsan_data_00m00s~00m30s_230426_ws_blindleft.mp4_image_00000010.jpg\n",
      "Done. Image saved to ../../avikus-data/images/train/batch2_wangsan_data_00m00s~00m30s_230426_ws_blindleft.mp4_image_00000003.jpg\n",
      "Done. Image saved to ../../avikus-data/images/train/batch2_wangsan_data_00m00s~00m30s_230426_ws_blindleft.mp4_image_00000014.jpg\n",
      "Done. Image saved to ../../avikus-data/images/train/batch2_wangsan_data_00m00s~00m30s_230426_ws_blindleft.mp4_image_00000012.jpg\n",
      "Done. Image saved to ../../avikus-data/images/train/batch2_wangsan_data_00m00s~00m30s_230426_ws_blindleft.mp4_image_00000015.jpg\n",
      "Done. Image saved to ../../avikus-data/images/train/batch2_wangsan_data_00m00s~00m30s_230426_ws_blindleft.mp4_image_00000004.jpg\n",
      "Done. Image saved to ../../avikus-data/images/train/batch2_wangsan_data_00m00s~00m30s_230426_ws_blindleft.mp4_image_00000005.jpg\n",
      "Done. Image saved to ../../avikus-data/images/train/batch2_wangsan_data_00m00s~00m30s_230426_ws_blindleft.mp4_image_00000013.jpg\n",
      "Done. Image saved to ../../avikus-data/images/train/batch2_wangsan_data_00m00s~00m30s_230426_ws_blindleft.mp4_image_00000006.jpg\n",
      "Done. Image saved to ../../avikus-data/images/train/batch2_wangsan_data_00m00s~00m30s_230426_ws_blindleft.mp4_image_00000007.jpg\n",
      "Done. Image saved to ../../avikus-data/images/train/batch2_wangsan_data_00m00s~00m30s_230426_ws_blindleft.mp4_image_00000001.jpg\n",
      "Done. Image saved to ../../avikus-data/images/train/batch2_wangsan_data_00m00s~00m30s_230426_ws_blindleft.mp4_image_00000016.jpg\n",
      "Done. Image saved to ../../avikus-data/images/train/batch2_wangsan_data_00m00s~00m30s_230426_ws_blindleft.mp4_image_00000002.jpg\n"
     ]
    },
    {
     "name": "stderr",
     "output_type": "stream",
     "text": [
      "173it [00:40,  3.89it/s]"
     ]
    },
    {
     "name": "stdout",
     "output_type": "stream",
     "text": [
      "Done. Image saved to ../../avikus-data/images/train/batch2_wangsan_data_00m00s~00m30s_230426_ws_blindleft.mp4_image_00000008.jpg\n",
      "Done. Image saved to ../../avikus-data/images/train/batch2_wangsan_data_00m00s~00m30s_230426_ws_blindleft.mp4_image_00000009.jpg\n",
      "Done. Image saved to ../../avikus-data/images/train/batch2_wangsan_data_00m00s~00m30s_230426_ws_blindleft.mp4_image_00000011.jpg\n",
      "Done. Image saved to ../../avikus-data/images/train/batch2_wangsan_data_00m00s~00m30s_230426_ws_right.mp4_image_00000010.jpg\n",
      "Done. Image saved to ../../avikus-data/images/train/batch2_wangsan_data_00m00s~00m30s_230426_ws_right.mp4_image_00000003.jpg\n",
      "Done. Image saved to ../../avikus-data/images/train/batch2_wangsan_data_00m00s~00m30s_230426_ws_right.mp4_image_00000014.jpg\n",
      "Done. Image saved to ../../avikus-data/images/train/batch2_wangsan_data_00m00s~00m30s_230426_ws_right.mp4_image_00000012.jpg\n",
      "Done. Image saved to ../../avikus-data/images/train/batch2_wangsan_data_00m00s~00m30s_230426_ws_right.mp4_image_00000015.jpg\n",
      "Done. Image saved to ../../avikus-data/images/train/batch2_wangsan_data_00m00s~00m30s_230426_ws_right.mp4_image_00000004.jpg\n",
      "Done. Image saved to ../../avikus-data/images/train/batch2_wangsan_data_00m00s~00m30s_230426_ws_right.mp4_image_00000005.jpg\n",
      "Done. Image saved to ../../avikus-data/images/train/batch2_wangsan_data_00m00s~00m30s_230426_ws_right.mp4_image_00000013.jpg\n",
      "Done. Image saved to ../../avikus-data/images/train/batch2_wangsan_data_00m00s~00m30s_230426_ws_right.mp4_image_00000006.jpg\n",
      "Done. Image saved to ../../avikus-data/images/train/batch2_wangsan_data_00m00s~00m30s_230426_ws_right.mp4_image_00000007.jpg\n",
      "Done. Image saved to ../../avikus-data/images/train/batch2_wangsan_data_00m00s~00m30s_230426_ws_right.mp4_image_00000001.jpg\n",
      "Done. Image saved to ../../avikus-data/images/train/batch2_wangsan_data_00m00s~00m30s_230426_ws_right.mp4_image_00000016.jpg\n",
      "Done. Image saved to ../../avikus-data/images/train/batch2_wangsan_data_00m00s~00m30s_230426_ws_right.mp4_image_00000002.jpg\n"
     ]
    },
    {
     "name": "stderr",
     "output_type": "stream",
     "text": [
      "178it [00:41,  4.08it/s]"
     ]
    },
    {
     "name": "stdout",
     "output_type": "stream",
     "text": [
      "Done. Image saved to ../../avikus-data/images/train/batch2_wangsan_data_00m00s~00m30s_230426_ws_right.mp4_image_00000008.jpg\n",
      "Done. Image saved to ../../avikus-data/images/train/batch2_wangsan_data_00m00s~00m30s_230426_ws_right.mp4_image_00000009.jpg\n",
      "Done. Image saved to ../../avikus-data/images/train/batch2_wangsan_data_00m00s~00m30s_230426_ws_right.mp4_image_00000011.jpg\n",
      "Done. Image saved to ../../avikus-data/images/train/batch2_wangsan_data_05m40s~06m40s_230426_ws_front.mp4_image_00000010.jpg\n",
      "Done. Image saved to ../../avikus-data/images/train/batch2_wangsan_data_05m40s~06m40s_230426_ws_front.mp4_image_00000020.jpg\n",
      "Done. Image saved to ../../avikus-data/images/train/batch2_wangsan_data_05m40s~06m40s_230426_ws_front.mp4_image_00000027.jpg\n",
      "Done. Image saved to ../../avikus-data/images/train/batch2_wangsan_data_05m40s~06m40s_230426_ws_front.mp4_image_00000003.jpg\n",
      "Done. Image saved to ../../avikus-data/images/train/batch2_wangsan_data_05m40s~06m40s_230426_ws_front.mp4_image_00000014.jpg\n",
      "Done. Image saved to ../../avikus-data/images/train/batch2_wangsan_data_05m40s~06m40s_230426_ws_front.mp4_image_00000018.jpg\n",
      "Done. Image saved to ../../avikus-data/images/train/batch2_wangsan_data_05m40s~06m40s_230426_ws_front.mp4_image_00000012.jpg\n",
      "Done. Image saved to ../../avikus-data/images/train/batch2_wangsan_data_05m40s~06m40s_230426_ws_front.mp4_image_00000019.jpg\n",
      "Done. Image saved to ../../avikus-data/images/train/batch2_wangsan_data_05m40s~06m40s_230426_ws_front.mp4_image_00000026.jpg\n",
      "Done. Image saved to ../../avikus-data/images/train/batch2_wangsan_data_05m40s~06m40s_230426_ws_front.mp4_image_00000017.jpg\n",
      "Done. Image saved to ../../avikus-data/images/train/batch2_wangsan_data_05m40s~06m40s_230426_ws_front.mp4_image_00000015.jpg\n",
      "Done. Image saved to ../../avikus-data/images/train/batch2_wangsan_data_05m40s~06m40s_230426_ws_front.mp4_image_00000004.jpg\n",
      "Done. Image saved to ../../avikus-data/images/train/batch2_wangsan_data_05m40s~06m40s_230426_ws_front.mp4_image_00000005.jpg\n",
      "Done. Image saved to ../../avikus-data/images/train/batch2_wangsan_data_05m40s~06m40s_230426_ws_front.mp4_image_00000021.jpg\n",
      "Done. Image saved to ../../avikus-data/images/train/batch2_wangsan_data_05m40s~06m40s_230426_ws_front.mp4_image_00000024.jpg\n",
      "Done. Image saved to ../../avikus-data/images/train/batch2_wangsan_data_05m40s~06m40s_230426_ws_front.mp4_image_00000013.jpg\n",
      "Done. Image saved to ../../avikus-data/images/train/batch2_wangsan_data_05m40s~06m40s_230426_ws_front.mp4_image_00000031.jpg\n",
      "Done. Image saved to ../../avikus-data/images/train/batch2_wangsan_data_05m40s~06m40s_230426_ws_front.mp4_image_00000006.jpg\n",
      "Done. Image saved to ../../avikus-data/images/train/batch2_wangsan_data_05m40s~06m40s_230426_ws_front.mp4_image_00000007.jpg\n",
      "Done. Image saved to ../../avikus-data/images/train/batch2_wangsan_data_05m40s~06m40s_230426_ws_front.mp4_image_00000022.jpg\n",
      "Done. Image saved to ../../avikus-data/images/train/batch2_wangsan_data_05m40s~06m40s_230426_ws_front.mp4_image_00000029.jpg\n",
      "Done. Image saved to ../../avikus-data/images/train/batch2_wangsan_data_05m40s~06m40s_230426_ws_front.mp4_image_00000025.jpg\n",
      "Done. Image saved to ../../avikus-data/images/train/batch2_wangsan_data_05m40s~06m40s_230426_ws_front.mp4_image_00000001.jpg\n",
      "Done. Image saved to ../../avikus-data/images/train/batch2_wangsan_data_05m40s~06m40s_230426_ws_front.mp4_image_00000016.jpg\n",
      "Done. Image saved to ../../avikus-data/images/train/batch2_wangsan_data_05m40s~06m40s_230426_ws_front.mp4_image_00000002.jpg\n",
      "Done. Image saved to ../../avikus-data/images/train/batch2_wangsan_data_05m40s~06m40s_230426_ws_front.mp4_image_00000028.jpg\n",
      "Done. Image saved to ../../avikus-data/images/train/batch2_wangsan_data_05m40s~06m40s_230426_ws_front.mp4_image_00000030.jpg\n",
      "Done. Image saved to ../../avikus-data/images/train/batch2_wangsan_data_05m40s~06m40s_230426_ws_front.mp4_image_00000008.jpg\n",
      "Done. Image saved to ../../avikus-data/images/train/batch2_wangsan_data_05m40s~06m40s_230426_ws_front.mp4_image_00000009.jpg\n"
     ]
    },
    {
     "name": "stderr",
     "output_type": "stream",
     "text": [
      "183it [00:43,  3.60it/s]"
     ]
    },
    {
     "name": "stdout",
     "output_type": "stream",
     "text": [
      "Done. Image saved to ../../avikus-data/images/train/batch2_wangsan_data_05m40s~06m40s_230426_ws_front.mp4_image_00000011.jpg\n",
      "Done. Image saved to ../../avikus-data/images/train/batch2_wangsan_data_05m40s~06m40s_230426_ws_front.mp4_image_00000023.jpg\n",
      "Done. Image saved to ../../avikus-data/images/train/batch2_wangsan_data_01h17m00s~01h17m45s_230511_ws_blindleft.mp4.mp4_image_00000010.jpg\n",
      "Done. Image saved to ../../avikus-data/images/train/batch2_wangsan_data_01h17m00s~01h17m45s_230511_ws_blindleft.mp4.mp4_image_00000020.jpg\n",
      "Done. Image saved to ../../avikus-data/images/train/batch2_wangsan_data_01h17m00s~01h17m45s_230511_ws_blindleft.mp4.mp4_image_00000003.jpg\n",
      "Done. Image saved to ../../avikus-data/images/train/batch2_wangsan_data_01h17m00s~01h17m45s_230511_ws_blindleft.mp4.mp4_image_00000014.jpg\n",
      "Done. Image saved to ../../avikus-data/images/train/batch2_wangsan_data_01h17m00s~01h17m45s_230511_ws_blindleft.mp4.mp4_image_00000018.jpg\n",
      "Done. Image saved to ../../avikus-data/images/train/batch2_wangsan_data_01h17m00s~01h17m45s_230511_ws_blindleft.mp4.mp4_image_00000012.jpg\n",
      "Done. Image saved to ../../avikus-data/images/train/batch2_wangsan_data_01h17m00s~01h17m45s_230511_ws_blindleft.mp4.mp4_image_00000019.jpg\n",
      "Done. Image saved to ../../avikus-data/images/train/batch2_wangsan_data_01h17m00s~01h17m45s_230511_ws_blindleft.mp4.mp4_image_00000017.jpg\n",
      "Done. Image saved to ../../avikus-data/images/train/batch2_wangsan_data_01h17m00s~01h17m45s_230511_ws_blindleft.mp4.mp4_image_00000015.jpg\n",
      "Done. Image saved to ../../avikus-data/images/train/batch2_wangsan_data_01h17m00s~01h17m45s_230511_ws_blindleft.mp4.mp4_image_00000004.jpg\n",
      "Done. Image saved to ../../avikus-data/images/train/batch2_wangsan_data_01h17m00s~01h17m45s_230511_ws_blindleft.mp4.mp4_image_00000005.jpg\n",
      "Done. Image saved to ../../avikus-data/images/train/batch2_wangsan_data_01h17m00s~01h17m45s_230511_ws_blindleft.mp4.mp4_image_00000021.jpg\n",
      "Done. Image saved to ../../avikus-data/images/train/batch2_wangsan_data_01h17m00s~01h17m45s_230511_ws_blindleft.mp4.mp4_image_00000013.jpg\n",
      "Done. Image saved to ../../avikus-data/images/train/batch2_wangsan_data_01h17m00s~01h17m45s_230511_ws_blindleft.mp4.mp4_image_00000006.jpg\n",
      "Done. Image saved to ../../avikus-data/images/train/batch2_wangsan_data_01h17m00s~01h17m45s_230511_ws_blindleft.mp4.mp4_image_00000007.jpg\n",
      "Done. Image saved to ../../avikus-data/images/train/batch2_wangsan_data_01h17m00s~01h17m45s_230511_ws_blindleft.mp4.mp4_image_00000022.jpg\n",
      "Done. Image saved to ../../avikus-data/images/train/batch2_wangsan_data_01h17m00s~01h17m45s_230511_ws_blindleft.mp4.mp4_image_00000001.jpg\n",
      "Done. Image saved to ../../avikus-data/images/train/batch2_wangsan_data_01h17m00s~01h17m45s_230511_ws_blindleft.mp4.mp4_image_00000016.jpg\n",
      "Done. Image saved to ../../avikus-data/images/train/batch2_wangsan_data_01h17m00s~01h17m45s_230511_ws_blindleft.mp4.mp4_image_00000002.jpg\n",
      "Done. Image saved to ../../avikus-data/images/train/batch2_wangsan_data_01h17m00s~01h17m45s_230511_ws_blindleft.mp4.mp4_image_00000008.jpg\n",
      "Done. Image saved to ../../avikus-data/images/train/batch2_wangsan_data_01h17m00s~01h17m45s_230511_ws_blindleft.mp4.mp4_image_00000009.jpg\n",
      "Done. Image saved to ../../avikus-data/images/train/batch2_wangsan_data_01h17m00s~01h17m45s_230511_ws_blindleft.mp4.mp4_image_00000011.jpg\n"
     ]
    },
    {
     "name": "stderr",
     "output_type": "stream",
     "text": [
      "188it [00:44,  3.68it/s]"
     ]
    },
    {
     "name": "stdout",
     "output_type": "stream",
     "text": [
      "Done. Image saved to ../../avikus-data/images/train/batch2_wangsan_data_01h17m00s~01h17m45s_230511_ws_blindleft.mp4.mp4_image_00000023.jpg\n",
      "Done. Image saved to ../../avikus-data/images/train/batch2_wangsan_data_00h00m45s~00h01m45s_230511_ws_blindright.mp4.mp4_image_00000010.jpg\n",
      "Done. Image saved to ../../avikus-data/images/train/batch2_wangsan_data_00h00m45s~00h01m45s_230511_ws_blindright.mp4.mp4_image_00000020.jpg\n",
      "Done. Image saved to ../../avikus-data/images/train/batch2_wangsan_data_00h00m45s~00h01m45s_230511_ws_blindright.mp4.mp4_image_00000027.jpg\n",
      "Done. Image saved to ../../avikus-data/images/train/batch2_wangsan_data_00h00m45s~00h01m45s_230511_ws_blindright.mp4.mp4_image_00000003.jpg\n",
      "Done. Image saved to ../../avikus-data/images/train/batch2_wangsan_data_00h00m45s~00h01m45s_230511_ws_blindright.mp4.mp4_image_00000014.jpg\n",
      "Done. Image saved to ../../avikus-data/images/train/batch2_wangsan_data_00h00m45s~00h01m45s_230511_ws_blindright.mp4.mp4_image_00000018.jpg\n",
      "Done. Image saved to ../../avikus-data/images/train/batch2_wangsan_data_00h00m45s~00h01m45s_230511_ws_blindright.mp4.mp4_image_00000012.jpg\n",
      "Done. Image saved to ../../avikus-data/images/train/batch2_wangsan_data_00h00m45s~00h01m45s_230511_ws_blindright.mp4.mp4_image_00000019.jpg\n",
      "Done. Image saved to ../../avikus-data/images/train/batch2_wangsan_data_00h00m45s~00h01m45s_230511_ws_blindright.mp4.mp4_image_00000026.jpg\n",
      "Done. Image saved to ../../avikus-data/images/train/batch2_wangsan_data_00h00m45s~00h01m45s_230511_ws_blindright.mp4.mp4_image_00000017.jpg\n",
      "Done. Image saved to ../../avikus-data/images/train/batch2_wangsan_data_00h00m45s~00h01m45s_230511_ws_blindright.mp4.mp4_image_00000015.jpg\n",
      "Done. Image saved to ../../avikus-data/images/train/batch2_wangsan_data_00h00m45s~00h01m45s_230511_ws_blindright.mp4.mp4_image_00000004.jpg\n",
      "Done. Image saved to ../../avikus-data/images/train/batch2_wangsan_data_00h00m45s~00h01m45s_230511_ws_blindright.mp4.mp4_image_00000005.jpg\n",
      "Done. Image saved to ../../avikus-data/images/train/batch2_wangsan_data_00h00m45s~00h01m45s_230511_ws_blindright.mp4.mp4_image_00000021.jpg\n",
      "Done. Image saved to ../../avikus-data/images/train/batch2_wangsan_data_00h00m45s~00h01m45s_230511_ws_blindright.mp4.mp4_image_00000024.jpg\n",
      "Done. Image saved to ../../avikus-data/images/train/batch2_wangsan_data_00h00m45s~00h01m45s_230511_ws_blindright.mp4.mp4_image_00000013.jpg\n",
      "Done. Image saved to ../../avikus-data/images/train/batch2_wangsan_data_00h00m45s~00h01m45s_230511_ws_blindright.mp4.mp4_image_00000031.jpg\n",
      "Done. Image saved to ../../avikus-data/images/train/batch2_wangsan_data_00h00m45s~00h01m45s_230511_ws_blindright.mp4.mp4_image_00000006.jpg\n",
      "Done. Image saved to ../../avikus-data/images/train/batch2_wangsan_data_00h00m45s~00h01m45s_230511_ws_blindright.mp4.mp4_image_00000007.jpg\n",
      "Done. Image saved to ../../avikus-data/images/train/batch2_wangsan_data_00h00m45s~00h01m45s_230511_ws_blindright.mp4.mp4_image_00000022.jpg\n",
      "Done. Image saved to ../../avikus-data/images/train/batch2_wangsan_data_00h00m45s~00h01m45s_230511_ws_blindright.mp4.mp4_image_00000029.jpg\n",
      "Done. Image saved to ../../avikus-data/images/train/batch2_wangsan_data_00h00m45s~00h01m45s_230511_ws_blindright.mp4.mp4_image_00000025.jpg\n",
      "Done. Image saved to ../../avikus-data/images/train/batch2_wangsan_data_00h00m45s~00h01m45s_230511_ws_blindright.mp4.mp4_image_00000001.jpg\n",
      "Done. Image saved to ../../avikus-data/images/train/batch2_wangsan_data_00h00m45s~00h01m45s_230511_ws_blindright.mp4.mp4_image_00000016.jpg\n",
      "Done. Image saved to ../../avikus-data/images/train/batch2_wangsan_data_00h00m45s~00h01m45s_230511_ws_blindright.mp4.mp4_image_00000002.jpg\n",
      "Done. Image saved to ../../avikus-data/images/train/batch2_wangsan_data_00h00m45s~00h01m45s_230511_ws_blindright.mp4.mp4_image_00000028.jpg\n",
      "Done. Image saved to ../../avikus-data/images/train/batch2_wangsan_data_00h00m45s~00h01m45s_230511_ws_blindright.mp4.mp4_image_00000030.jpg\n"
     ]
    },
    {
     "name": "stderr",
     "output_type": "stream",
     "text": [
      "193it [00:46,  3.40it/s]"
     ]
    },
    {
     "name": "stdout",
     "output_type": "stream",
     "text": [
      "Done. Image saved to ../../avikus-data/images/train/batch2_wangsan_data_00h00m45s~00h01m45s_230511_ws_blindright.mp4.mp4_image_00000008.jpg\n",
      "Done. Image saved to ../../avikus-data/images/train/batch2_wangsan_data_00h00m45s~00h01m45s_230511_ws_blindright.mp4.mp4_image_00000009.jpg\n",
      "Done. Image saved to ../../avikus-data/images/train/batch2_wangsan_data_00h00m45s~00h01m45s_230511_ws_blindright.mp4.mp4_image_00000011.jpg\n",
      "Done. Image saved to ../../avikus-data/images/train/batch2_wangsan_data_00h00m45s~00h01m45s_230511_ws_blindright.mp4.mp4_image_00000023.jpg\n",
      "Done. Image saved to ../../avikus-data/images/train/batch2_wangsan_data_00h32m30s~00h33m00s_230511_ws_right.mp4.mp4_image_00000010.jpg\n",
      "Done. Image saved to ../../avikus-data/images/train/batch2_wangsan_data_00h32m30s~00h33m00s_230511_ws_right.mp4.mp4_image_00000003.jpg\n",
      "Done. Image saved to ../../avikus-data/images/train/batch2_wangsan_data_00h32m30s~00h33m00s_230511_ws_right.mp4.mp4_image_00000014.jpg\n",
      "Done. Image saved to ../../avikus-data/images/train/batch2_wangsan_data_00h32m30s~00h33m00s_230511_ws_right.mp4.mp4_image_00000012.jpg\n",
      "Done. Image saved to ../../avikus-data/images/train/batch2_wangsan_data_00h32m30s~00h33m00s_230511_ws_right.mp4.mp4_image_00000015.jpg\n",
      "Done. Image saved to ../../avikus-data/images/train/batch2_wangsan_data_00h32m30s~00h33m00s_230511_ws_right.mp4.mp4_image_00000004.jpg\n",
      "Done. Image saved to ../../avikus-data/images/train/batch2_wangsan_data_00h32m30s~00h33m00s_230511_ws_right.mp4.mp4_image_00000005.jpg\n",
      "Done. Image saved to ../../avikus-data/images/train/batch2_wangsan_data_00h32m30s~00h33m00s_230511_ws_right.mp4.mp4_image_00000013.jpg\n",
      "Done. Image saved to ../../avikus-data/images/train/batch2_wangsan_data_00h32m30s~00h33m00s_230511_ws_right.mp4.mp4_image_00000006.jpg\n",
      "Done. Image saved to ../../avikus-data/images/train/batch2_wangsan_data_00h32m30s~00h33m00s_230511_ws_right.mp4.mp4_image_00000007.jpg\n",
      "Done. Image saved to ../../avikus-data/images/train/batch2_wangsan_data_00h32m30s~00h33m00s_230511_ws_right.mp4.mp4_image_00000001.jpg\n",
      "Done. Image saved to ../../avikus-data/images/train/batch2_wangsan_data_00h32m30s~00h33m00s_230511_ws_right.mp4.mp4_image_00000016.jpg\n"
     ]
    },
    {
     "name": "stderr",
     "output_type": "stream",
     "text": [
      "198it [00:47,  3.85it/s]"
     ]
    },
    {
     "name": "stdout",
     "output_type": "stream",
     "text": [
      "Done. Image saved to ../../avikus-data/images/train/batch2_wangsan_data_00h32m30s~00h33m00s_230511_ws_right.mp4.mp4_image_00000002.jpg\n",
      "Done. Image saved to ../../avikus-data/images/train/batch2_wangsan_data_00h32m30s~00h33m00s_230511_ws_right.mp4.mp4_image_00000008.jpg\n",
      "Done. Image saved to ../../avikus-data/images/train/batch2_wangsan_data_00h32m30s~00h33m00s_230511_ws_right.mp4.mp4_image_00000009.jpg\n",
      "Done. Image saved to ../../avikus-data/images/train/batch2_wangsan_data_00h32m30s~00h33m00s_230511_ws_right.mp4.mp4_image_00000011.jpg\n",
      "Done. Image saved to ../../avikus-data/images/train/batch2_wangsan_data_00h32m30s~00h33m00s_230511_ws_rear.mp4.mp4_image_00000010.jpg\n",
      "Done. Image saved to ../../avikus-data/images/train/batch2_wangsan_data_00h32m30s~00h33m00s_230511_ws_rear.mp4.mp4_image_00000003.jpg\n",
      "Done. Image saved to ../../avikus-data/images/train/batch2_wangsan_data_00h32m30s~00h33m00s_230511_ws_rear.mp4.mp4_image_00000014.jpg\n",
      "Done. Image saved to ../../avikus-data/images/train/batch2_wangsan_data_00h32m30s~00h33m00s_230511_ws_rear.mp4.mp4_image_00000012.jpg\n",
      "Done. Image saved to ../../avikus-data/images/train/batch2_wangsan_data_00h32m30s~00h33m00s_230511_ws_rear.mp4.mp4_image_00000015.jpg\n",
      "Done. Image saved to ../../avikus-data/images/train/batch2_wangsan_data_00h32m30s~00h33m00s_230511_ws_rear.mp4.mp4_image_00000004.jpg\n",
      "Done. Image saved to ../../avikus-data/images/train/batch2_wangsan_data_00h32m30s~00h33m00s_230511_ws_rear.mp4.mp4_image_00000005.jpg\n",
      "Done. Image saved to ../../avikus-data/images/train/batch2_wangsan_data_00h32m30s~00h33m00s_230511_ws_rear.mp4.mp4_image_00000013.jpg\n",
      "Done. Image saved to ../../avikus-data/images/train/batch2_wangsan_data_00h32m30s~00h33m00s_230511_ws_rear.mp4.mp4_image_00000006.jpg\n",
      "Done. Image saved to ../../avikus-data/images/train/batch2_wangsan_data_00h32m30s~00h33m00s_230511_ws_rear.mp4.mp4_image_00000007.jpg\n",
      "Done. Image saved to ../../avikus-data/images/train/batch2_wangsan_data_00h32m30s~00h33m00s_230511_ws_rear.mp4.mp4_image_00000001.jpg\n",
      "Done. Image saved to ../../avikus-data/images/train/batch2_wangsan_data_00h32m30s~00h33m00s_230511_ws_rear.mp4.mp4_image_00000016.jpg\n"
     ]
    },
    {
     "name": "stderr",
     "output_type": "stream",
     "text": [
      "203it [00:48,  4.25it/s]"
     ]
    },
    {
     "name": "stdout",
     "output_type": "stream",
     "text": [
      "Done. Image saved to ../../avikus-data/images/train/batch2_wangsan_data_00h32m30s~00h33m00s_230511_ws_rear.mp4.mp4_image_00000002.jpg\n",
      "Done. Image saved to ../../avikus-data/images/train/batch2_wangsan_data_00h32m30s~00h33m00s_230511_ws_rear.mp4.mp4_image_00000008.jpg\n",
      "Done. Image saved to ../../avikus-data/images/train/batch2_wangsan_data_00h32m30s~00h33m00s_230511_ws_rear.mp4.mp4_image_00000009.jpg\n",
      "Done. Image saved to ../../avikus-data/images/train/batch2_wangsan_data_00h32m30s~00h33m00s_230511_ws_rear.mp4.mp4_image_00000011.jpg\n",
      "Done. Image saved to ../../avikus-data/images/train/batch2_wangsan_data_00h00m45s~00h01m45s_230511_ws_left.mp4.mp4_image_00000010.jpg\n",
      "Done. Image saved to ../../avikus-data/images/train/batch2_wangsan_data_00h00m45s~00h01m45s_230511_ws_left.mp4.mp4_image_00000020.jpg\n",
      "Done. Image saved to ../../avikus-data/images/train/batch2_wangsan_data_00h00m45s~00h01m45s_230511_ws_left.mp4.mp4_image_00000027.jpg\n",
      "Done. Image saved to ../../avikus-data/images/train/batch2_wangsan_data_00h00m45s~00h01m45s_230511_ws_left.mp4.mp4_image_00000003.jpg\n",
      "Done. Image saved to ../../avikus-data/images/train/batch2_wangsan_data_00h00m45s~00h01m45s_230511_ws_left.mp4.mp4_image_00000014.jpg\n",
      "Done. Image saved to ../../avikus-data/images/train/batch2_wangsan_data_00h00m45s~00h01m45s_230511_ws_left.mp4.mp4_image_00000018.jpg\n",
      "Done. Image saved to ../../avikus-data/images/train/batch2_wangsan_data_00h00m45s~00h01m45s_230511_ws_left.mp4.mp4_image_00000012.jpg\n",
      "Done. Image saved to ../../avikus-data/images/train/batch2_wangsan_data_00h00m45s~00h01m45s_230511_ws_left.mp4.mp4_image_00000019.jpg\n",
      "Done. Image saved to ../../avikus-data/images/train/batch2_wangsan_data_00h00m45s~00h01m45s_230511_ws_left.mp4.mp4_image_00000026.jpg\n",
      "Done. Image saved to ../../avikus-data/images/train/batch2_wangsan_data_00h00m45s~00h01m45s_230511_ws_left.mp4.mp4_image_00000017.jpg\n",
      "Done. Image saved to ../../avikus-data/images/train/batch2_wangsan_data_00h00m45s~00h01m45s_230511_ws_left.mp4.mp4_image_00000015.jpg\n",
      "Done. Image saved to ../../avikus-data/images/train/batch2_wangsan_data_00h00m45s~00h01m45s_230511_ws_left.mp4.mp4_image_00000004.jpg\n",
      "Done. Image saved to ../../avikus-data/images/train/batch2_wangsan_data_00h00m45s~00h01m45s_230511_ws_left.mp4.mp4_image_00000005.jpg\n",
      "Done. Image saved to ../../avikus-data/images/train/batch2_wangsan_data_00h00m45s~00h01m45s_230511_ws_left.mp4.mp4_image_00000021.jpg\n",
      "Done. Image saved to ../../avikus-data/images/train/batch2_wangsan_data_00h00m45s~00h01m45s_230511_ws_left.mp4.mp4_image_00000024.jpg\n",
      "Done. Image saved to ../../avikus-data/images/train/batch2_wangsan_data_00h00m45s~00h01m45s_230511_ws_left.mp4.mp4_image_00000013.jpg\n",
      "Done. Image saved to ../../avikus-data/images/train/batch2_wangsan_data_00h00m45s~00h01m45s_230511_ws_left.mp4.mp4_image_00000031.jpg\n",
      "Done. Image saved to ../../avikus-data/images/train/batch2_wangsan_data_00h00m45s~00h01m45s_230511_ws_left.mp4.mp4_image_00000006.jpg\n",
      "Done. Image saved to ../../avikus-data/images/train/batch2_wangsan_data_00h00m45s~00h01m45s_230511_ws_left.mp4.mp4_image_00000007.jpg\n",
      "Done. Image saved to ../../avikus-data/images/train/batch2_wangsan_data_00h00m45s~00h01m45s_230511_ws_left.mp4.mp4_image_00000022.jpg\n",
      "Done. Image saved to ../../avikus-data/images/train/batch2_wangsan_data_00h00m45s~00h01m45s_230511_ws_left.mp4.mp4_image_00000029.jpg\n",
      "Done. Image saved to ../../avikus-data/images/train/batch2_wangsan_data_00h00m45s~00h01m45s_230511_ws_left.mp4.mp4_image_00000025.jpg\n",
      "Done. Image saved to ../../avikus-data/images/train/batch2_wangsan_data_00h00m45s~00h01m45s_230511_ws_left.mp4.mp4_image_00000001.jpg\n",
      "Done. Image saved to ../../avikus-data/images/train/batch2_wangsan_data_00h00m45s~00h01m45s_230511_ws_left.mp4.mp4_image_00000016.jpg\n",
      "Done. Image saved to ../../avikus-data/images/train/batch2_wangsan_data_00h00m45s~00h01m45s_230511_ws_left.mp4.mp4_image_00000002.jpg\n",
      "Done. Image saved to ../../avikus-data/images/train/batch2_wangsan_data_00h00m45s~00h01m45s_230511_ws_left.mp4.mp4_image_00000028.jpg\n",
      "Done. Image saved to ../../avikus-data/images/train/batch2_wangsan_data_00h00m45s~00h01m45s_230511_ws_left.mp4.mp4_image_00000030.jpg\n",
      "Done. Image saved to ../../avikus-data/images/train/batch2_wangsan_data_00h00m45s~00h01m45s_230511_ws_left.mp4.mp4_image_00000008.jpg\n"
     ]
    },
    {
     "name": "stderr",
     "output_type": "stream",
     "text": [
      "208it [00:50,  3.56it/s]"
     ]
    },
    {
     "name": "stdout",
     "output_type": "stream",
     "text": [
      "Done. Image saved to ../../avikus-data/images/train/batch2_wangsan_data_00h00m45s~00h01m45s_230511_ws_left.mp4.mp4_image_00000009.jpg\n",
      "Done. Image saved to ../../avikus-data/images/train/batch2_wangsan_data_00h00m45s~00h01m45s_230511_ws_left.mp4.mp4_image_00000011.jpg\n",
      "Done. Image saved to ../../avikus-data/images/train/batch2_wangsan_data_00h00m45s~00h01m45s_230511_ws_left.mp4.mp4_image_00000023.jpg\n",
      "Done. Image saved to ../../avikus-data/images/train/batch2_UK_data_record_run_2_00m40s~01m22s_video_rear.mp4_image_00000010.jpg\n",
      "Done. Image saved to ../../avikus-data/images/train/batch2_UK_data_record_run_2_00m40s~01m22s_video_rear.mp4_image_00000020.jpg\n",
      "Done. Image saved to ../../avikus-data/images/train/batch2_UK_data_record_run_2_00m40s~01m22s_video_rear.mp4_image_00000003.jpg\n",
      "Done. Image saved to ../../avikus-data/images/train/batch2_UK_data_record_run_2_00m40s~01m22s_video_rear.mp4_image_00000014.jpg\n",
      "Done. Image saved to ../../avikus-data/images/train/batch2_UK_data_record_run_2_00m40s~01m22s_video_rear.mp4_image_00000018.jpg\n",
      "Done. Image saved to ../../avikus-data/images/train/batch2_UK_data_record_run_2_00m40s~01m22s_video_rear.mp4_image_00000012.jpg\n",
      "Done. Image saved to ../../avikus-data/images/train/batch2_UK_data_record_run_2_00m40s~01m22s_video_rear.mp4_image_00000019.jpg\n",
      "Done. Image saved to ../../avikus-data/images/train/batch2_UK_data_record_run_2_00m40s~01m22s_video_rear.mp4_image_00000017.jpg\n",
      "Done. Image saved to ../../avikus-data/images/train/batch2_UK_data_record_run_2_00m40s~01m22s_video_rear.mp4_image_00000015.jpg\n",
      "Done. Image saved to ../../avikus-data/images/train/batch2_UK_data_record_run_2_00m40s~01m22s_video_rear.mp4_image_00000004.jpg\n",
      "Done. Image saved to ../../avikus-data/images/train/batch2_UK_data_record_run_2_00m40s~01m22s_video_rear.mp4_image_00000005.jpg\n",
      "Done. Image saved to ../../avikus-data/images/train/batch2_UK_data_record_run_2_00m40s~01m22s_video_rear.mp4_image_00000021.jpg\n",
      "Done. Image saved to ../../avikus-data/images/train/batch2_UK_data_record_run_2_00m40s~01m22s_video_rear.mp4_image_00000013.jpg\n",
      "Done. Image saved to ../../avikus-data/images/train/batch2_UK_data_record_run_2_00m40s~01m22s_video_rear.mp4_image_00000006.jpg\n",
      "Done. Image saved to ../../avikus-data/images/train/batch2_UK_data_record_run_2_00m40s~01m22s_video_rear.mp4_image_00000007.jpg\n",
      "Done. Image saved to ../../avikus-data/images/train/batch2_UK_data_record_run_2_00m40s~01m22s_video_rear.mp4_image_00000022.jpg\n",
      "Done. Image saved to ../../avikus-data/images/train/batch2_UK_data_record_run_2_00m40s~01m22s_video_rear.mp4_image_00000001.jpg\n",
      "Done. Image saved to ../../avikus-data/images/train/batch2_UK_data_record_run_2_00m40s~01m22s_video_rear.mp4_image_00000016.jpg\n",
      "Done. Image saved to ../../avikus-data/images/train/batch2_UK_data_record_run_2_00m40s~01m22s_video_rear.mp4_image_00000002.jpg\n"
     ]
    },
    {
     "name": "stderr",
     "output_type": "stream",
     "text": [
      "213it [00:51,  3.39it/s]"
     ]
    },
    {
     "name": "stdout",
     "output_type": "stream",
     "text": [
      "Done. Image saved to ../../avikus-data/images/train/batch2_UK_data_record_run_2_00m40s~01m22s_video_rear.mp4_image_00000008.jpg\n",
      "Done. Image saved to ../../avikus-data/images/train/batch2_UK_data_record_run_2_00m40s~01m22s_video_rear.mp4_image_00000009.jpg\n",
      "Done. Image saved to ../../avikus-data/images/train/batch2_UK_data_record_run_2_00m40s~01m22s_video_rear.mp4_image_00000011.jpg\n",
      "Done. Image saved to ../../avikus-data/images/train/batch2_wangsan_data_00h01m45s~00h02m45s_230511_ws_right.mp4.mp4_image_00000010.jpg\n",
      "Done. Image saved to ../../avikus-data/images/train/batch2_wangsan_data_00h01m45s~00h02m45s_230511_ws_right.mp4.mp4_image_00000020.jpg\n",
      "Done. Image saved to ../../avikus-data/images/train/batch2_wangsan_data_00h01m45s~00h02m45s_230511_ws_right.mp4.mp4_image_00000027.jpg\n",
      "Done. Image saved to ../../avikus-data/images/train/batch2_wangsan_data_00h01m45s~00h02m45s_230511_ws_right.mp4.mp4_image_00000003.jpg\n",
      "Done. Image saved to ../../avikus-data/images/train/batch2_wangsan_data_00h01m45s~00h02m45s_230511_ws_right.mp4.mp4_image_00000014.jpg\n",
      "Done. Image saved to ../../avikus-data/images/train/batch2_wangsan_data_00h01m45s~00h02m45s_230511_ws_right.mp4.mp4_image_00000018.jpg\n",
      "Done. Image saved to ../../avikus-data/images/train/batch2_wangsan_data_00h01m45s~00h02m45s_230511_ws_right.mp4.mp4_image_00000012.jpg\n",
      "Done. Image saved to ../../avikus-data/images/train/batch2_wangsan_data_00h01m45s~00h02m45s_230511_ws_right.mp4.mp4_image_00000019.jpg\n",
      "Done. Image saved to ../../avikus-data/images/train/batch2_wangsan_data_00h01m45s~00h02m45s_230511_ws_right.mp4.mp4_image_00000026.jpg\n",
      "Done. Image saved to ../../avikus-data/images/train/batch2_wangsan_data_00h01m45s~00h02m45s_230511_ws_right.mp4.mp4_image_00000017.jpg\n",
      "Done. Image saved to ../../avikus-data/images/train/batch2_wangsan_data_00h01m45s~00h02m45s_230511_ws_right.mp4.mp4_image_00000015.jpg\n",
      "Done. Image saved to ../../avikus-data/images/train/batch2_wangsan_data_00h01m45s~00h02m45s_230511_ws_right.mp4.mp4_image_00000004.jpg\n",
      "Done. Image saved to ../../avikus-data/images/train/batch2_wangsan_data_00h01m45s~00h02m45s_230511_ws_right.mp4.mp4_image_00000005.jpg\n",
      "Done. Image saved to ../../avikus-data/images/train/batch2_wangsan_data_00h01m45s~00h02m45s_230511_ws_right.mp4.mp4_image_00000021.jpg\n",
      "Done. Image saved to ../../avikus-data/images/train/batch2_wangsan_data_00h01m45s~00h02m45s_230511_ws_right.mp4.mp4_image_00000024.jpg\n",
      "Done. Image saved to ../../avikus-data/images/train/batch2_wangsan_data_00h01m45s~00h02m45s_230511_ws_right.mp4.mp4_image_00000013.jpg\n",
      "Done. Image saved to ../../avikus-data/images/train/batch2_wangsan_data_00h01m45s~00h02m45s_230511_ws_right.mp4.mp4_image_00000031.jpg\n",
      "Done. Image saved to ../../avikus-data/images/train/batch2_wangsan_data_00h01m45s~00h02m45s_230511_ws_right.mp4.mp4_image_00000006.jpg\n",
      "Done. Image saved to ../../avikus-data/images/train/batch2_wangsan_data_00h01m45s~00h02m45s_230511_ws_right.mp4.mp4_image_00000007.jpg\n",
      "Done. Image saved to ../../avikus-data/images/train/batch2_wangsan_data_00h01m45s~00h02m45s_230511_ws_right.mp4.mp4_image_00000022.jpg\n",
      "Done. Image saved to ../../avikus-data/images/train/batch2_wangsan_data_00h01m45s~00h02m45s_230511_ws_right.mp4.mp4_image_00000029.jpg\n",
      "Done. Image saved to ../../avikus-data/images/train/batch2_wangsan_data_00h01m45s~00h02m45s_230511_ws_right.mp4.mp4_image_00000025.jpg\n",
      "Done. Image saved to ../../avikus-data/images/train/batch2_wangsan_data_00h01m45s~00h02m45s_230511_ws_right.mp4.mp4_image_00000001.jpg\n",
      "Done. Image saved to ../../avikus-data/images/train/batch2_wangsan_data_00h01m45s~00h02m45s_230511_ws_right.mp4.mp4_image_00000016.jpg\n",
      "Done. Image saved to ../../avikus-data/images/train/batch2_wangsan_data_00h01m45s~00h02m45s_230511_ws_right.mp4.mp4_image_00000002.jpg\n",
      "Done. Image saved to ../../avikus-data/images/train/batch2_wangsan_data_00h01m45s~00h02m45s_230511_ws_right.mp4.mp4_image_00000028.jpg\n",
      "Done. Image saved to ../../avikus-data/images/train/batch2_wangsan_data_00h01m45s~00h02m45s_230511_ws_right.mp4.mp4_image_00000030.jpg\n"
     ]
    },
    {
     "name": "stderr",
     "output_type": "stream",
     "text": [
      "218it [00:53,  3.06it/s]"
     ]
    },
    {
     "name": "stdout",
     "output_type": "stream",
     "text": [
      "Done. Image saved to ../../avikus-data/images/train/batch2_wangsan_data_00h01m45s~00h02m45s_230511_ws_right.mp4.mp4_image_00000008.jpg\n",
      "Done. Image saved to ../../avikus-data/images/train/batch2_wangsan_data_00h01m45s~00h02m45s_230511_ws_right.mp4.mp4_image_00000009.jpg\n",
      "Done. Image saved to ../../avikus-data/images/train/batch2_wangsan_data_00h01m45s~00h02m45s_230511_ws_right.mp4.mp4_image_00000011.jpg\n",
      "Done. Image saved to ../../avikus-data/images/train/batch2_wangsan_data_00h01m45s~00h02m45s_230511_ws_right.mp4.mp4_image_00000023.jpg\n",
      "Done. Image saved to ../../avikus-data/images/train/batch2_wangsan_data_08m00s~08m30s_230426_ws_right.mp4_image_00000010.jpg\n",
      "Done. Image saved to ../../avikus-data/images/train/batch2_wangsan_data_08m00s~08m30s_230426_ws_right.mp4_image_00000003.jpg\n",
      "Done. Image saved to ../../avikus-data/images/train/batch2_wangsan_data_08m00s~08m30s_230426_ws_right.mp4_image_00000014.jpg\n",
      "Done. Image saved to ../../avikus-data/images/train/batch2_wangsan_data_08m00s~08m30s_230426_ws_right.mp4_image_00000012.jpg\n",
      "Done. Image saved to ../../avikus-data/images/train/batch2_wangsan_data_08m00s~08m30s_230426_ws_right.mp4_image_00000015.jpg\n",
      "Done. Image saved to ../../avikus-data/images/train/batch2_wangsan_data_08m00s~08m30s_230426_ws_right.mp4_image_00000004.jpg\n",
      "Done. Image saved to ../../avikus-data/images/train/batch2_wangsan_data_08m00s~08m30s_230426_ws_right.mp4_image_00000005.jpg\n",
      "Done. Image saved to ../../avikus-data/images/train/batch2_wangsan_data_08m00s~08m30s_230426_ws_right.mp4_image_00000013.jpg\n",
      "Done. Image saved to ../../avikus-data/images/train/batch2_wangsan_data_08m00s~08m30s_230426_ws_right.mp4_image_00000006.jpg\n",
      "Done. Image saved to ../../avikus-data/images/train/batch2_wangsan_data_08m00s~08m30s_230426_ws_right.mp4_image_00000007.jpg\n",
      "Done. Image saved to ../../avikus-data/images/train/batch2_wangsan_data_08m00s~08m30s_230426_ws_right.mp4_image_00000001.jpg\n",
      "Done. Image saved to ../../avikus-data/images/train/batch2_wangsan_data_08m00s~08m30s_230426_ws_right.mp4_image_00000016.jpg\n"
     ]
    },
    {
     "name": "stderr",
     "output_type": "stream",
     "text": [
      "223it [00:54,  3.43it/s]"
     ]
    },
    {
     "name": "stdout",
     "output_type": "stream",
     "text": [
      "Done. Image saved to ../../avikus-data/images/train/batch2_wangsan_data_08m00s~08m30s_230426_ws_right.mp4_image_00000002.jpg\n",
      "Done. Image saved to ../../avikus-data/images/train/batch2_wangsan_data_08m00s~08m30s_230426_ws_right.mp4_image_00000008.jpg\n",
      "Done. Image saved to ../../avikus-data/images/train/batch2_wangsan_data_08m00s~08m30s_230426_ws_right.mp4_image_00000009.jpg\n",
      "Done. Image saved to ../../avikus-data/images/train/batch2_wangsan_data_08m00s~08m30s_230426_ws_right.mp4_image_00000011.jpg\n",
      "Done. Image saved to ../../avikus-data/images/train/batch2_wangsan_data_05m40s~06m40s_230426_ws_left.mp4_image_00000010.jpg\n",
      "Done. Image saved to ../../avikus-data/images/train/batch2_wangsan_data_05m40s~06m40s_230426_ws_left.mp4_image_00000020.jpg\n",
      "Done. Image saved to ../../avikus-data/images/train/batch2_wangsan_data_05m40s~06m40s_230426_ws_left.mp4_image_00000027.jpg\n",
      "Done. Image saved to ../../avikus-data/images/train/batch2_wangsan_data_05m40s~06m40s_230426_ws_left.mp4_image_00000003.jpg\n",
      "Done. Image saved to ../../avikus-data/images/train/batch2_wangsan_data_05m40s~06m40s_230426_ws_left.mp4_image_00000014.jpg\n",
      "Done. Image saved to ../../avikus-data/images/train/batch2_wangsan_data_05m40s~06m40s_230426_ws_left.mp4_image_00000018.jpg\n",
      "Done. Image saved to ../../avikus-data/images/train/batch2_wangsan_data_05m40s~06m40s_230426_ws_left.mp4_image_00000012.jpg\n",
      "Done. Image saved to ../../avikus-data/images/train/batch2_wangsan_data_05m40s~06m40s_230426_ws_left.mp4_image_00000019.jpg\n",
      "Done. Image saved to ../../avikus-data/images/train/batch2_wangsan_data_05m40s~06m40s_230426_ws_left.mp4_image_00000026.jpg\n",
      "Done. Image saved to ../../avikus-data/images/train/batch2_wangsan_data_05m40s~06m40s_230426_ws_left.mp4_image_00000017.jpg\n",
      "Done. Image saved to ../../avikus-data/images/train/batch2_wangsan_data_05m40s~06m40s_230426_ws_left.mp4_image_00000015.jpg\n",
      "Done. Image saved to ../../avikus-data/images/train/batch2_wangsan_data_05m40s~06m40s_230426_ws_left.mp4_image_00000004.jpg\n",
      "Done. Image saved to ../../avikus-data/images/train/batch2_wangsan_data_05m40s~06m40s_230426_ws_left.mp4_image_00000005.jpg\n",
      "Done. Image saved to ../../avikus-data/images/train/batch2_wangsan_data_05m40s~06m40s_230426_ws_left.mp4_image_00000021.jpg\n",
      "Done. Image saved to ../../avikus-data/images/train/batch2_wangsan_data_05m40s~06m40s_230426_ws_left.mp4_image_00000024.jpg\n",
      "Done. Image saved to ../../avikus-data/images/train/batch2_wangsan_data_05m40s~06m40s_230426_ws_left.mp4_image_00000013.jpg\n",
      "Done. Image saved to ../../avikus-data/images/train/batch2_wangsan_data_05m40s~06m40s_230426_ws_left.mp4_image_00000031.jpg\n",
      "Done. Image saved to ../../avikus-data/images/train/batch2_wangsan_data_05m40s~06m40s_230426_ws_left.mp4_image_00000006.jpg\n",
      "Done. Image saved to ../../avikus-data/images/train/batch2_wangsan_data_05m40s~06m40s_230426_ws_left.mp4_image_00000007.jpg\n",
      "Done. Image saved to ../../avikus-data/images/train/batch2_wangsan_data_05m40s~06m40s_230426_ws_left.mp4_image_00000022.jpg\n",
      "Done. Image saved to ../../avikus-data/images/train/batch2_wangsan_data_05m40s~06m40s_230426_ws_left.mp4_image_00000029.jpg\n",
      "Done. Image saved to ../../avikus-data/images/train/batch2_wangsan_data_05m40s~06m40s_230426_ws_left.mp4_image_00000025.jpg\n",
      "Done. Image saved to ../../avikus-data/images/train/batch2_wangsan_data_05m40s~06m40s_230426_ws_left.mp4_image_00000001.jpg\n",
      "Done. Image saved to ../../avikus-data/images/train/batch2_wangsan_data_05m40s~06m40s_230426_ws_left.mp4_image_00000016.jpg\n",
      "Done. Image saved to ../../avikus-data/images/train/batch2_wangsan_data_05m40s~06m40s_230426_ws_left.mp4_image_00000002.jpg\n",
      "Done. Image saved to ../../avikus-data/images/train/batch2_wangsan_data_05m40s~06m40s_230426_ws_left.mp4_image_00000028.jpg\n",
      "Done. Image saved to ../../avikus-data/images/train/batch2_wangsan_data_05m40s~06m40s_230426_ws_left.mp4_image_00000030.jpg\n",
      "Done. Image saved to ../../avikus-data/images/train/batch2_wangsan_data_05m40s~06m40s_230426_ws_left.mp4_image_00000008.jpg\n"
     ]
    },
    {
     "name": "stderr",
     "output_type": "stream",
     "text": [
      "228it [00:56,  3.10it/s]"
     ]
    },
    {
     "name": "stdout",
     "output_type": "stream",
     "text": [
      "Done. Image saved to ../../avikus-data/images/train/batch2_wangsan_data_05m40s~06m40s_230426_ws_left.mp4_image_00000009.jpg\n",
      "Done. Image saved to ../../avikus-data/images/train/batch2_wangsan_data_05m40s~06m40s_230426_ws_left.mp4_image_00000011.jpg\n",
      "Done. Image saved to ../../avikus-data/images/train/batch2_wangsan_data_05m40s~06m40s_230426_ws_left.mp4_image_00000023.jpg\n",
      "Done. Image saved to ../../avikus-data/images/train/batch2_wangsan_data_09m30s~10m30s_230426_ws_rear.mp4_image_00000010.jpg\n",
      "Done. Image saved to ../../avikus-data/images/train/batch2_wangsan_data_09m30s~10m30s_230426_ws_rear.mp4_image_00000020.jpg\n",
      "Done. Image saved to ../../avikus-data/images/train/batch2_wangsan_data_09m30s~10m30s_230426_ws_rear.mp4_image_00000027.jpg\n",
      "Done. Image saved to ../../avikus-data/images/train/batch2_wangsan_data_09m30s~10m30s_230426_ws_rear.mp4_image_00000003.jpg\n",
      "Done. Image saved to ../../avikus-data/images/train/batch2_wangsan_data_09m30s~10m30s_230426_ws_rear.mp4_image_00000014.jpg\n",
      "Done. Image saved to ../../avikus-data/images/train/batch2_wangsan_data_09m30s~10m30s_230426_ws_rear.mp4_image_00000018.jpg\n",
      "Done. Image saved to ../../avikus-data/images/train/batch2_wangsan_data_09m30s~10m30s_230426_ws_rear.mp4_image_00000012.jpg\n",
      "Done. Image saved to ../../avikus-data/images/train/batch2_wangsan_data_09m30s~10m30s_230426_ws_rear.mp4_image_00000019.jpg\n",
      "Done. Image saved to ../../avikus-data/images/train/batch2_wangsan_data_09m30s~10m30s_230426_ws_rear.mp4_image_00000026.jpg\n",
      "Done. Image saved to ../../avikus-data/images/train/batch2_wangsan_data_09m30s~10m30s_230426_ws_rear.mp4_image_00000017.jpg\n",
      "Done. Image saved to ../../avikus-data/images/train/batch2_wangsan_data_09m30s~10m30s_230426_ws_rear.mp4_image_00000015.jpg\n",
      "Done. Image saved to ../../avikus-data/images/train/batch2_wangsan_data_09m30s~10m30s_230426_ws_rear.mp4_image_00000004.jpg\n",
      "Done. Image saved to ../../avikus-data/images/train/batch2_wangsan_data_09m30s~10m30s_230426_ws_rear.mp4_image_00000005.jpg\n",
      "Done. Image saved to ../../avikus-data/images/train/batch2_wangsan_data_09m30s~10m30s_230426_ws_rear.mp4_image_00000021.jpg\n",
      "Done. Image saved to ../../avikus-data/images/train/batch2_wangsan_data_09m30s~10m30s_230426_ws_rear.mp4_image_00000024.jpg\n",
      "Done. Image saved to ../../avikus-data/images/train/batch2_wangsan_data_09m30s~10m30s_230426_ws_rear.mp4_image_00000013.jpg\n",
      "Done. Image saved to ../../avikus-data/images/train/batch2_wangsan_data_09m30s~10m30s_230426_ws_rear.mp4_image_00000031.jpg\n",
      "Done. Image saved to ../../avikus-data/images/train/batch2_wangsan_data_09m30s~10m30s_230426_ws_rear.mp4_image_00000006.jpg\n",
      "Done. Image saved to ../../avikus-data/images/train/batch2_wangsan_data_09m30s~10m30s_230426_ws_rear.mp4_image_00000007.jpg\n",
      "Done. Image saved to ../../avikus-data/images/train/batch2_wangsan_data_09m30s~10m30s_230426_ws_rear.mp4_image_00000022.jpg\n",
      "Done. Image saved to ../../avikus-data/images/train/batch2_wangsan_data_09m30s~10m30s_230426_ws_rear.mp4_image_00000029.jpg\n",
      "Done. Image saved to ../../avikus-data/images/train/batch2_wangsan_data_09m30s~10m30s_230426_ws_rear.mp4_image_00000025.jpg\n",
      "Done. Image saved to ../../avikus-data/images/train/batch2_wangsan_data_09m30s~10m30s_230426_ws_rear.mp4_image_00000001.jpg\n",
      "Done. Image saved to ../../avikus-data/images/train/batch2_wangsan_data_09m30s~10m30s_230426_ws_rear.mp4_image_00000016.jpg\n",
      "Done. Image saved to ../../avikus-data/images/train/batch2_wangsan_data_09m30s~10m30s_230426_ws_rear.mp4_image_00000002.jpg\n",
      "Done. Image saved to ../../avikus-data/images/train/batch2_wangsan_data_09m30s~10m30s_230426_ws_rear.mp4_image_00000028.jpg\n",
      "Done. Image saved to ../../avikus-data/images/train/batch2_wangsan_data_09m30s~10m30s_230426_ws_rear.mp4_image_00000030.jpg\n",
      "Done. Image saved to ../../avikus-data/images/train/batch2_wangsan_data_09m30s~10m30s_230426_ws_rear.mp4_image_00000008.jpg\n",
      "Done. Image saved to ../../avikus-data/images/train/batch2_wangsan_data_09m30s~10m30s_230426_ws_rear.mp4_image_00000009.jpg\n"
     ]
    },
    {
     "name": "stderr",
     "output_type": "stream",
     "text": [
      "233it [00:58,  2.97it/s]"
     ]
    },
    {
     "name": "stdout",
     "output_type": "stream",
     "text": [
      "Done. Image saved to ../../avikus-data/images/train/batch2_wangsan_data_09m30s~10m30s_230426_ws_rear.mp4_image_00000011.jpg\n",
      "Done. Image saved to ../../avikus-data/images/train/batch2_wangsan_data_09m30s~10m30s_230426_ws_rear.mp4_image_00000023.jpg\n",
      "Done. Image saved to ../../avikus-data/images/train/batch2_wangsan_data_01h17m00s~01h17m45s_230511_ws_left.mp4.mp4_image_00000010.jpg\n",
      "Done. Image saved to ../../avikus-data/images/train/batch2_wangsan_data_01h17m00s~01h17m45s_230511_ws_left.mp4.mp4_image_00000020.jpg\n",
      "Done. Image saved to ../../avikus-data/images/train/batch2_wangsan_data_01h17m00s~01h17m45s_230511_ws_left.mp4.mp4_image_00000003.jpg\n",
      "Done. Image saved to ../../avikus-data/images/train/batch2_wangsan_data_01h17m00s~01h17m45s_230511_ws_left.mp4.mp4_image_00000014.jpg\n",
      "Done. Image saved to ../../avikus-data/images/train/batch2_wangsan_data_01h17m00s~01h17m45s_230511_ws_left.mp4.mp4_image_00000018.jpg\n",
      "Done. Image saved to ../../avikus-data/images/train/batch2_wangsan_data_01h17m00s~01h17m45s_230511_ws_left.mp4.mp4_image_00000012.jpg\n",
      "Done. Image saved to ../../avikus-data/images/train/batch2_wangsan_data_01h17m00s~01h17m45s_230511_ws_left.mp4.mp4_image_00000019.jpg\n",
      "Done. Image saved to ../../avikus-data/images/train/batch2_wangsan_data_01h17m00s~01h17m45s_230511_ws_left.mp4.mp4_image_00000017.jpg\n",
      "Done. Image saved to ../../avikus-data/images/train/batch2_wangsan_data_01h17m00s~01h17m45s_230511_ws_left.mp4.mp4_image_00000015.jpg\n",
      "Done. Image saved to ../../avikus-data/images/train/batch2_wangsan_data_01h17m00s~01h17m45s_230511_ws_left.mp4.mp4_image_00000004.jpg\n",
      "Done. Image saved to ../../avikus-data/images/train/batch2_wangsan_data_01h17m00s~01h17m45s_230511_ws_left.mp4.mp4_image_00000005.jpg\n",
      "Done. Image saved to ../../avikus-data/images/train/batch2_wangsan_data_01h17m00s~01h17m45s_230511_ws_left.mp4.mp4_image_00000021.jpg\n",
      "Done. Image saved to ../../avikus-data/images/train/batch2_wangsan_data_01h17m00s~01h17m45s_230511_ws_left.mp4.mp4_image_00000013.jpg\n",
      "Done. Image saved to ../../avikus-data/images/train/batch2_wangsan_data_01h17m00s~01h17m45s_230511_ws_left.mp4.mp4_image_00000006.jpg\n",
      "Done. Image saved to ../../avikus-data/images/train/batch2_wangsan_data_01h17m00s~01h17m45s_230511_ws_left.mp4.mp4_image_00000007.jpg\n",
      "Done. Image saved to ../../avikus-data/images/train/batch2_wangsan_data_01h17m00s~01h17m45s_230511_ws_left.mp4.mp4_image_00000022.jpg\n",
      "Done. Image saved to ../../avikus-data/images/train/batch2_wangsan_data_01h17m00s~01h17m45s_230511_ws_left.mp4.mp4_image_00000001.jpg\n",
      "Done. Image saved to ../../avikus-data/images/train/batch2_wangsan_data_01h17m00s~01h17m45s_230511_ws_left.mp4.mp4_image_00000016.jpg\n",
      "Done. Image saved to ../../avikus-data/images/train/batch2_wangsan_data_01h17m00s~01h17m45s_230511_ws_left.mp4.mp4_image_00000002.jpg\n",
      "Done. Image saved to ../../avikus-data/images/train/batch2_wangsan_data_01h17m00s~01h17m45s_230511_ws_left.mp4.mp4_image_00000008.jpg\n",
      "Done. Image saved to ../../avikus-data/images/train/batch2_wangsan_data_01h17m00s~01h17m45s_230511_ws_left.mp4.mp4_image_00000009.jpg\n"
     ]
    },
    {
     "name": "stderr",
     "output_type": "stream",
     "text": [
      "238it [00:59,  3.09it/s]"
     ]
    },
    {
     "name": "stdout",
     "output_type": "stream",
     "text": [
      "Done. Image saved to ../../avikus-data/images/train/batch2_wangsan_data_01h17m00s~01h17m45s_230511_ws_left.mp4.mp4_image_00000011.jpg\n",
      "Done. Image saved to ../../avikus-data/images/train/batch2_wangsan_data_01h17m00s~01h17m45s_230511_ws_left.mp4.mp4_image_00000023.jpg\n",
      "Done. Image saved to ../../avikus-data/images/train/batch2_UK_data_record_port_berth_2_2_00m40s~01m10s_video_rightblind.mp4_image_00000010.jpg\n",
      "Done. Image saved to ../../avikus-data/images/train/batch2_UK_data_record_port_berth_2_2_00m40s~01m10s_video_rightblind.mp4_image_00000003.jpg\n",
      "Done. Image saved to ../../avikus-data/images/train/batch2_UK_data_record_port_berth_2_2_00m40s~01m10s_video_rightblind.mp4_image_00000014.jpg\n",
      "Done. Image saved to ../../avikus-data/images/train/batch2_UK_data_record_port_berth_2_2_00m40s~01m10s_video_rightblind.mp4_image_00000012.jpg\n",
      "Done. Image saved to ../../avikus-data/images/train/batch2_UK_data_record_port_berth_2_2_00m40s~01m10s_video_rightblind.mp4_image_00000015.jpg\n",
      "Done. Image saved to ../../avikus-data/images/train/batch2_UK_data_record_port_berth_2_2_00m40s~01m10s_video_rightblind.mp4_image_00000004.jpg\n",
      "Done. Image saved to ../../avikus-data/images/train/batch2_UK_data_record_port_berth_2_2_00m40s~01m10s_video_rightblind.mp4_image_00000005.jpg\n",
      "Done. Image saved to ../../avikus-data/images/train/batch2_UK_data_record_port_berth_2_2_00m40s~01m10s_video_rightblind.mp4_image_00000013.jpg\n",
      "Done. Image saved to ../../avikus-data/images/train/batch2_UK_data_record_port_berth_2_2_00m40s~01m10s_video_rightblind.mp4_image_00000006.jpg\n",
      "Done. Image saved to ../../avikus-data/images/train/batch2_UK_data_record_port_berth_2_2_00m40s~01m10s_video_rightblind.mp4_image_00000007.jpg\n",
      "Done. Image saved to ../../avikus-data/images/train/batch2_UK_data_record_port_berth_2_2_00m40s~01m10s_video_rightblind.mp4_image_00000016.jpg\n",
      "Done. Image saved to ../../avikus-data/images/train/batch2_UK_data_record_port_berth_2_2_00m40s~01m10s_video_rightblind.mp4_image_00000002.jpg\n",
      "Done. Image saved to ../../avikus-data/images/train/batch2_UK_data_record_port_berth_2_2_00m40s~01m10s_video_rightblind.mp4_image_00000008.jpg\n",
      "Done. Image saved to ../../avikus-data/images/train/batch2_UK_data_record_port_berth_2_2_00m40s~01m10s_video_rightblind.mp4_image_00000009.jpg\n"
     ]
    },
    {
     "name": "stderr",
     "output_type": "stream",
     "text": [
      "243it [01:00,  3.60it/s]"
     ]
    },
    {
     "name": "stdout",
     "output_type": "stream",
     "text": [
      "Done. Image saved to ../../avikus-data/images/train/batch2_UK_data_record_port_berth_2_2_00m40s~01m10s_video_rightblind.mp4_image_00000011.jpg\n",
      "Done. Image saved to ../../avikus-data/images/train/batch2_wangsan_data_00h46m20s~00h46m35s_230511_ws_rear.mp4.mp4_image_00000003.jpg\n",
      "Done. Image saved to ../../avikus-data/images/train/batch2_wangsan_data_00h46m20s~00h46m35s_230511_ws_rear.mp4.mp4_image_00000004.jpg\n",
      "Done. Image saved to ../../avikus-data/images/train/batch2_wangsan_data_00h46m20s~00h46m35s_230511_ws_rear.mp4.mp4_image_00000005.jpg\n",
      "Done. Image saved to ../../avikus-data/images/train/batch2_wangsan_data_00h46m20s~00h46m35s_230511_ws_rear.mp4.mp4_image_00000006.jpg\n",
      "Done. Image saved to ../../avikus-data/images/train/batch2_wangsan_data_00h46m20s~00h46m35s_230511_ws_rear.mp4.mp4_image_00000007.jpg\n",
      "Done. Image saved to ../../avikus-data/images/train/batch2_wangsan_data_00h46m20s~00h46m35s_230511_ws_rear.mp4.mp4_image_00000001.jpg\n",
      "Done. Image saved to ../../avikus-data/images/train/batch2_wangsan_data_00h46m20s~00h46m35s_230511_ws_rear.mp4.mp4_image_00000002.jpg\n"
     ]
    },
    {
     "name": "stderr",
     "output_type": "stream",
     "text": [
      "248it [01:01,  4.50it/s]"
     ]
    },
    {
     "name": "stdout",
     "output_type": "stream",
     "text": [
      "Done. Image saved to ../../avikus-data/images/train/batch2_wangsan_data_00h46m20s~00h46m35s_230511_ws_rear.mp4.mp4_image_00000008.jpg\n",
      "Done. Image saved to ../../avikus-data/images/train/batch2_UK_data_record_stbd_berth_3_0m39s_video_rightblind.mp4_image_00000010.jpg\n",
      "Done. Image saved to ../../avikus-data/images/train/batch2_UK_data_record_stbd_berth_3_0m39s_video_rightblind.mp4_image_00000020.jpg\n",
      "Done. Image saved to ../../avikus-data/images/train/batch2_UK_data_record_stbd_berth_3_0m39s_video_rightblind.mp4_image_00000003.jpg\n",
      "Done. Image saved to ../../avikus-data/images/train/batch2_UK_data_record_stbd_berth_3_0m39s_video_rightblind.mp4_image_00000014.jpg\n",
      "Done. Image saved to ../../avikus-data/images/train/batch2_UK_data_record_stbd_berth_3_0m39s_video_rightblind.mp4_image_00000018.jpg\n",
      "Done. Image saved to ../../avikus-data/images/train/batch2_UK_data_record_stbd_berth_3_0m39s_video_rightblind.mp4_image_00000012.jpg\n",
      "Done. Image saved to ../../avikus-data/images/train/batch2_UK_data_record_stbd_berth_3_0m39s_video_rightblind.mp4_image_00000019.jpg\n",
      "Done. Image saved to ../../avikus-data/images/train/batch2_UK_data_record_stbd_berth_3_0m39s_video_rightblind.mp4_image_00000017.jpg\n",
      "Done. Image saved to ../../avikus-data/images/train/batch2_UK_data_record_stbd_berth_3_0m39s_video_rightblind.mp4_image_00000015.jpg\n",
      "Done. Image saved to ../../avikus-data/images/train/batch2_UK_data_record_stbd_berth_3_0m39s_video_rightblind.mp4_image_00000004.jpg\n",
      "Done. Image saved to ../../avikus-data/images/train/batch2_UK_data_record_stbd_berth_3_0m39s_video_rightblind.mp4_image_00000005.jpg\n",
      "Done. Image saved to ../../avikus-data/images/train/batch2_UK_data_record_stbd_berth_3_0m39s_video_rightblind.mp4_image_00000013.jpg\n",
      "Done. Image saved to ../../avikus-data/images/train/batch2_UK_data_record_stbd_berth_3_0m39s_video_rightblind.mp4_image_00000006.jpg\n",
      "Done. Image saved to ../../avikus-data/images/train/batch2_UK_data_record_stbd_berth_3_0m39s_video_rightblind.mp4_image_00000007.jpg\n",
      "Done. Image saved to ../../avikus-data/images/train/batch2_UK_data_record_stbd_berth_3_0m39s_video_rightblind.mp4_image_00000001.jpg\n",
      "Done. Image saved to ../../avikus-data/images/train/batch2_UK_data_record_stbd_berth_3_0m39s_video_rightblind.mp4_image_00000016.jpg\n",
      "Done. Image saved to ../../avikus-data/images/train/batch2_UK_data_record_stbd_berth_3_0m39s_video_rightblind.mp4_image_00000002.jpg\n",
      "Done. Image saved to ../../avikus-data/images/train/batch2_UK_data_record_stbd_berth_3_0m39s_video_rightblind.mp4_image_00000008.jpg\n",
      "Done. Image saved to ../../avikus-data/images/train/batch2_UK_data_record_stbd_berth_3_0m39s_video_rightblind.mp4_image_00000009.jpg\n"
     ]
    },
    {
     "name": "stderr",
     "output_type": "stream",
     "text": [
      "253it [01:01,  5.15it/s]"
     ]
    },
    {
     "name": "stdout",
     "output_type": "stream",
     "text": [
      "Done. Image saved to ../../avikus-data/images/train/batch2_UK_data_record_stbd_berth_3_0m39s_video_rightblind.mp4_image_00000011.jpg\n",
      "Done. Image saved to ../../avikus-data/images/train/batch2_UK_data_record_tight_channel_2_00m30s~01m15s_video_front.mp4_image_00000010.jpg\n",
      "Done. Image saved to ../../avikus-data/images/train/batch2_UK_data_record_tight_channel_2_00m30s~01m15s_video_front.mp4_image_00000020.jpg\n",
      "Done. Image saved to ../../avikus-data/images/train/batch2_UK_data_record_tight_channel_2_00m30s~01m15s_video_front.mp4_image_00000003.jpg\n",
      "Done. Image saved to ../../avikus-data/images/train/batch2_UK_data_record_tight_channel_2_00m30s~01m15s_video_front.mp4_image_00000014.jpg\n",
      "Done. Image saved to ../../avikus-data/images/train/batch2_UK_data_record_tight_channel_2_00m30s~01m15s_video_front.mp4_image_00000018.jpg\n",
      "Done. Image saved to ../../avikus-data/images/train/batch2_UK_data_record_tight_channel_2_00m30s~01m15s_video_front.mp4_image_00000012.jpg\n",
      "Done. Image saved to ../../avikus-data/images/train/batch2_UK_data_record_tight_channel_2_00m30s~01m15s_video_front.mp4_image_00000019.jpg\n",
      "Done. Image saved to ../../avikus-data/images/train/batch2_UK_data_record_tight_channel_2_00m30s~01m15s_video_front.mp4_image_00000017.jpg\n",
      "Done. Image saved to ../../avikus-data/images/train/batch2_UK_data_record_tight_channel_2_00m30s~01m15s_video_front.mp4_image_00000015.jpg\n",
      "Done. Image saved to ../../avikus-data/images/train/batch2_UK_data_record_tight_channel_2_00m30s~01m15s_video_front.mp4_image_00000004.jpg\n",
      "Done. Image saved to ../../avikus-data/images/train/batch2_UK_data_record_tight_channel_2_00m30s~01m15s_video_front.mp4_image_00000005.jpg\n",
      "Done. Image saved to ../../avikus-data/images/train/batch2_UK_data_record_tight_channel_2_00m30s~01m15s_video_front.mp4_image_00000021.jpg\n",
      "Done. Image saved to ../../avikus-data/images/train/batch2_UK_data_record_tight_channel_2_00m30s~01m15s_video_front.mp4_image_00000013.jpg\n",
      "Done. Image saved to ../../avikus-data/images/train/batch2_UK_data_record_tight_channel_2_00m30s~01m15s_video_front.mp4_image_00000006.jpg\n",
      "Done. Image saved to ../../avikus-data/images/train/batch2_UK_data_record_tight_channel_2_00m30s~01m15s_video_front.mp4_image_00000007.jpg\n",
      "Done. Image saved to ../../avikus-data/images/train/batch2_UK_data_record_tight_channel_2_00m30s~01m15s_video_front.mp4_image_00000022.jpg\n",
      "Done. Image saved to ../../avikus-data/images/train/batch2_UK_data_record_tight_channel_2_00m30s~01m15s_video_front.mp4_image_00000001.jpg\n",
      "Done. Image saved to ../../avikus-data/images/train/batch2_UK_data_record_tight_channel_2_00m30s~01m15s_video_front.mp4_image_00000016.jpg\n",
      "Done. Image saved to ../../avikus-data/images/train/batch2_UK_data_record_tight_channel_2_00m30s~01m15s_video_front.mp4_image_00000002.jpg\n"
     ]
    },
    {
     "name": "stderr",
     "output_type": "stream",
     "text": [
      "258it [01:03,  4.42it/s]"
     ]
    },
    {
     "name": "stdout",
     "output_type": "stream",
     "text": [
      "Done. Image saved to ../../avikus-data/images/train/batch2_UK_data_record_tight_channel_2_00m30s~01m15s_video_front.mp4_image_00000008.jpg\n",
      "Done. Image saved to ../../avikus-data/images/train/batch2_UK_data_record_tight_channel_2_00m30s~01m15s_video_front.mp4_image_00000009.jpg\n",
      "Done. Image saved to ../../avikus-data/images/train/batch2_UK_data_record_tight_channel_2_00m30s~01m15s_video_front.mp4_image_00000011.jpg\n",
      "Done. Image saved to ../../avikus-data/images/train/batch2_UK_data_record_tight_channel_2_00m30s~01m15s_video_front.mp4_image_00000023.jpg\n",
      "Done. Image saved to ../../avikus-data/images/train/batch2_wangsan_data_08m00s~08m30s_230426_ws_left.mp4_image_00000010.jpg\n",
      "Done. Image saved to ../../avikus-data/images/train/batch2_wangsan_data_08m00s~08m30s_230426_ws_left.mp4_image_00000003.jpg\n",
      "Done. Image saved to ../../avikus-data/images/train/batch2_wangsan_data_08m00s~08m30s_230426_ws_left.mp4_image_00000014.jpg\n",
      "Done. Image saved to ../../avikus-data/images/train/batch2_wangsan_data_08m00s~08m30s_230426_ws_left.mp4_image_00000012.jpg\n",
      "Done. Image saved to ../../avikus-data/images/train/batch2_wangsan_data_08m00s~08m30s_230426_ws_left.mp4_image_00000015.jpg\n",
      "Done. Image saved to ../../avikus-data/images/train/batch2_wangsan_data_08m00s~08m30s_230426_ws_left.mp4_image_00000004.jpg\n",
      "Done. Image saved to ../../avikus-data/images/train/batch2_wangsan_data_08m00s~08m30s_230426_ws_left.mp4_image_00000005.jpg\n",
      "Done. Image saved to ../../avikus-data/images/train/batch2_wangsan_data_08m00s~08m30s_230426_ws_left.mp4_image_00000013.jpg\n",
      "Done. Image saved to ../../avikus-data/images/train/batch2_wangsan_data_08m00s~08m30s_230426_ws_left.mp4_image_00000006.jpg\n",
      "Done. Image saved to ../../avikus-data/images/train/batch2_wangsan_data_08m00s~08m30s_230426_ws_left.mp4_image_00000007.jpg\n",
      "Done. Image saved to ../../avikus-data/images/train/batch2_wangsan_data_08m00s~08m30s_230426_ws_left.mp4_image_00000001.jpg\n",
      "Done. Image saved to ../../avikus-data/images/train/batch2_wangsan_data_08m00s~08m30s_230426_ws_left.mp4_image_00000016.jpg\n"
     ]
    },
    {
     "name": "stderr",
     "output_type": "stream",
     "text": [
      "263it [01:04,  4.63it/s]"
     ]
    },
    {
     "name": "stdout",
     "output_type": "stream",
     "text": [
      "Done. Image saved to ../../avikus-data/images/train/batch2_wangsan_data_08m00s~08m30s_230426_ws_left.mp4_image_00000002.jpg\n",
      "Done. Image saved to ../../avikus-data/images/train/batch2_wangsan_data_08m00s~08m30s_230426_ws_left.mp4_image_00000008.jpg\n",
      "Done. Image saved to ../../avikus-data/images/train/batch2_wangsan_data_08m00s~08m30s_230426_ws_left.mp4_image_00000009.jpg\n",
      "Done. Image saved to ../../avikus-data/images/train/batch2_wangsan_data_08m00s~08m30s_230426_ws_left.mp4_image_00000011.jpg\n",
      "Done. Image saved to ../../avikus-data/images/train/batch2_UK_data_record_port_berth_2_2_00m40s~01m10s_video_leftblind.mp4_image_00000010.jpg\n",
      "Done. Image saved to ../../avikus-data/images/train/batch2_UK_data_record_port_berth_2_2_00m40s~01m10s_video_leftblind.mp4_image_00000003.jpg\n",
      "Done. Image saved to ../../avikus-data/images/train/batch2_UK_data_record_port_berth_2_2_00m40s~01m10s_video_leftblind.mp4_image_00000014.jpg\n",
      "Done. Image saved to ../../avikus-data/images/train/batch2_UK_data_record_port_berth_2_2_00m40s~01m10s_video_leftblind.mp4_image_00000012.jpg\n",
      "Done. Image saved to ../../avikus-data/images/train/batch2_UK_data_record_port_berth_2_2_00m40s~01m10s_video_leftblind.mp4_image_00000015.jpg\n",
      "Done. Image saved to ../../avikus-data/images/train/batch2_UK_data_record_port_berth_2_2_00m40s~01m10s_video_leftblind.mp4_image_00000004.jpg\n",
      "Done. Image saved to ../../avikus-data/images/train/batch2_UK_data_record_port_berth_2_2_00m40s~01m10s_video_leftblind.mp4_image_00000005.jpg\n",
      "Done. Image saved to ../../avikus-data/images/train/batch2_UK_data_record_port_berth_2_2_00m40s~01m10s_video_leftblind.mp4_image_00000013.jpg\n",
      "Done. Image saved to ../../avikus-data/images/train/batch2_UK_data_record_port_berth_2_2_00m40s~01m10s_video_leftblind.mp4_image_00000006.jpg\n",
      "Done. Image saved to ../../avikus-data/images/train/batch2_UK_data_record_port_berth_2_2_00m40s~01m10s_video_leftblind.mp4_image_00000007.jpg\n",
      "Done. Image saved to ../../avikus-data/images/train/batch2_UK_data_record_port_berth_2_2_00m40s~01m10s_video_leftblind.mp4_image_00000016.jpg\n",
      "Done. Image saved to ../../avikus-data/images/train/batch2_UK_data_record_port_berth_2_2_00m40s~01m10s_video_leftblind.mp4_image_00000002.jpg\n"
     ]
    },
    {
     "name": "stderr",
     "output_type": "stream",
     "text": [
      "268it [01:05,  4.84it/s]"
     ]
    },
    {
     "name": "stdout",
     "output_type": "stream",
     "text": [
      "Done. Image saved to ../../avikus-data/images/train/batch2_UK_data_record_port_berth_2_2_00m40s~01m10s_video_leftblind.mp4_image_00000008.jpg\n",
      "Done. Image saved to ../../avikus-data/images/train/batch2_UK_data_record_port_berth_2_2_00m40s~01m10s_video_leftblind.mp4_image_00000009.jpg\n",
      "Done. Image saved to ../../avikus-data/images/train/batch2_UK_data_record_port_berth_2_2_00m40s~01m10s_video_leftblind.mp4_image_00000011.jpg\n",
      "Done. Image saved to ../../avikus-data/images/train/batch2_busan_berthing_STBD.mp4_image_00000066.jpg\n",
      "Done. Image saved to ../../avikus-data/images/train/batch2_busan_berthing_STBD.mp4_image_00000010.jpg\n",
      "Done. Image saved to ../../avikus-data/images/train/batch2_busan_berthing_STBD.mp4_image_00000020.jpg\n",
      "Done. Image saved to ../../avikus-data/images/train/batch2_busan_berthing_STBD.mp4_image_00000027.jpg\n",
      "Done. Image saved to ../../avikus-data/images/train/batch2_busan_berthing_STBD.mp4_image_00000076.jpg\n",
      "Done. Image saved to ../../avikus-data/images/train/batch2_busan_berthing_STBD.mp4_image_00000003.jpg\n",
      "Done. Image saved to ../../avikus-data/images/train/batch2_busan_berthing_STBD.mp4_image_00000014.jpg\n",
      "Done. Image saved to ../../avikus-data/images/train/batch2_busan_berthing_STBD.mp4_image_00000018.jpg\n",
      "Done. Image saved to ../../avikus-data/images/train/batch2_busan_berthing_STBD.mp4_image_00000012.jpg\n",
      "Done. Image saved to ../../avikus-data/images/train/batch2_busan_berthing_STBD.mp4_image_00000019.jpg\n",
      "Done. Image saved to ../../avikus-data/images/train/batch2_busan_berthing_STBD.mp4_image_00000036.jpg\n",
      "Done. Image saved to ../../avikus-data/images/train/batch2_busan_berthing_STBD.mp4_image_00000069.jpg\n",
      "Done. Image saved to ../../avikus-data/images/train/batch2_busan_berthing_STBD.mp4_image_00000055.jpg\n",
      "Done. Image saved to ../../avikus-data/images/train/batch2_busan_berthing_STBD.mp4_image_00000026.jpg\n",
      "Done. Image saved to ../../avikus-data/images/train/batch2_busan_berthing_STBD.mp4_image_00000017.jpg\n",
      "Done. Image saved to ../../avikus-data/images/train/batch2_busan_berthing_STBD.mp4_image_00000060.jpg\n",
      "Done. Image saved to ../../avikus-data/images/train/batch2_busan_berthing_STBD.mp4_image_00000039.jpg\n",
      "Done. Image saved to ../../avikus-data/images/train/batch2_busan_berthing_STBD.mp4_image_00000015.jpg\n",
      "Done. Image saved to ../../avikus-data/images/train/batch2_busan_berthing_STBD.mp4_image_00000051.jpg\n",
      "Done. Image saved to ../../avikus-data/images/train/batch2_busan_berthing_STBD.mp4_image_00000072.jpg\n",
      "Done. Image saved to ../../avikus-data/images/train/batch2_busan_berthing_STBD.mp4_image_00000004.jpg\n",
      "Done. Image saved to ../../avikus-data/images/train/batch2_busan_berthing_STBD.mp4_image_00000041.jpg\n",
      "Done. Image saved to ../../avikus-data/images/train/batch2_busan_berthing_STBD.mp4_image_00000005.jpg\n",
      "Done. Image saved to ../../avikus-data/images/train/batch2_busan_berthing_STBD.mp4_image_00000088.jpg\n",
      "Done. Image saved to ../../avikus-data/images/train/batch2_busan_berthing_STBD.mp4_image_00000091.jpg\n",
      "Done. Image saved to ../../avikus-data/images/train/batch2_busan_berthing_STBD.mp4_image_00000052.jpg\n",
      "Done. Image saved to ../../avikus-data/images/train/batch2_busan_berthing_STBD.mp4_image_00000021.jpg\n",
      "Done. Image saved to ../../avikus-data/images/train/batch2_busan_berthing_STBD.mp4_image_00000085.jpg\n",
      "Done. Image saved to ../../avikus-data/images/train/batch2_busan_berthing_STBD.mp4_image_00000087.jpg\n",
      "Done. Image saved to ../../avikus-data/images/train/batch2_busan_berthing_STBD.mp4_image_00000062.jpg\n",
      "Done. Image saved to ../../avikus-data/images/train/batch2_busan_berthing_STBD.mp4_image_00000064.jpg\n",
      "Done. Image saved to ../../avikus-data/images/train/batch2_busan_berthing_STBD.mp4_image_00000024.jpg\n",
      "Done. Image saved to ../../avikus-data/images/train/batch2_busan_berthing_STBD.mp4_image_00000013.jpg\n",
      "Done. Image saved to ../../avikus-data/images/train/batch2_busan_berthing_STBD.mp4_image_00000057.jpg\n",
      "Done. Image saved to ../../avikus-data/images/train/batch2_busan_berthing_STBD.mp4_image_00000056.jpg\n",
      "Done. Image saved to ../../avikus-data/images/train/batch2_busan_berthing_STBD.mp4_image_00000068.jpg\n",
      "Done. Image saved to ../../avikus-data/images/train/batch2_busan_berthing_STBD.mp4_image_00000081.jpg\n",
      "Done. Image saved to ../../avikus-data/images/train/batch2_busan_berthing_STBD.mp4_image_00000083.jpg\n",
      "Done. Image saved to ../../avikus-data/images/train/batch2_busan_berthing_STBD.mp4_image_00000074.jpg\n",
      "Done. Image saved to ../../avikus-data/images/train/batch2_busan_berthing_STBD.mp4_image_00000092.jpg\n",
      "Done. Image saved to ../../avikus-data/images/train/batch2_busan_berthing_STBD.mp4_image_00000050.jpg\n",
      "Done. Image saved to ../../avikus-data/images/train/batch2_busan_berthing_STBD.mp4_image_00000035.jpg\n",
      "Done. Image saved to ../../avikus-data/images/train/batch2_busan_berthing_STBD.mp4_image_00000033.jpg\n",
      "Done. Image saved to ../../avikus-data/images/train/batch2_busan_berthing_STBD.mp4_image_00000031.jpg\n",
      "Done. Image saved to ../../avikus-data/images/train/batch2_busan_berthing_STBD.mp4_image_00000054.jpg\n",
      "Done. Image saved to ../../avikus-data/images/train/batch2_busan_berthing_STBD.mp4_image_00000070.jpg\n",
      "Done. Image saved to ../../avikus-data/images/train/batch2_busan_berthing_STBD.mp4_image_00000080.jpg\n",
      "Done. Image saved to ../../avikus-data/images/train/batch2_busan_berthing_STBD.mp4_image_00000082.jpg\n",
      "Done. Image saved to ../../avikus-data/images/train/batch2_busan_berthing_STBD.mp4_image_00000073.jpg\n",
      "Done. Image saved to ../../avikus-data/images/train/batch2_busan_berthing_STBD.mp4_image_00000086.jpg\n",
      "Done. Image saved to ../../avikus-data/images/train/batch2_busan_berthing_STBD.mp4_image_00000006.jpg\n",
      "Done. Image saved to ../../avikus-data/images/train/batch2_busan_berthing_STBD.mp4_image_00000075.jpg\n",
      "Done. Image saved to ../../avikus-data/images/train/batch2_busan_berthing_STBD.mp4_image_00000067.jpg\n",
      "Done. Image saved to ../../avikus-data/images/train/batch2_busan_berthing_STBD.mp4_image_00000007.jpg\n",
      "Done. Image saved to ../../avikus-data/images/train/batch2_busan_berthing_STBD.mp4_image_00000061.jpg\n",
      "Done. Image saved to ../../avikus-data/images/train/batch2_busan_berthing_STBD.mp4_image_00000065.jpg\n",
      "Done. Image saved to ../../avikus-data/images/train/batch2_busan_berthing_STBD.mp4_image_00000071.jpg\n",
      "Done. Image saved to ../../avikus-data/images/train/batch2_busan_berthing_STBD.mp4_image_00000040.jpg\n",
      "Done. Image saved to ../../avikus-data/images/train/batch2_busan_berthing_STBD.mp4_image_00000022.jpg\n",
      "Done. Image saved to ../../avikus-data/images/train/batch2_busan_berthing_STBD.mp4_image_00000032.jpg\n",
      "Done. Image saved to ../../avikus-data/images/train/batch2_busan_berthing_STBD.mp4_image_00000029.jpg\n",
      "Done. Image saved to ../../avikus-data/images/train/batch2_busan_berthing_STBD.mp4_image_00000025.jpg\n",
      "Done. Image saved to ../../avikus-data/images/train/batch2_busan_berthing_STBD.mp4_image_00000001.jpg\n",
      "Done. Image saved to ../../avikus-data/images/train/batch2_busan_berthing_STBD.mp4_image_00000084.jpg\n",
      "Done. Image saved to ../../avikus-data/images/train/batch2_busan_berthing_STBD.mp4_image_00000016.jpg\n",
      "Done. Image saved to ../../avikus-data/images/train/batch2_busan_berthing_STBD.mp4_image_00000038.jpg\n",
      "Done. Image saved to ../../avikus-data/images/train/batch2_busan_berthing_STBD.mp4_image_00000053.jpg\n",
      "Done. Image saved to ../../avikus-data/images/train/batch2_busan_berthing_STBD.mp4_image_00000002.jpg\n",
      "Done. Image saved to ../../avikus-data/images/train/batch2_busan_berthing_STBD.mp4_image_00000077.jpg\n",
      "Done. Image saved to ../../avikus-data/images/train/batch2_busan_berthing_STBD.mp4_image_00000079.jpg\n",
      "Done. Image saved to ../../avikus-data/images/train/batch2_busan_berthing_STBD.mp4_image_00000063.jpg\n",
      "Done. Image saved to ../../avikus-data/images/train/batch2_busan_berthing_STBD.mp4_image_00000034.jpg\n",
      "Done. Image saved to ../../avikus-data/images/train/batch2_busan_berthing_STBD.mp4_image_00000059.jpg\n",
      "Done. Image saved to ../../avikus-data/images/train/batch2_busan_berthing_STBD.mp4_image_00000045.jpg\n",
      "Done. Image saved to ../../avikus-data/images/train/batch2_busan_berthing_STBD.mp4_image_00000078.jpg\n",
      "Done. Image saved to ../../avikus-data/images/train/batch2_busan_berthing_STBD.mp4_image_00000042.jpg\n",
      "Done. Image saved to ../../avikus-data/images/train/batch2_busan_berthing_STBD.mp4_image_00000028.jpg\n",
      "Done. Image saved to ../../avikus-data/images/train/batch2_busan_berthing_STBD.mp4_image_00000030.jpg\n",
      "Done. Image saved to ../../avikus-data/images/train/batch2_busan_berthing_STBD.mp4_image_00000008.jpg\n",
      "Done. Image saved to ../../avikus-data/images/train/batch2_busan_berthing_STBD.mp4_image_00000009.jpg\n",
      "Done. Image saved to ../../avikus-data/images/train/batch2_busan_berthing_STBD.mp4_image_00000058.jpg\n",
      "Done. Image saved to ../../avikus-data/images/train/batch2_busan_berthing_STBD.mp4_image_00000089.jpg\n",
      "Done. Image saved to ../../avikus-data/images/train/batch2_busan_berthing_STBD.mp4_image_00000044.jpg\n",
      "Done. Image saved to ../../avikus-data/images/train/batch2_busan_berthing_STBD.mp4_image_00000046.jpg\n",
      "Done. Image saved to ../../avikus-data/images/train/batch2_busan_berthing_STBD.mp4_image_00000011.jpg\n",
      "Done. Image saved to ../../avikus-data/images/train/batch2_busan_berthing_STBD.mp4_image_00000037.jpg\n",
      "Done. Image saved to ../../avikus-data/images/train/batch2_busan_berthing_STBD.mp4_image_00000043.jpg\n",
      "Done. Image saved to ../../avikus-data/images/train/batch2_busan_berthing_STBD.mp4_image_00000047.jpg\n"
     ]
    },
    {
     "name": "stderr",
     "output_type": "stream",
     "text": [
      "273it [01:08,  2.94it/s]"
     ]
    },
    {
     "name": "stdout",
     "output_type": "stream",
     "text": [
      "Done. Image saved to ../../avikus-data/images/train/batch2_busan_berthing_STBD.mp4_image_00000090.jpg\n",
      "Done. Image saved to ../../avikus-data/images/train/batch2_busan_berthing_STBD.mp4_image_00000049.jpg\n",
      "Done. Image saved to ../../avikus-data/images/train/batch2_busan_berthing_STBD.mp4_image_00000048.jpg\n",
      "Done. Image saved to ../../avikus-data/images/train/batch2_busan_berthing_STBD.mp4_image_00000023.jpg\n",
      "Done. Image saved to ../../avikus-data/images/train/batch2_UK_data_record_tight_channel_2_00m30s~01m15s_video_right.mp4_image_00000010.jpg\n",
      "Done. Image saved to ../../avikus-data/images/train/batch2_UK_data_record_tight_channel_2_00m30s~01m15s_video_right.mp4_image_00000020.jpg\n",
      "Done. Image saved to ../../avikus-data/images/train/batch2_UK_data_record_tight_channel_2_00m30s~01m15s_video_right.mp4_image_00000003.jpg\n",
      "Done. Image saved to ../../avikus-data/images/train/batch2_UK_data_record_tight_channel_2_00m30s~01m15s_video_right.mp4_image_00000014.jpg\n",
      "Done. Image saved to ../../avikus-data/images/train/batch2_UK_data_record_tight_channel_2_00m30s~01m15s_video_right.mp4_image_00000018.jpg\n",
      "Done. Image saved to ../../avikus-data/images/train/batch2_UK_data_record_tight_channel_2_00m30s~01m15s_video_right.mp4_image_00000012.jpg\n",
      "Done. Image saved to ../../avikus-data/images/train/batch2_UK_data_record_tight_channel_2_00m30s~01m15s_video_right.mp4_image_00000019.jpg\n",
      "Done. Image saved to ../../avikus-data/images/train/batch2_UK_data_record_tight_channel_2_00m30s~01m15s_video_right.mp4_image_00000017.jpg\n",
      "Done. Image saved to ../../avikus-data/images/train/batch2_UK_data_record_tight_channel_2_00m30s~01m15s_video_right.mp4_image_00000015.jpg\n",
      "Done. Image saved to ../../avikus-data/images/train/batch2_UK_data_record_tight_channel_2_00m30s~01m15s_video_right.mp4_image_00000004.jpg\n",
      "Done. Image saved to ../../avikus-data/images/train/batch2_UK_data_record_tight_channel_2_00m30s~01m15s_video_right.mp4_image_00000005.jpg\n",
      "Done. Image saved to ../../avikus-data/images/train/batch2_UK_data_record_tight_channel_2_00m30s~01m15s_video_right.mp4_image_00000021.jpg\n",
      "Done. Image saved to ../../avikus-data/images/train/batch2_UK_data_record_tight_channel_2_00m30s~01m15s_video_right.mp4_image_00000013.jpg\n",
      "Done. Image saved to ../../avikus-data/images/train/batch2_UK_data_record_tight_channel_2_00m30s~01m15s_video_right.mp4_image_00000006.jpg\n",
      "Done. Image saved to ../../avikus-data/images/train/batch2_UK_data_record_tight_channel_2_00m30s~01m15s_video_right.mp4_image_00000007.jpg\n",
      "Done. Image saved to ../../avikus-data/images/train/batch2_UK_data_record_tight_channel_2_00m30s~01m15s_video_right.mp4_image_00000022.jpg\n",
      "Done. Image saved to ../../avikus-data/images/train/batch2_UK_data_record_tight_channel_2_00m30s~01m15s_video_right.mp4_image_00000001.jpg\n",
      "Done. Image saved to ../../avikus-data/images/train/batch2_UK_data_record_tight_channel_2_00m30s~01m15s_video_right.mp4_image_00000016.jpg\n",
      "Done. Image saved to ../../avikus-data/images/train/batch2_UK_data_record_tight_channel_2_00m30s~01m15s_video_right.mp4_image_00000002.jpg\n",
      "Done. Image saved to ../../avikus-data/images/train/batch2_UK_data_record_tight_channel_2_00m30s~01m15s_video_right.mp4_image_00000008.jpg\n",
      "Done. Image saved to ../../avikus-data/images/train/batch2_UK_data_record_tight_channel_2_00m30s~01m15s_video_right.mp4_image_00000009.jpg\n",
      "Done. Image saved to ../../avikus-data/images/train/batch2_UK_data_record_tight_channel_2_00m30s~01m15s_video_right.mp4_image_00000011.jpg\n"
     ]
    },
    {
     "name": "stderr",
     "output_type": "stream",
     "text": [
      "278it [01:10,  3.00it/s]"
     ]
    },
    {
     "name": "stdout",
     "output_type": "stream",
     "text": [
      "Done. Image saved to ../../avikus-data/images/train/batch2_UK_data_record_tight_channel_2_00m30s~01m15s_video_right.mp4_image_00000023.jpg\n",
      "Done. Image saved to ../../avikus-data/images/train/batch2_UK_data_record_stbd_berth_3_0m39s_video_rear.mp4_image_00000010.jpg\n",
      "Done. Image saved to ../../avikus-data/images/train/batch2_UK_data_record_stbd_berth_3_0m39s_video_rear.mp4_image_00000020.jpg\n",
      "Done. Image saved to ../../avikus-data/images/train/batch2_UK_data_record_stbd_berth_3_0m39s_video_rear.mp4_image_00000003.jpg\n",
      "Done. Image saved to ../../avikus-data/images/train/batch2_UK_data_record_stbd_berth_3_0m39s_video_rear.mp4_image_00000014.jpg\n",
      "Done. Image saved to ../../avikus-data/images/train/batch2_UK_data_record_stbd_berth_3_0m39s_video_rear.mp4_image_00000018.jpg\n",
      "Done. Image saved to ../../avikus-data/images/train/batch2_UK_data_record_stbd_berth_3_0m39s_video_rear.mp4_image_00000012.jpg\n",
      "Done. Image saved to ../../avikus-data/images/train/batch2_UK_data_record_stbd_berth_3_0m39s_video_rear.mp4_image_00000019.jpg\n",
      "Done. Image saved to ../../avikus-data/images/train/batch2_UK_data_record_stbd_berth_3_0m39s_video_rear.mp4_image_00000017.jpg\n",
      "Done. Image saved to ../../avikus-data/images/train/batch2_UK_data_record_stbd_berth_3_0m39s_video_rear.mp4_image_00000015.jpg\n",
      "Done. Image saved to ../../avikus-data/images/train/batch2_UK_data_record_stbd_berth_3_0m39s_video_rear.mp4_image_00000004.jpg\n",
      "Done. Image saved to ../../avikus-data/images/train/batch2_UK_data_record_stbd_berth_3_0m39s_video_rear.mp4_image_00000005.jpg\n",
      "Done. Image saved to ../../avikus-data/images/train/batch2_UK_data_record_stbd_berth_3_0m39s_video_rear.mp4_image_00000021.jpg\n",
      "Done. Image saved to ../../avikus-data/images/train/batch2_UK_data_record_stbd_berth_3_0m39s_video_rear.mp4_image_00000013.jpg\n",
      "Done. Image saved to ../../avikus-data/images/train/batch2_UK_data_record_stbd_berth_3_0m39s_video_rear.mp4_image_00000006.jpg\n",
      "Done. Image saved to ../../avikus-data/images/train/batch2_UK_data_record_stbd_berth_3_0m39s_video_rear.mp4_image_00000007.jpg\n",
      "Done. Image saved to ../../avikus-data/images/train/batch2_UK_data_record_stbd_berth_3_0m39s_video_rear.mp4_image_00000001.jpg\n",
      "Done. Image saved to ../../avikus-data/images/train/batch2_UK_data_record_stbd_berth_3_0m39s_video_rear.mp4_image_00000016.jpg\n"
     ]
    },
    {
     "name": "stderr",
     "output_type": "stream",
     "text": [
      "283it [01:10,  3.60it/s]"
     ]
    },
    {
     "name": "stdout",
     "output_type": "stream",
     "text": [
      "Done. Image saved to ../../avikus-data/images/train/batch2_UK_data_record_stbd_berth_3_0m39s_video_rear.mp4_image_00000002.jpg\n",
      "Done. Image saved to ../../avikus-data/images/train/batch2_UK_data_record_stbd_berth_3_0m39s_video_rear.mp4_image_00000008.jpg\n",
      "Done. Image saved to ../../avikus-data/images/train/batch2_UK_data_record_stbd_berth_3_0m39s_video_rear.mp4_image_00000009.jpg\n",
      "Done. Image saved to ../../avikus-data/images/train/batch2_UK_data_record_stbd_berth_3_0m39s_video_rear.mp4_image_00000011.jpg\n",
      "Done. Image saved to ../../avikus-data/images/train/batch2_wangsan_data_00h00m45s~00h01m45s_230511_ws_rear.mp4.mp4_image_00000010.jpg\n",
      "Done. Image saved to ../../avikus-data/images/train/batch2_wangsan_data_00h00m45s~00h01m45s_230511_ws_rear.mp4.mp4_image_00000020.jpg\n",
      "Done. Image saved to ../../avikus-data/images/train/batch2_wangsan_data_00h00m45s~00h01m45s_230511_ws_rear.mp4.mp4_image_00000027.jpg\n",
      "Done. Image saved to ../../avikus-data/images/train/batch2_wangsan_data_00h00m45s~00h01m45s_230511_ws_rear.mp4.mp4_image_00000003.jpg\n",
      "Done. Image saved to ../../avikus-data/images/train/batch2_wangsan_data_00h00m45s~00h01m45s_230511_ws_rear.mp4.mp4_image_00000014.jpg\n",
      "Done. Image saved to ../../avikus-data/images/train/batch2_wangsan_data_00h00m45s~00h01m45s_230511_ws_rear.mp4.mp4_image_00000018.jpg\n",
      "Done. Image saved to ../../avikus-data/images/train/batch2_wangsan_data_00h00m45s~00h01m45s_230511_ws_rear.mp4.mp4_image_00000012.jpg\n",
      "Done. Image saved to ../../avikus-data/images/train/batch2_wangsan_data_00h00m45s~00h01m45s_230511_ws_rear.mp4.mp4_image_00000019.jpg\n",
      "Done. Image saved to ../../avikus-data/images/train/batch2_wangsan_data_00h00m45s~00h01m45s_230511_ws_rear.mp4.mp4_image_00000026.jpg\n",
      "Done. Image saved to ../../avikus-data/images/train/batch2_wangsan_data_00h00m45s~00h01m45s_230511_ws_rear.mp4.mp4_image_00000017.jpg\n",
      "Done. Image saved to ../../avikus-data/images/train/batch2_wangsan_data_00h00m45s~00h01m45s_230511_ws_rear.mp4.mp4_image_00000015.jpg\n",
      "Done. Image saved to ../../avikus-data/images/train/batch2_wangsan_data_00h00m45s~00h01m45s_230511_ws_rear.mp4.mp4_image_00000004.jpg\n",
      "Done. Image saved to ../../avikus-data/images/train/batch2_wangsan_data_00h00m45s~00h01m45s_230511_ws_rear.mp4.mp4_image_00000005.jpg\n",
      "Done. Image saved to ../../avikus-data/images/train/batch2_wangsan_data_00h00m45s~00h01m45s_230511_ws_rear.mp4.mp4_image_00000021.jpg\n",
      "Done. Image saved to ../../avikus-data/images/train/batch2_wangsan_data_00h00m45s~00h01m45s_230511_ws_rear.mp4.mp4_image_00000024.jpg\n",
      "Done. Image saved to ../../avikus-data/images/train/batch2_wangsan_data_00h00m45s~00h01m45s_230511_ws_rear.mp4.mp4_image_00000013.jpg\n",
      "Done. Image saved to ../../avikus-data/images/train/batch2_wangsan_data_00h00m45s~00h01m45s_230511_ws_rear.mp4.mp4_image_00000031.jpg\n",
      "Done. Image saved to ../../avikus-data/images/train/batch2_wangsan_data_00h00m45s~00h01m45s_230511_ws_rear.mp4.mp4_image_00000006.jpg\n",
      "Done. Image saved to ../../avikus-data/images/train/batch2_wangsan_data_00h00m45s~00h01m45s_230511_ws_rear.mp4.mp4_image_00000007.jpg\n",
      "Done. Image saved to ../../avikus-data/images/train/batch2_wangsan_data_00h00m45s~00h01m45s_230511_ws_rear.mp4.mp4_image_00000022.jpg\n",
      "Done. Image saved to ../../avikus-data/images/train/batch2_wangsan_data_00h00m45s~00h01m45s_230511_ws_rear.mp4.mp4_image_00000029.jpg\n",
      "Done. Image saved to ../../avikus-data/images/train/batch2_wangsan_data_00h00m45s~00h01m45s_230511_ws_rear.mp4.mp4_image_00000025.jpg\n",
      "Done. Image saved to ../../avikus-data/images/train/batch2_wangsan_data_00h00m45s~00h01m45s_230511_ws_rear.mp4.mp4_image_00000001.jpg\n",
      "Done. Image saved to ../../avikus-data/images/train/batch2_wangsan_data_00h00m45s~00h01m45s_230511_ws_rear.mp4.mp4_image_00000016.jpg\n",
      "Done. Image saved to ../../avikus-data/images/train/batch2_wangsan_data_00h00m45s~00h01m45s_230511_ws_rear.mp4.mp4_image_00000002.jpg\n",
      "Done. Image saved to ../../avikus-data/images/train/batch2_wangsan_data_00h00m45s~00h01m45s_230511_ws_rear.mp4.mp4_image_00000028.jpg\n",
      "Done. Image saved to ../../avikus-data/images/train/batch2_wangsan_data_00h00m45s~00h01m45s_230511_ws_rear.mp4.mp4_image_00000030.jpg\n",
      "Done. Image saved to ../../avikus-data/images/train/batch2_wangsan_data_00h00m45s~00h01m45s_230511_ws_rear.mp4.mp4_image_00000008.jpg\n"
     ]
    },
    {
     "name": "stderr",
     "output_type": "stream",
     "text": [
      "288it [01:12,  3.21it/s]"
     ]
    },
    {
     "name": "stdout",
     "output_type": "stream",
     "text": [
      "Done. Image saved to ../../avikus-data/images/train/batch2_wangsan_data_00h00m45s~00h01m45s_230511_ws_rear.mp4.mp4_image_00000009.jpg\n",
      "Done. Image saved to ../../avikus-data/images/train/batch2_wangsan_data_00h00m45s~00h01m45s_230511_ws_rear.mp4.mp4_image_00000011.jpg\n",
      "Done. Image saved to ../../avikus-data/images/train/batch2_wangsan_data_00h00m45s~00h01m45s_230511_ws_rear.mp4.mp4_image_00000023.jpg\n",
      "Done. Image saved to ../../avikus-data/images/train/batch2_wangsan_data_00h51m00s~00h51m30s_230511_ws_blindleft.mp4.mp4_image_00000010.jpg\n",
      "Done. Image saved to ../../avikus-data/images/train/batch2_wangsan_data_00h51m00s~00h51m30s_230511_ws_blindleft.mp4.mp4_image_00000003.jpg\n",
      "Done. Image saved to ../../avikus-data/images/train/batch2_wangsan_data_00h51m00s~00h51m30s_230511_ws_blindleft.mp4.mp4_image_00000014.jpg\n",
      "Done. Image saved to ../../avikus-data/images/train/batch2_wangsan_data_00h51m00s~00h51m30s_230511_ws_blindleft.mp4.mp4_image_00000012.jpg\n",
      "Done. Image saved to ../../avikus-data/images/train/batch2_wangsan_data_00h51m00s~00h51m30s_230511_ws_blindleft.mp4.mp4_image_00000015.jpg\n",
      "Done. Image saved to ../../avikus-data/images/train/batch2_wangsan_data_00h51m00s~00h51m30s_230511_ws_blindleft.mp4.mp4_image_00000004.jpg\n",
      "Done. Image saved to ../../avikus-data/images/train/batch2_wangsan_data_00h51m00s~00h51m30s_230511_ws_blindleft.mp4.mp4_image_00000005.jpg\n",
      "Done. Image saved to ../../avikus-data/images/train/batch2_wangsan_data_00h51m00s~00h51m30s_230511_ws_blindleft.mp4.mp4_image_00000013.jpg\n",
      "Done. Image saved to ../../avikus-data/images/train/batch2_wangsan_data_00h51m00s~00h51m30s_230511_ws_blindleft.mp4.mp4_image_00000006.jpg\n",
      "Done. Image saved to ../../avikus-data/images/train/batch2_wangsan_data_00h51m00s~00h51m30s_230511_ws_blindleft.mp4.mp4_image_00000007.jpg\n",
      "Done. Image saved to ../../avikus-data/images/train/batch2_wangsan_data_00h51m00s~00h51m30s_230511_ws_blindleft.mp4.mp4_image_00000001.jpg\n",
      "Done. Image saved to ../../avikus-data/images/train/batch2_wangsan_data_00h51m00s~00h51m30s_230511_ws_blindleft.mp4.mp4_image_00000016.jpg\n",
      "Done. Image saved to ../../avikus-data/images/train/batch2_wangsan_data_00h51m00s~00h51m30s_230511_ws_blindleft.mp4.mp4_image_00000002.jpg\n"
     ]
    },
    {
     "name": "stderr",
     "output_type": "stream",
     "text": [
      "293it [01:13,  3.73it/s]"
     ]
    },
    {
     "name": "stdout",
     "output_type": "stream",
     "text": [
      "Done. Image saved to ../../avikus-data/images/train/batch2_wangsan_data_00h51m00s~00h51m30s_230511_ws_blindleft.mp4.mp4_image_00000008.jpg\n",
      "Done. Image saved to ../../avikus-data/images/train/batch2_wangsan_data_00h51m00s~00h51m30s_230511_ws_blindleft.mp4.mp4_image_00000009.jpg\n",
      "Done. Image saved to ../../avikus-data/images/train/batch2_wangsan_data_00h51m00s~00h51m30s_230511_ws_blindleft.mp4.mp4_image_00000011.jpg\n",
      "Done. Image saved to ../../avikus-data/images/train/batch2_UK_data_record_run_2_00m40s~01m22s_video_rightblind.mp4_image_00000010.jpg\n",
      "Done. Image saved to ../../avikus-data/images/train/batch2_UK_data_record_run_2_00m40s~01m22s_video_rightblind.mp4_image_00000020.jpg\n",
      "Done. Image saved to ../../avikus-data/images/train/batch2_UK_data_record_run_2_00m40s~01m22s_video_rightblind.mp4_image_00000003.jpg\n",
      "Done. Image saved to ../../avikus-data/images/train/batch2_UK_data_record_run_2_00m40s~01m22s_video_rightblind.mp4_image_00000014.jpg\n",
      "Done. Image saved to ../../avikus-data/images/train/batch2_UK_data_record_run_2_00m40s~01m22s_video_rightblind.mp4_image_00000018.jpg\n",
      "Done. Image saved to ../../avikus-data/images/train/batch2_UK_data_record_run_2_00m40s~01m22s_video_rightblind.mp4_image_00000012.jpg\n",
      "Done. Image saved to ../../avikus-data/images/train/batch2_UK_data_record_run_2_00m40s~01m22s_video_rightblind.mp4_image_00000019.jpg\n",
      "Done. Image saved to ../../avikus-data/images/train/batch2_UK_data_record_run_2_00m40s~01m22s_video_rightblind.mp4_image_00000017.jpg\n",
      "Done. Image saved to ../../avikus-data/images/train/batch2_UK_data_record_run_2_00m40s~01m22s_video_rightblind.mp4_image_00000015.jpg\n",
      "Done. Image saved to ../../avikus-data/images/train/batch2_UK_data_record_run_2_00m40s~01m22s_video_rightblind.mp4_image_00000004.jpg\n",
      "Done. Image saved to ../../avikus-data/images/train/batch2_UK_data_record_run_2_00m40s~01m22s_video_rightblind.mp4_image_00000005.jpg\n",
      "Done. Image saved to ../../avikus-data/images/train/batch2_UK_data_record_run_2_00m40s~01m22s_video_rightblind.mp4_image_00000021.jpg\n",
      "Done. Image saved to ../../avikus-data/images/train/batch2_UK_data_record_run_2_00m40s~01m22s_video_rightblind.mp4_image_00000013.jpg\n",
      "Done. Image saved to ../../avikus-data/images/train/batch2_UK_data_record_run_2_00m40s~01m22s_video_rightblind.mp4_image_00000006.jpg\n",
      "Done. Image saved to ../../avikus-data/images/train/batch2_UK_data_record_run_2_00m40s~01m22s_video_rightblind.mp4_image_00000007.jpg\n",
      "Done. Image saved to ../../avikus-data/images/train/batch2_UK_data_record_run_2_00m40s~01m22s_video_rightblind.mp4_image_00000022.jpg\n",
      "Done. Image saved to ../../avikus-data/images/train/batch2_UK_data_record_run_2_00m40s~01m22s_video_rightblind.mp4_image_00000016.jpg\n"
     ]
    },
    {
     "name": "stderr",
     "output_type": "stream",
     "text": [
      "298it [01:14,  3.83it/s]"
     ]
    },
    {
     "name": "stdout",
     "output_type": "stream",
     "text": [
      "Done. Image saved to ../../avikus-data/images/train/batch2_UK_data_record_run_2_00m40s~01m22s_video_rightblind.mp4_image_00000002.jpg\n",
      "Done. Image saved to ../../avikus-data/images/train/batch2_UK_data_record_run_2_00m40s~01m22s_video_rightblind.mp4_image_00000008.jpg\n",
      "Done. Image saved to ../../avikus-data/images/train/batch2_UK_data_record_run_2_00m40s~01m22s_video_rightblind.mp4_image_00000009.jpg\n",
      "Done. Image saved to ../../avikus-data/images/train/batch2_UK_data_record_run_2_00m40s~01m22s_video_rightblind.mp4_image_00000011.jpg\n",
      "Done. Image saved to ../../avikus-data/images/train/batch2_wangsan_data_08m00s~08m30s_230426_ws_front.mp4_image_00000010.jpg\n",
      "Done. Image saved to ../../avikus-data/images/train/batch2_wangsan_data_08m00s~08m30s_230426_ws_front.mp4_image_00000003.jpg\n",
      "Done. Image saved to ../../avikus-data/images/train/batch2_wangsan_data_08m00s~08m30s_230426_ws_front.mp4_image_00000014.jpg\n",
      "Done. Image saved to ../../avikus-data/images/train/batch2_wangsan_data_08m00s~08m30s_230426_ws_front.mp4_image_00000012.jpg\n",
      "Done. Image saved to ../../avikus-data/images/train/batch2_wangsan_data_08m00s~08m30s_230426_ws_front.mp4_image_00000015.jpg\n",
      "Done. Image saved to ../../avikus-data/images/train/batch2_wangsan_data_08m00s~08m30s_230426_ws_front.mp4_image_00000004.jpg\n",
      "Done. Image saved to ../../avikus-data/images/train/batch2_wangsan_data_08m00s~08m30s_230426_ws_front.mp4_image_00000005.jpg\n",
      "Done. Image saved to ../../avikus-data/images/train/batch2_wangsan_data_08m00s~08m30s_230426_ws_front.mp4_image_00000013.jpg\n",
      "Done. Image saved to ../../avikus-data/images/train/batch2_wangsan_data_08m00s~08m30s_230426_ws_front.mp4_image_00000006.jpg\n",
      "Done. Image saved to ../../avikus-data/images/train/batch2_wangsan_data_08m00s~08m30s_230426_ws_front.mp4_image_00000007.jpg\n",
      "Done. Image saved to ../../avikus-data/images/train/batch2_wangsan_data_08m00s~08m30s_230426_ws_front.mp4_image_00000001.jpg\n",
      "Done. Image saved to ../../avikus-data/images/train/batch2_wangsan_data_08m00s~08m30s_230426_ws_front.mp4_image_00000016.jpg\n"
     ]
    },
    {
     "name": "stderr",
     "output_type": "stream",
     "text": [
      "303it [01:15,  4.20it/s]"
     ]
    },
    {
     "name": "stdout",
     "output_type": "stream",
     "text": [
      "Done. Image saved to ../../avikus-data/images/train/batch2_wangsan_data_08m00s~08m30s_230426_ws_front.mp4_image_00000002.jpg\n",
      "Done. Image saved to ../../avikus-data/images/train/batch2_wangsan_data_08m00s~08m30s_230426_ws_front.mp4_image_00000008.jpg\n",
      "Done. Image saved to ../../avikus-data/images/train/batch2_wangsan_data_08m00s~08m30s_230426_ws_front.mp4_image_00000009.jpg\n",
      "Done. Image saved to ../../avikus-data/images/train/batch2_wangsan_data_08m00s~08m30s_230426_ws_front.mp4_image_00000011.jpg\n",
      "Done. Image saved to ../../avikus-data/images/train/batch2_UK_data_record_run_2_00m40s~01m22s_video_left.mp4_image_00000010.jpg\n",
      "Done. Image saved to ../../avikus-data/images/train/batch2_UK_data_record_run_2_00m40s~01m22s_video_left.mp4_image_00000020.jpg\n",
      "Done. Image saved to ../../avikus-data/images/train/batch2_UK_data_record_run_2_00m40s~01m22s_video_left.mp4_image_00000003.jpg\n",
      "Done. Image saved to ../../avikus-data/images/train/batch2_UK_data_record_run_2_00m40s~01m22s_video_left.mp4_image_00000014.jpg\n",
      "Done. Image saved to ../../avikus-data/images/train/batch2_UK_data_record_run_2_00m40s~01m22s_video_left.mp4_image_00000018.jpg\n",
      "Done. Image saved to ../../avikus-data/images/train/batch2_UK_data_record_run_2_00m40s~01m22s_video_left.mp4_image_00000012.jpg\n",
      "Done. Image saved to ../../avikus-data/images/train/batch2_UK_data_record_run_2_00m40s~01m22s_video_left.mp4_image_00000019.jpg\n",
      "Done. Image saved to ../../avikus-data/images/train/batch2_UK_data_record_run_2_00m40s~01m22s_video_left.mp4_image_00000017.jpg\n",
      "Done. Image saved to ../../avikus-data/images/train/batch2_UK_data_record_run_2_00m40s~01m22s_video_left.mp4_image_00000015.jpg\n",
      "Done. Image saved to ../../avikus-data/images/train/batch2_UK_data_record_run_2_00m40s~01m22s_video_left.mp4_image_00000004.jpg\n",
      "Done. Image saved to ../../avikus-data/images/train/batch2_UK_data_record_run_2_00m40s~01m22s_video_left.mp4_image_00000005.jpg\n",
      "Done. Image saved to ../../avikus-data/images/train/batch2_UK_data_record_run_2_00m40s~01m22s_video_left.mp4_image_00000021.jpg\n",
      "Done. Image saved to ../../avikus-data/images/train/batch2_UK_data_record_run_2_00m40s~01m22s_video_left.mp4_image_00000013.jpg\n",
      "Done. Image saved to ../../avikus-data/images/train/batch2_UK_data_record_run_2_00m40s~01m22s_video_left.mp4_image_00000006.jpg\n",
      "Done. Image saved to ../../avikus-data/images/train/batch2_UK_data_record_run_2_00m40s~01m22s_video_left.mp4_image_00000007.jpg\n",
      "Done. Image saved to ../../avikus-data/images/train/batch2_UK_data_record_run_2_00m40s~01m22s_video_left.mp4_image_00000022.jpg\n",
      "Done. Image saved to ../../avikus-data/images/train/batch2_UK_data_record_run_2_00m40s~01m22s_video_left.mp4_image_00000001.jpg\n",
      "Done. Image saved to ../../avikus-data/images/train/batch2_UK_data_record_run_2_00m40s~01m22s_video_left.mp4_image_00000016.jpg\n",
      "Done. Image saved to ../../avikus-data/images/train/batch2_UK_data_record_run_2_00m40s~01m22s_video_left.mp4_image_00000002.jpg\n",
      "Done. Image saved to ../../avikus-data/images/train/batch2_UK_data_record_run_2_00m40s~01m22s_video_left.mp4_image_00000008.jpg\n",
      "Done. Image saved to ../../avikus-data/images/train/batch2_UK_data_record_run_2_00m40s~01m22s_video_left.mp4_image_00000009.jpg\n"
     ]
    },
    {
     "name": "stderr",
     "output_type": "stream",
     "text": [
      "308it [01:17,  3.88it/s]"
     ]
    },
    {
     "name": "stdout",
     "output_type": "stream",
     "text": [
      "Done. Image saved to ../../avikus-data/images/train/batch2_UK_data_record_run_2_00m40s~01m22s_video_left.mp4_image_00000011.jpg\n",
      "Done. Image saved to ../../avikus-data/images/train/batch2_UK_data_record_port_berth_2_2_00m00s~00m12s_video_rightblind.mp4_image_00000003.jpg\n",
      "Done. Image saved to ../../avikus-data/images/train/batch2_UK_data_record_port_berth_2_2_00m00s~00m12s_video_rightblind.mp4_image_00000004.jpg\n",
      "Done. Image saved to ../../avikus-data/images/train/batch2_UK_data_record_port_berth_2_2_00m00s~00m12s_video_rightblind.mp4_image_00000005.jpg\n"
     ]
    },
    {
     "name": "stderr",
     "output_type": "stream",
     "text": [
      "313it [01:17,  4.96it/s]"
     ]
    },
    {
     "name": "stdout",
     "output_type": "stream",
     "text": [
      "Done. Image saved to ../../avikus-data/images/train/batch2_UK_data_record_port_berth_2_2_00m00s~00m12s_video_rightblind.mp4_image_00000006.jpg\n",
      "Done. Image saved to ../../avikus-data/images/train/batch2_UK_data_record_port_berth_2_2_00m00s~00m12s_video_rightblind.mp4_image_00000007.jpg\n",
      "Done. Image saved to ../../avikus-data/images/train/batch2_UK_data_record_port_berth_2_2_00m00s~00m12s_video_rightblind.mp4_image_00000002.jpg\n",
      "Done. Image saved to ../../avikus-data/images/train/batch2_UK_data_record_tight_channel_2_00m30s~01m15s_video_rear.mp4_image_00000010.jpg\n",
      "Done. Image saved to ../../avikus-data/images/train/batch2_UK_data_record_tight_channel_2_00m30s~01m15s_video_rear.mp4_image_00000020.jpg\n",
      "Done. Image saved to ../../avikus-data/images/train/batch2_UK_data_record_tight_channel_2_00m30s~01m15s_video_rear.mp4_image_00000003.jpg\n",
      "Done. Image saved to ../../avikus-data/images/train/batch2_UK_data_record_tight_channel_2_00m30s~01m15s_video_rear.mp4_image_00000014.jpg\n",
      "Done. Image saved to ../../avikus-data/images/train/batch2_UK_data_record_tight_channel_2_00m30s~01m15s_video_rear.mp4_image_00000018.jpg\n",
      "Done. Image saved to ../../avikus-data/images/train/batch2_UK_data_record_tight_channel_2_00m30s~01m15s_video_rear.mp4_image_00000012.jpg\n",
      "Done. Image saved to ../../avikus-data/images/train/batch2_UK_data_record_tight_channel_2_00m30s~01m15s_video_rear.mp4_image_00000019.jpg\n",
      "Done. Image saved to ../../avikus-data/images/train/batch2_UK_data_record_tight_channel_2_00m30s~01m15s_video_rear.mp4_image_00000017.jpg\n",
      "Done. Image saved to ../../avikus-data/images/train/batch2_UK_data_record_tight_channel_2_00m30s~01m15s_video_rear.mp4_image_00000015.jpg\n",
      "Done. Image saved to ../../avikus-data/images/train/batch2_UK_data_record_tight_channel_2_00m30s~01m15s_video_rear.mp4_image_00000004.jpg\n",
      "Done. Image saved to ../../avikus-data/images/train/batch2_UK_data_record_tight_channel_2_00m30s~01m15s_video_rear.mp4_image_00000005.jpg\n",
      "Done. Image saved to ../../avikus-data/images/train/batch2_UK_data_record_tight_channel_2_00m30s~01m15s_video_rear.mp4_image_00000021.jpg\n",
      "Done. Image saved to ../../avikus-data/images/train/batch2_UK_data_record_tight_channel_2_00m30s~01m15s_video_rear.mp4_image_00000013.jpg\n",
      "Done. Image saved to ../../avikus-data/images/train/batch2_UK_data_record_tight_channel_2_00m30s~01m15s_video_rear.mp4_image_00000006.jpg\n",
      "Done. Image saved to ../../avikus-data/images/train/batch2_UK_data_record_tight_channel_2_00m30s~01m15s_video_rear.mp4_image_00000007.jpg\n",
      "Done. Image saved to ../../avikus-data/images/train/batch2_UK_data_record_tight_channel_2_00m30s~01m15s_video_rear.mp4_image_00000022.jpg\n",
      "Done. Image saved to ../../avikus-data/images/train/batch2_UK_data_record_tight_channel_2_00m30s~01m15s_video_rear.mp4_image_00000001.jpg\n",
      "Done. Image saved to ../../avikus-data/images/train/batch2_UK_data_record_tight_channel_2_00m30s~01m15s_video_rear.mp4_image_00000016.jpg\n",
      "Done. Image saved to ../../avikus-data/images/train/batch2_UK_data_record_tight_channel_2_00m30s~01m15s_video_rear.mp4_image_00000002.jpg\n",
      "Done. Image saved to ../../avikus-data/images/train/batch2_UK_data_record_tight_channel_2_00m30s~01m15s_video_rear.mp4_image_00000008.jpg\n",
      "Done. Image saved to ../../avikus-data/images/train/batch2_UK_data_record_tight_channel_2_00m30s~01m15s_video_rear.mp4_image_00000009.jpg\n",
      "Done. Image saved to ../../avikus-data/images/train/batch2_UK_data_record_tight_channel_2_00m30s~01m15s_video_rear.mp4_image_00000011.jpg\n"
     ]
    },
    {
     "name": "stderr",
     "output_type": "stream",
     "text": [
      "318it [01:19,  4.17it/s]"
     ]
    },
    {
     "name": "stdout",
     "output_type": "stream",
     "text": [
      "Done. Image saved to ../../avikus-data/images/train/batch2_UK_data_record_tight_channel_2_00m30s~01m15s_video_rear.mp4_image_00000023.jpg\n",
      "Done. Image saved to ../../avikus-data/images/train/batch2_wangsan_data_05m40s~06m40s_230426_ws_blindright.mp4_image_00000010.jpg\n",
      "Done. Image saved to ../../avikus-data/images/train/batch2_wangsan_data_05m40s~06m40s_230426_ws_blindright.mp4_image_00000020.jpg\n",
      "Done. Image saved to ../../avikus-data/images/train/batch2_wangsan_data_05m40s~06m40s_230426_ws_blindright.mp4_image_00000027.jpg\n",
      "Done. Image saved to ../../avikus-data/images/train/batch2_wangsan_data_05m40s~06m40s_230426_ws_blindright.mp4_image_00000003.jpg\n",
      "Done. Image saved to ../../avikus-data/images/train/batch2_wangsan_data_05m40s~06m40s_230426_ws_blindright.mp4_image_00000014.jpg\n",
      "Done. Image saved to ../../avikus-data/images/train/batch2_wangsan_data_05m40s~06m40s_230426_ws_blindright.mp4_image_00000018.jpg\n",
      "Done. Image saved to ../../avikus-data/images/train/batch2_wangsan_data_05m40s~06m40s_230426_ws_blindright.mp4_image_00000012.jpg\n",
      "Done. Image saved to ../../avikus-data/images/train/batch2_wangsan_data_05m40s~06m40s_230426_ws_blindright.mp4_image_00000019.jpg\n",
      "Done. Image saved to ../../avikus-data/images/train/batch2_wangsan_data_05m40s~06m40s_230426_ws_blindright.mp4_image_00000026.jpg\n",
      "Done. Image saved to ../../avikus-data/images/train/batch2_wangsan_data_05m40s~06m40s_230426_ws_blindright.mp4_image_00000017.jpg\n",
      "Done. Image saved to ../../avikus-data/images/train/batch2_wangsan_data_05m40s~06m40s_230426_ws_blindright.mp4_image_00000015.jpg\n",
      "Done. Image saved to ../../avikus-data/images/train/batch2_wangsan_data_05m40s~06m40s_230426_ws_blindright.mp4_image_00000004.jpg\n",
      "Done. Image saved to ../../avikus-data/images/train/batch2_wangsan_data_05m40s~06m40s_230426_ws_blindright.mp4_image_00000005.jpg\n",
      "Done. Image saved to ../../avikus-data/images/train/batch2_wangsan_data_05m40s~06m40s_230426_ws_blindright.mp4_image_00000021.jpg\n",
      "Done. Image saved to ../../avikus-data/images/train/batch2_wangsan_data_05m40s~06m40s_230426_ws_blindright.mp4_image_00000024.jpg\n",
      "Done. Image saved to ../../avikus-data/images/train/batch2_wangsan_data_05m40s~06m40s_230426_ws_blindright.mp4_image_00000013.jpg\n",
      "Done. Image saved to ../../avikus-data/images/train/batch2_wangsan_data_05m40s~06m40s_230426_ws_blindright.mp4_image_00000031.jpg\n",
      "Done. Image saved to ../../avikus-data/images/train/batch2_wangsan_data_05m40s~06m40s_230426_ws_blindright.mp4_image_00000006.jpg\n",
      "Done. Image saved to ../../avikus-data/images/train/batch2_wangsan_data_05m40s~06m40s_230426_ws_blindright.mp4_image_00000007.jpg\n",
      "Done. Image saved to ../../avikus-data/images/train/batch2_wangsan_data_05m40s~06m40s_230426_ws_blindright.mp4_image_00000022.jpg\n",
      "Done. Image saved to ../../avikus-data/images/train/batch2_wangsan_data_05m40s~06m40s_230426_ws_blindright.mp4_image_00000029.jpg\n",
      "Done. Image saved to ../../avikus-data/images/train/batch2_wangsan_data_05m40s~06m40s_230426_ws_blindright.mp4_image_00000025.jpg\n",
      "Done. Image saved to ../../avikus-data/images/train/batch2_wangsan_data_05m40s~06m40s_230426_ws_blindright.mp4_image_00000001.jpg\n",
      "Done. Image saved to ../../avikus-data/images/train/batch2_wangsan_data_05m40s~06m40s_230426_ws_blindright.mp4_image_00000016.jpg\n",
      "Done. Image saved to ../../avikus-data/images/train/batch2_wangsan_data_05m40s~06m40s_230426_ws_blindright.mp4_image_00000002.jpg\n",
      "Done. Image saved to ../../avikus-data/images/train/batch2_wangsan_data_05m40s~06m40s_230426_ws_blindright.mp4_image_00000028.jpg\n",
      "Done. Image saved to ../../avikus-data/images/train/batch2_wangsan_data_05m40s~06m40s_230426_ws_blindright.mp4_image_00000030.jpg\n"
     ]
    },
    {
     "name": "stderr",
     "output_type": "stream",
     "text": [
      "323it [01:21,  3.59it/s]"
     ]
    },
    {
     "name": "stdout",
     "output_type": "stream",
     "text": [
      "Done. Image saved to ../../avikus-data/images/train/batch2_wangsan_data_05m40s~06m40s_230426_ws_blindright.mp4_image_00000008.jpg\n",
      "Done. Image saved to ../../avikus-data/images/train/batch2_wangsan_data_05m40s~06m40s_230426_ws_blindright.mp4_image_00000009.jpg\n",
      "Done. Image saved to ../../avikus-data/images/train/batch2_wangsan_data_05m40s~06m40s_230426_ws_blindright.mp4_image_00000011.jpg\n",
      "Done. Image saved to ../../avikus-data/images/train/batch2_wangsan_data_05m40s~06m40s_230426_ws_blindright.mp4_image_00000023.jpg\n",
      "Done. Image saved to ../../avikus-data/images/train/batch2_UK_data_record_stbd_berth_3_0m39s_video_leftblind.mp4_image_00000010.jpg\n",
      "Done. Image saved to ../../avikus-data/images/train/batch2_UK_data_record_stbd_berth_3_0m39s_video_leftblind.mp4_image_00000020.jpg\n",
      "Done. Image saved to ../../avikus-data/images/train/batch2_UK_data_record_stbd_berth_3_0m39s_video_leftblind.mp4_image_00000003.jpg\n",
      "Done. Image saved to ../../avikus-data/images/train/batch2_UK_data_record_stbd_berth_3_0m39s_video_leftblind.mp4_image_00000014.jpg\n",
      "Done. Image saved to ../../avikus-data/images/train/batch2_UK_data_record_stbd_berth_3_0m39s_video_leftblind.mp4_image_00000018.jpg\n",
      "Done. Image saved to ../../avikus-data/images/train/batch2_UK_data_record_stbd_berth_3_0m39s_video_leftblind.mp4_image_00000012.jpg\n",
      "Done. Image saved to ../../avikus-data/images/train/batch2_UK_data_record_stbd_berth_3_0m39s_video_leftblind.mp4_image_00000019.jpg\n",
      "Done. Image saved to ../../avikus-data/images/train/batch2_UK_data_record_stbd_berth_3_0m39s_video_leftblind.mp4_image_00000017.jpg\n",
      "Done. Image saved to ../../avikus-data/images/train/batch2_UK_data_record_stbd_berth_3_0m39s_video_leftblind.mp4_image_00000015.jpg\n",
      "Done. Image saved to ../../avikus-data/images/train/batch2_UK_data_record_stbd_berth_3_0m39s_video_leftblind.mp4_image_00000004.jpg\n",
      "Done. Image saved to ../../avikus-data/images/train/batch2_UK_data_record_stbd_berth_3_0m39s_video_leftblind.mp4_image_00000005.jpg\n",
      "Done. Image saved to ../../avikus-data/images/train/batch2_UK_data_record_stbd_berth_3_0m39s_video_leftblind.mp4_image_00000013.jpg\n",
      "Done. Image saved to ../../avikus-data/images/train/batch2_UK_data_record_stbd_berth_3_0m39s_video_leftblind.mp4_image_00000006.jpg\n",
      "Done. Image saved to ../../avikus-data/images/train/batch2_UK_data_record_stbd_berth_3_0m39s_video_leftblind.mp4_image_00000007.jpg\n",
      "Done. Image saved to ../../avikus-data/images/train/batch2_UK_data_record_stbd_berth_3_0m39s_video_leftblind.mp4_image_00000001.jpg\n",
      "Done. Image saved to ../../avikus-data/images/train/batch2_UK_data_record_stbd_berth_3_0m39s_video_leftblind.mp4_image_00000016.jpg\n"
     ]
    },
    {
     "name": "stderr",
     "output_type": "stream",
     "text": [
      "328it [01:21,  4.38it/s]"
     ]
    },
    {
     "name": "stdout",
     "output_type": "stream",
     "text": [
      "Done. Image saved to ../../avikus-data/images/train/batch2_UK_data_record_stbd_berth_3_0m39s_video_leftblind.mp4_image_00000002.jpg\n",
      "Done. Image saved to ../../avikus-data/images/train/batch2_UK_data_record_stbd_berth_3_0m39s_video_leftblind.mp4_image_00000008.jpg\n",
      "Done. Image saved to ../../avikus-data/images/train/batch2_UK_data_record_stbd_berth_3_0m39s_video_leftblind.mp4_image_00000009.jpg\n",
      "Done. Image saved to ../../avikus-data/images/train/batch2_UK_data_record_stbd_berth_3_0m39s_video_leftblind.mp4_image_00000011.jpg\n",
      "Done. Image saved to ../../avikus-data/images/train/batch2_wangsan_data_01h17m00s~01h17m45s_230511_ws_blindright.mp4.mp4_image_00000010.jpg\n",
      "Done. Image saved to ../../avikus-data/images/train/batch2_wangsan_data_01h17m00s~01h17m45s_230511_ws_blindright.mp4.mp4_image_00000020.jpg\n",
      "Done. Image saved to ../../avikus-data/images/train/batch2_wangsan_data_01h17m00s~01h17m45s_230511_ws_blindright.mp4.mp4_image_00000003.jpg\n",
      "Done. Image saved to ../../avikus-data/images/train/batch2_wangsan_data_01h17m00s~01h17m45s_230511_ws_blindright.mp4.mp4_image_00000014.jpg\n",
      "Done. Image saved to ../../avikus-data/images/train/batch2_wangsan_data_01h17m00s~01h17m45s_230511_ws_blindright.mp4.mp4_image_00000018.jpg\n",
      "Done. Image saved to ../../avikus-data/images/train/batch2_wangsan_data_01h17m00s~01h17m45s_230511_ws_blindright.mp4.mp4_image_00000012.jpg\n",
      "Done. Image saved to ../../avikus-data/images/train/batch2_wangsan_data_01h17m00s~01h17m45s_230511_ws_blindright.mp4.mp4_image_00000019.jpg\n",
      "Done. Image saved to ../../avikus-data/images/train/batch2_wangsan_data_01h17m00s~01h17m45s_230511_ws_blindright.mp4.mp4_image_00000017.jpg\n",
      "Done. Image saved to ../../avikus-data/images/train/batch2_wangsan_data_01h17m00s~01h17m45s_230511_ws_blindright.mp4.mp4_image_00000015.jpg\n",
      "Done. Image saved to ../../avikus-data/images/train/batch2_wangsan_data_01h17m00s~01h17m45s_230511_ws_blindright.mp4.mp4_image_00000004.jpg\n",
      "Done. Image saved to ../../avikus-data/images/train/batch2_wangsan_data_01h17m00s~01h17m45s_230511_ws_blindright.mp4.mp4_image_00000005.jpg\n",
      "Done. Image saved to ../../avikus-data/images/train/batch2_wangsan_data_01h17m00s~01h17m45s_230511_ws_blindright.mp4.mp4_image_00000021.jpg\n",
      "Done. Image saved to ../../avikus-data/images/train/batch2_wangsan_data_01h17m00s~01h17m45s_230511_ws_blindright.mp4.mp4_image_00000013.jpg\n",
      "Done. Image saved to ../../avikus-data/images/train/batch2_wangsan_data_01h17m00s~01h17m45s_230511_ws_blindright.mp4.mp4_image_00000006.jpg\n",
      "Done. Image saved to ../../avikus-data/images/train/batch2_wangsan_data_01h17m00s~01h17m45s_230511_ws_blindright.mp4.mp4_image_00000007.jpg\n",
      "Done. Image saved to ../../avikus-data/images/train/batch2_wangsan_data_01h17m00s~01h17m45s_230511_ws_blindright.mp4.mp4_image_00000022.jpg\n",
      "Done. Image saved to ../../avikus-data/images/train/batch2_wangsan_data_01h17m00s~01h17m45s_230511_ws_blindright.mp4.mp4_image_00000001.jpg\n",
      "Done. Image saved to ../../avikus-data/images/train/batch2_wangsan_data_01h17m00s~01h17m45s_230511_ws_blindright.mp4.mp4_image_00000016.jpg\n",
      "Done. Image saved to ../../avikus-data/images/train/batch2_wangsan_data_01h17m00s~01h17m45s_230511_ws_blindright.mp4.mp4_image_00000002.jpg\n",
      "Done. Image saved to ../../avikus-data/images/train/batch2_wangsan_data_01h17m00s~01h17m45s_230511_ws_blindright.mp4.mp4_image_00000008.jpg\n",
      "Done. Image saved to ../../avikus-data/images/train/batch2_wangsan_data_01h17m00s~01h17m45s_230511_ws_blindright.mp4.mp4_image_00000009.jpg\n",
      "Done. Image saved to ../../avikus-data/images/train/batch2_wangsan_data_01h17m00s~01h17m45s_230511_ws_blindright.mp4.mp4_image_00000011.jpg\n"
     ]
    },
    {
     "name": "stderr",
     "output_type": "stream",
     "text": [
      "333it [01:23,  4.24it/s]"
     ]
    },
    {
     "name": "stdout",
     "output_type": "stream",
     "text": [
      "Done. Image saved to ../../avikus-data/images/train/batch2_wangsan_data_01h17m00s~01h17m45s_230511_ws_blindright.mp4.mp4_image_00000023.jpg\n",
      "Done. Image saved to ../../avikus-data/images/train/batch2_wangsan_data_00h32m30s~00h33m00s_230511_ws_blindright.mp4.mp4_image_00000010.jpg\n",
      "Done. Image saved to ../../avikus-data/images/train/batch2_wangsan_data_00h32m30s~00h33m00s_230511_ws_blindright.mp4.mp4_image_00000003.jpg\n",
      "Done. Image saved to ../../avikus-data/images/train/batch2_wangsan_data_00h32m30s~00h33m00s_230511_ws_blindright.mp4.mp4_image_00000014.jpg\n",
      "Done. Image saved to ../../avikus-data/images/train/batch2_wangsan_data_00h32m30s~00h33m00s_230511_ws_blindright.mp4.mp4_image_00000012.jpg\n",
      "Done. Image saved to ../../avikus-data/images/train/batch2_wangsan_data_00h32m30s~00h33m00s_230511_ws_blindright.mp4.mp4_image_00000015.jpg\n",
      "Done. Image saved to ../../avikus-data/images/train/batch2_wangsan_data_00h32m30s~00h33m00s_230511_ws_blindright.mp4.mp4_image_00000004.jpg\n",
      "Done. Image saved to ../../avikus-data/images/train/batch2_wangsan_data_00h32m30s~00h33m00s_230511_ws_blindright.mp4.mp4_image_00000005.jpg\n",
      "Done. Image saved to ../../avikus-data/images/train/batch2_wangsan_data_00h32m30s~00h33m00s_230511_ws_blindright.mp4.mp4_image_00000013.jpg\n",
      "Done. Image saved to ../../avikus-data/images/train/batch2_wangsan_data_00h32m30s~00h33m00s_230511_ws_blindright.mp4.mp4_image_00000006.jpg\n",
      "Done. Image saved to ../../avikus-data/images/train/batch2_wangsan_data_00h32m30s~00h33m00s_230511_ws_blindright.mp4.mp4_image_00000007.jpg\n",
      "Done. Image saved to ../../avikus-data/images/train/batch2_wangsan_data_00h32m30s~00h33m00s_230511_ws_blindright.mp4.mp4_image_00000001.jpg\n",
      "Done. Image saved to ../../avikus-data/images/train/batch2_wangsan_data_00h32m30s~00h33m00s_230511_ws_blindright.mp4.mp4_image_00000016.jpg\n",
      "Done. Image saved to ../../avikus-data/images/train/batch2_wangsan_data_00h32m30s~00h33m00s_230511_ws_blindright.mp4.mp4_image_00000002.jpg\n",
      "Done. Image saved to ../../avikus-data/images/train/batch2_wangsan_data_00h32m30s~00h33m00s_230511_ws_blindright.mp4.mp4_image_00000008.jpg\n",
      "Done. Image saved to ../../avikus-data/images/train/batch2_wangsan_data_00h32m30s~00h33m00s_230511_ws_blindright.mp4.mp4_image_00000009.jpg\n"
     ]
    },
    {
     "name": "stderr",
     "output_type": "stream",
     "text": [
      "338it [01:23,  4.65it/s]"
     ]
    },
    {
     "name": "stdout",
     "output_type": "stream",
     "text": [
      "Done. Image saved to ../../avikus-data/images/train/batch2_wangsan_data_00h32m30s~00h33m00s_230511_ws_blindright.mp4.mp4_image_00000011.jpg\n",
      "Done. Image saved to ../../avikus-data/images/train/batch2_wangsan_data_00h01m45s~00h02m45s_230511_ws_left.mp4.mp4_image_00000010.jpg\n",
      "Done. Image saved to ../../avikus-data/images/train/batch2_wangsan_data_00h01m45s~00h02m45s_230511_ws_left.mp4.mp4_image_00000020.jpg\n",
      "Done. Image saved to ../../avikus-data/images/train/batch2_wangsan_data_00h01m45s~00h02m45s_230511_ws_left.mp4.mp4_image_00000027.jpg\n",
      "Done. Image saved to ../../avikus-data/images/train/batch2_wangsan_data_00h01m45s~00h02m45s_230511_ws_left.mp4.mp4_image_00000003.jpg\n",
      "Done. Image saved to ../../avikus-data/images/train/batch2_wangsan_data_00h01m45s~00h02m45s_230511_ws_left.mp4.mp4_image_00000014.jpg\n",
      "Done. Image saved to ../../avikus-data/images/train/batch2_wangsan_data_00h01m45s~00h02m45s_230511_ws_left.mp4.mp4_image_00000018.jpg\n",
      "Done. Image saved to ../../avikus-data/images/train/batch2_wangsan_data_00h01m45s~00h02m45s_230511_ws_left.mp4.mp4_image_00000012.jpg\n",
      "Done. Image saved to ../../avikus-data/images/train/batch2_wangsan_data_00h01m45s~00h02m45s_230511_ws_left.mp4.mp4_image_00000019.jpg\n",
      "Done. Image saved to ../../avikus-data/images/train/batch2_wangsan_data_00h01m45s~00h02m45s_230511_ws_left.mp4.mp4_image_00000026.jpg\n",
      "Done. Image saved to ../../avikus-data/images/train/batch2_wangsan_data_00h01m45s~00h02m45s_230511_ws_left.mp4.mp4_image_00000017.jpg\n",
      "Done. Image saved to ../../avikus-data/images/train/batch2_wangsan_data_00h01m45s~00h02m45s_230511_ws_left.mp4.mp4_image_00000015.jpg\n",
      "Done. Image saved to ../../avikus-data/images/train/batch2_wangsan_data_00h01m45s~00h02m45s_230511_ws_left.mp4.mp4_image_00000004.jpg\n",
      "Done. Image saved to ../../avikus-data/images/train/batch2_wangsan_data_00h01m45s~00h02m45s_230511_ws_left.mp4.mp4_image_00000005.jpg\n",
      "Done. Image saved to ../../avikus-data/images/train/batch2_wangsan_data_00h01m45s~00h02m45s_230511_ws_left.mp4.mp4_image_00000021.jpg\n",
      "Done. Image saved to ../../avikus-data/images/train/batch2_wangsan_data_00h01m45s~00h02m45s_230511_ws_left.mp4.mp4_image_00000024.jpg\n",
      "Done. Image saved to ../../avikus-data/images/train/batch2_wangsan_data_00h01m45s~00h02m45s_230511_ws_left.mp4.mp4_image_00000013.jpg\n",
      "Done. Image saved to ../../avikus-data/images/train/batch2_wangsan_data_00h01m45s~00h02m45s_230511_ws_left.mp4.mp4_image_00000031.jpg\n",
      "Done. Image saved to ../../avikus-data/images/train/batch2_wangsan_data_00h01m45s~00h02m45s_230511_ws_left.mp4.mp4_image_00000006.jpg\n"
     ]
    },
    {
     "name": "stderr",
     "output_type": "stream",
     "text": [
      "342it [01:25,  4.02it/s]"
     ]
    },
    {
     "name": "stdout",
     "output_type": "stream",
     "text": [
      "Done. Image saved to ../../avikus-data/images/train/batch2_wangsan_data_00h01m45s~00h02m45s_230511_ws_left.mp4.mp4_image_00000007.jpg\n",
      "Done. Image saved to ../../avikus-data/images/train/batch2_wangsan_data_00h01m45s~00h02m45s_230511_ws_left.mp4.mp4_image_00000022.jpg\n"
     ]
    },
    {
     "name": "stderr",
     "output_type": "stream",
     "text": [
      "\n"
     ]
    },
    {
     "ename": "KeyboardInterrupt",
     "evalue": "",
     "output_type": "error",
     "traceback": [
      "\u001b[0;31m---------------------------------------------------------------------------\u001b[0m",
      "\u001b[0;31mKeyboardInterrupt\u001b[0m                         Traceback (most recent call last)",
      "Cell \u001b[0;32mIn[23], line 73\u001b[0m\n\u001b[1;32m     70\u001b[0m     os\u001b[39m.\u001b[39mmakedirs(os\u001b[39m.\u001b[39mpath\u001b[39m.\u001b[39mdirname(save_image_path))\n\u001b[1;32m     71\u001b[0m     \u001b[39mprint\u001b[39m(\u001b[39mf\u001b[39m\u001b[39m\"\u001b[39m\u001b[39mThe folder \u001b[39m\u001b[39m{\u001b[39;00mos\u001b[39m.\u001b[39mpath\u001b[39m.\u001b[39mdirname(save_image_path)\u001b[39m}\u001b[39;00m\u001b[39m was created.\u001b[39m\u001b[39m\"\u001b[39m)\n\u001b[0;32m---> 73\u001b[0m cv\u001b[39m.\u001b[39mimwrite(save_image_path, cv\u001b[39m.\u001b[39;49mimread(image_file_path))\n\u001b[1;32m     75\u001b[0m \u001b[39mprint\u001b[39m(\u001b[39mf\u001b[39m\u001b[39m'\u001b[39m\u001b[39mDone. Image saved to \u001b[39m\u001b[39m{\u001b[39;00msave_image_path\u001b[39m}\u001b[39;00m\u001b[39m'\u001b[39m)\n\u001b[1;32m     77\u001b[0m \u001b[39m# 라벨 normalize 후 저장\u001b[39;00m\n\u001b[1;32m     78\u001b[0m \u001b[39m# Create the directory if it doesn't exist\u001b[39;00m\n",
      "\u001b[0;31mKeyboardInterrupt\u001b[0m: "
     ]
    }
   ],
   "source": [
    "for root, dirs, files in tqdm(os.walk(labeling_folder)):\n",
    "    if 'json' in dirs:\n",
    "        fd = os.path.join(root, 'json')\n",
    "        \n",
    "        for json_file in glob(os.path.join(fd, \"*.json\")):\n",
    "            with open(json_file, \"r\") as file:\n",
    "                try:\n",
    "                    data = json.load(file)\n",
    "                    \n",
    "                    # 확인용 디버그 print\n",
    "                    # print(f\"Loaded JSON data from {json_file}:\")\n",
    "                    # pprint.pprint(data)\n",
    "                    \n",
    "                    # 사용할 키\n",
    "                    keys = [\"objects\", \"class_name\", \"annotation\", \"x\", \"y\"]\n",
    "                    \n",
    "                    json_file_basename_without_extension = os.path.splitext(os.path.basename(json_file))[0]\n",
    "                    image_file_name = json_file_basename_without_extension + \".jpg\"\n",
    "                    image_subfolder_name = json_file.split(os.path.sep)[-3]\n",
    "                    \n",
    "                    # 실제 이미지 파일 경로 파싱\n",
    "                    image_file_path = os.path.join(rawimg_folder, image_subfolder_name, image_file_name)\n",
    "\n",
    "                    # 이미지 형식\n",
    "                    if not os.path.exists(image_file_path):\n",
    "                        print(f\"The file at {image_file_path} does not exist.\")\n",
    "                        \n",
    "                        image_file_name = json_file_basename_without_extension + \".png\"\n",
    "                        image_file_path = os.path.join(rawimg_folder, image_subfolder_name, image_file_name)\n",
    "                        \n",
    "                        if not os.path.exists(image_file_path):\n",
    "                            print(f\"The file at {image_file_path} does not exist.\")\n",
    "                            \n",
    "                            break\n",
    "                    \n",
    "                    image_array = cv.imread(image_file_path)\n",
    "                    image_array = cv.cvtColor(image_array, cv.COLOR_BGR2RGB)\n",
    "\n",
    "                    # normalize를 위한 원본 이미지 사이즈 parse\n",
    "                    image_height, image_width = image_array.shape[:2]\n",
    "                    \n",
    "                    draw_img = image_array.copy()\n",
    "                    \n",
    "                    # Replace 'labeling' with 'draw_image' in the path\n",
    "                    save_draw_image_path = os.path.splitext(json_file.replace('labeling', 'draw_image'))[0] + '.jpg'\n",
    "                    \n",
    "                    elements = json_file.split(os.path.sep)\n",
    "                    \n",
    "                    # UK\n",
    "                    if 'UK' in json_file:\n",
    "                        # 이미지에 중복된 이름들이 있어서, prefix를 unique하게 설정\n",
    "                        # elements[-2]는 'json'이라서 제외\n",
    "                        save_image_path = os.path.splitext(os.path.join(val_image_folder, '_'.join([elements[-4], elements[-3], elements[-1]])))[0] + '.jpg'\n",
    "                        # 공백 없애기 \n",
    "                        save_image_path = save_image_path.replace(\" \", \"\")\n",
    "                        \n",
    "                        save_label_path = os.path.splitext(os.path.join(val_label_folder, '_'.join([elements[-4], elements[-3], elements[-1]])))[0] + '.txt'\n",
    "                        # 공백 없애기 \n",
    "                        save_label_path = save_label_path.replace(\" \", \"\")\n",
    "                    else:\n",
    "                        save_image_path = os.path.splitext(os.path.join(train_image_folder, '_'.join([elements[-4], elements[-3], elements[-1]])))[0] + '.jpg'\n",
    "                        save_image_path = save_image_path.replace(\" \", \"\")\n",
    "                        \n",
    "                        save_label_path = os.path.splitext(os.path.join(train_label_folder, '_'.join([elements[-4], elements[-3], elements[-1]])))[0] + '.txt'\n",
    "                        save_label_path = save_label_path.replace(\" \", \"\")\n",
    "                    \n",
    "                    # 이미지 저장\n",
    "                    # Create the directory if it doesn't exist\n",
    "                    if not os.path.exists(os.path.dirname(save_image_path)):\n",
    "                        os.makedirs(os.path.dirname(save_image_path))\n",
    "                        print(f\"The folder {os.path.dirname(save_image_path)} was created.\")\n",
    "                \n",
    "                    cv.imwrite(save_image_path, cv.imread(image_file_path))\n",
    "                    \n",
    "                    print(f'Done. Image saved to {save_image_path}')\n",
    "                    \n",
    "                    # 라벨 normalize 후 저장\n",
    "                    # Create the directory if it doesn't exist\n",
    "                    if not os.path.exists(os.path.dirname(save_label_path)):\n",
    "                        os.makedirs(os.path.dirname(save_label_path))\n",
    "                        print(f\"The folder {os.path.dirname(save_label_path)} was created.\")\n",
    "                        \n",
    "                    # json 파싱\n",
    "                    if keys[0] in data:\n",
    "                        for object in data[keys[0]]:\n",
    "                            cls_name = object[keys[1]]\n",
    "                            \n",
    "                            if cls_name in include_classes:\n",
    "                                annos = object[keys[2]]\n",
    "                                color = random_color()\n",
    "                                \n",
    "                                category_id = class2label[cls_name]\n",
    "                                \n",
    "                                # 객체 단위\n",
    "                                for obj_annos in annos:    \n",
    "                                    polygon = []\n",
    "                                    # 객체 안에 최외곽선을 포함한 Hole이 존재할 수 있음                            \n",
    "                                    for obj_anno in obj_annos:\n",
    "                                        for pts in obj_anno:\n",
    "                                            x, y = pts[keys[3]], pts[keys[4]]\n",
    "                                            polygon.append([x, y])\n",
    "\n",
    "                                    normalized_polygon = [[x / image_width, y / image_height] for x, y in polygon]\n",
    "\n",
    "                                    # Convert category_id to a string and format the normalized_polygon\n",
    "                                    category_id_str = str(category_id)\n",
    "                                    normalized_polygon_str = ' '.join([f'{x:.6f} {y:.6f}' for x, y in normalized_polygon])\n",
    "\n",
    "                                    # Construct the line to be written to the file\n",
    "                                    line = f'{category_id_str} {normalized_polygon_str}\\n'\n",
    "\n",
    "                                    # Write the line to the file\n",
    "                                    with open(save_label_path, 'a') as file:\n",
    "                                        file.write(line)\n",
    "                    \n",
    "                except json.JSONDecodeError as e:\n",
    "                    print(f\"Error loading JSON file {json_file}: {e}\")\n",
    "                    "
   ]
  },
  {
   "cell_type": "code",
   "execution_count": null,
   "metadata": {},
   "outputs": [],
   "source": []
  }
 ],
 "metadata": {
  "kernelspec": {
   "display_name": "pytorch_train",
   "language": "python",
   "name": "python3"
  },
  "language_info": {
   "codemirror_mode": {
    "name": "ipython",
    "version": 3
   },
   "file_extension": ".py",
   "mimetype": "text/x-python",
   "name": "python",
   "nbconvert_exporter": "python",
   "pygments_lexer": "ipython3",
   "version": "3.8.16"
  },
  "orig_nbformat": 4
 },
 "nbformat": 4,
 "nbformat_minor": 2
}
