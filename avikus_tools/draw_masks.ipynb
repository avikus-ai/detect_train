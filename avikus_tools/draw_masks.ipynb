{
 "cells": [
  {
   "attachments": {},
   "cell_type": "markdown",
   "metadata": {},
   "source": [
    "### 1. 라이브러리 Import"
   ]
  },
  {
   "cell_type": "code",
   "execution_count": null,
   "metadata": {},
   "outputs": [],
   "source": [
    "import os\n",
    "from glob import glob\n",
    "import shutil\n",
    "import cv2 as cv\n",
    "import numpy as np\n",
    "from tqdm import tqdm\n",
    "\n",
    "# For parse json\n",
    "import json\n",
    "import pprint\n",
    "\n",
    "# For drawing\n",
    "import random\n",
    "import matplotlib.pyplot as plt\n",
    "import pylab\n",
    "%matplotlib inline"
   ]
  },
  {
   "cell_type": "code",
   "execution_count": null,
   "metadata": {},
   "outputs": [],
   "source": [
    "# 데이터셋 위치\n",
    "!ls ../../avikus-data"
   ]
  },
  {
   "attachments": {},
   "cell_type": "markdown",
   "metadata": {},
   "source": [
    "### 2. 폴더 위치 선언"
   ]
  },
  {
   "cell_type": "code",
   "execution_count": null,
   "metadata": {},
   "outputs": [],
   "source": [
    "# 세그멘테이션 라벨링 파일이 포함된 폴더\n",
    "labeling_folder = '../../avikus-data/labeling'\n",
    "rawimg_folder = '../../avikus-data/rawdata/'\n",
    "include_classes = [\"buoy\", \"boat\"] # 파싱하고자 하는 데이터셋"
   ]
  },
  {
   "cell_type": "code",
   "execution_count": null,
   "metadata": {},
   "outputs": [],
   "source": [
    "# 랜덤 컬러\n",
    "def random_color():\n",
    "    return (random.randint(0, 255), random.randint(0, 255), random.randint(0, 255))"
   ]
  },
  {
   "attachments": {},
   "cell_type": "markdown",
   "metadata": {},
   "source": [
    "### 3. 샘플 JSON 로드 및 그리기"
   ]
  },
  {
   "cell_type": "code",
   "execution_count": null,
   "metadata": {},
   "outputs": [],
   "source": [
    "# SuperbAI JSON 정보\n",
    "# Double Polygon, Triple List\n",
    "# https://ko.docs.superb-ai.com/reference/rotated-boxes-1"
   ]
  },
  {
   "cell_type": "code",
   "execution_count": null,
   "metadata": {},
   "outputs": [],
   "source": [
    "cnt = 0\n",
    "show_limit = 3\n",
    "\n",
    "for root, dirs, files in os.walk(labeling_folder):\n",
    "    if 'json' in dirs:\n",
    "        fd = os.path.join(root, 'json')\n",
    "        \n",
    "        for json_file in glob(os.path.join(fd, \"*.json\")):\n",
    "            with open(json_file, \"r\") as file:\n",
    "                try:\n",
    "                    data = json.load(file)\n",
    "                    \n",
    "                    # 확인용 디버그 print\n",
    "                    # print(f\"Loaded JSON data from {json_file}:\")\n",
    "                    # pprint.pprint(data)\n",
    "                    \n",
    "                    keys = [\"objects\", \"class_name\", \"annotation\", \"x\", \"y\"]\n",
    "                    \n",
    "                    json_file_basename_without_extension = os.path.splitext(os.path.basename(json_file))[0]\n",
    "                    image_file_name = json_file_basename_without_extension + \".jpg\"\n",
    "                    image_subfolder_name = json_file.split(os.path.sep)[-3]\n",
    "                    \n",
    "                    image_file_path = os.path.join(rawimg_folder, image_subfolder_name, image_file_name)\n",
    "                    \n",
    "                    if not os.path.exists(image_file_path):\n",
    "                        print(f\"The file at {image_file_path} does not exist.\")\n",
    "                        break\n",
    "                    \n",
    "                    image_array = cv.imread(image_file_path)\n",
    "                    image_array = cv.cvtColor(image_array, cv.COLOR_BGR2RGB)\n",
    "                    \n",
    "                    draw_img = image_array.copy()\n",
    "                    \n",
    "                    if keys[0] in data:\n",
    "                        for object in data[keys[0]]:\n",
    "                            cls_name = object[keys[1]]\n",
    "                            \n",
    "                            if cls_name in include_classes:\n",
    "                                annos = object[keys[2]] # len=1;\n",
    "                                color = random_color()\n",
    "                                \n",
    "                                # 객체 단위\n",
    "                                for obj_annos in annos:\n",
    "                                    polygon = []\n",
    "                                    # 객체 안에 최외곽선을 포함한 Hole이 존재할 수 있음                            \n",
    "                                    for obj_anno in obj_annos:\n",
    "                                        for pts in obj_anno:\n",
    "                                            x, y = pts[keys[3]], pts[keys[4]]\n",
    "                                            polygon.append([x, y])\n",
    "                                            \n",
    "                                    polygon_xy = np.array(polygon, np.int32)\n",
    "                                    draw_img = cv.polylines(draw_img, [polygon_xy], True, color, thickness=3)\n",
    "                                    # draw_img = cv.fillPoly(draw_img, [polygon_xy], (0, 255, 0))\n",
    "                    \n",
    "                        plt.figure(figsize=(8, 10))\n",
    "                        plt.imshow(draw_img)\n",
    "                        plt.axis('off')\n",
    "                                \n",
    "                except json.JSONDecodeError as e:\n",
    "                    print(f\"Error loading JSON file {json_file}: {e}\")\n",
    "            \n",
    "            cnt = cnt + 1\n",
    "            \n",
    "            if cnt >= show_limit:\n",
    "                break\n",
    "        \n",
    "        break"
   ]
  },
  {
   "attachments": {},
   "cell_type": "markdown",
   "metadata": {},
   "source": [
    "### 4. draw_image에 대해서 모두 저장하기"
   ]
  },
  {
   "cell_type": "code",
   "execution_count": null,
   "metadata": {},
   "outputs": [],
   "source": [
    "# polygon 이미지를 저장하는 폴더\n",
    "draw_image_save_folder = '../../avikus-data/draw_image/'\n",
    "\n",
    "# 폴더 생성\n",
    "if not os.path.exists(draw_image_save_folder):\n",
    "    os.makedirs(draw_image_save_folder)\n",
    "    print(f\"The folder {draw_image_save_folder} was created.\")\n",
    "else:\n",
    "    print(f\"The folder {draw_image_save_folder} already exists.\")"
   ]
  },
  {
   "cell_type": "code",
   "execution_count": null,
   "metadata": {},
   "outputs": [],
   "source": [
    "for root, dirs, files in tqdm(os.walk(labeling_folder)):\n",
    "    if 'json' in dirs:\n",
    "        fd = os.path.join(root, 'json')\n",
    "        \n",
    "        for json_file in glob(os.path.join(fd, \"*.json\")):\n",
    "            with open(json_file, \"r\") as file:\n",
    "                try:\n",
    "                    data = json.load(file)\n",
    "                    \n",
    "                    # 확인용 디버그 print\n",
    "                    # print(f\"Loaded JSON data from {json_file}:\")\n",
    "                    # pprint.pprint(data)\n",
    "                    \n",
    "                    # 사용할 키\n",
    "                    keys = [\"objects\", \"class_name\", \"annotation\", \"x\", \"y\"]\n",
    "                    \n",
    "                    json_file_basename_without_extension = os.path.splitext(os.path.basename(json_file))[0]\n",
    "                    image_file_name = json_file_basename_without_extension + \".jpg\"\n",
    "                    image_subfolder_name = json_file.split(os.path.sep)[-3]\n",
    "                    \n",
    "                    # 실제 이미지 파일 경로 파싱\n",
    "                    image_file_path = os.path.join(rawimg_folder, image_subfolder_name, image_file_name)\n",
    "\n",
    "                    # 이미지 형시\n",
    "                    if not os.path.exists(image_file_path):\n",
    "                        print(f\"The file at {image_file_path} does not exist.\")\n",
    "                        \n",
    "                        image_file_name = json_file_basename_without_extension + \".png\"\n",
    "                        image_file_path = os.path.join(rawimg_folder, image_subfolder_name, image_file_name)\n",
    "                        \n",
    "                        if not os.path.exists(image_file_path):\n",
    "                            print(f\"The file at {image_file_path} does not exist.\")\n",
    "                            \n",
    "                            break\n",
    "                    \n",
    "                    image_array = cv.imread(image_file_path)\n",
    "                    image_array = cv.cvtColor(image_array, cv.COLOR_BGR2RGB)\n",
    "                    \n",
    "                    draw_img = image_array.copy()\n",
    "                    \n",
    "                    # Replace 'labeling' with 'draw_image' in the path\n",
    "                    save_image_path = os.path.splitext(json_file.replace('labeling', 'draw_image'))[0] + '.jpg'\n",
    "\n",
    "                    # Extract the directory path from the modified path\n",
    "                    save_image_folder = os.path.dirname(save_image_path)\n",
    "\n",
    "                    # Create the directory if it doesn't exist\n",
    "                    if not os.path.exists(save_image_folder):\n",
    "                        os.makedirs(save_image_folder)\n",
    "                        print(f\"The folder {save_image_folder} was created.\")\n",
    "                        \n",
    "                    if keys[0] in data:\n",
    "                        for object in data[keys[0]]:\n",
    "                            cls_name = object[keys[1]]\n",
    "                            \n",
    "                            if cls_name in include_classes:\n",
    "                                annos = object[keys[2]] # len=1;\n",
    "                                color = random_color()\n",
    "                                \n",
    "                                # 객체 단위\n",
    "                                for obj_annos in annos:    \n",
    "                                    polygon = []\n",
    "                                    # 객체 안에 최외곽선을 포함한 Hole이 존재할 수 있음                            \n",
    "                                    for obj_anno in obj_annos:\n",
    "                                        for pts in obj_anno:\n",
    "                                            x, y = pts[keys[3]], pts[keys[4]]\n",
    "                                            polygon.append([x, y])\n",
    "                                            \n",
    "                                    polygon_xy = np.array(polygon, np.int32)\n",
    "                                    draw_img = cv.polylines(draw_img, [polygon_xy], True, color, thickness=3)\n",
    "                                    # draw_img = cv.fillPoly(draw_img, [polygon_xy], (0, 255, 0))\n",
    "                    \n",
    "                        cv.imwrite(save_image_path, cv.cvtColor(draw_img, cv.COLOR_RGB2BGR))\n",
    "\n",
    "                except json.JSONDecodeError as e:\n",
    "                    print(f\"Error loading JSON file {json_file}: {e}\")\n",
    "                    "
   ]
  },
  {
   "cell_type": "code",
   "execution_count": null,
   "metadata": {},
   "outputs": [],
   "source": []
  },
  {
   "cell_type": "code",
   "execution_count": null,
   "metadata": {},
   "outputs": [],
   "source": []
  }
 ],
 "metadata": {
  "kernelspec": {
   "display_name": "sahi-benchmark",
   "language": "python",
   "name": "python3"
  },
  "language_info": {
   "codemirror_mode": {
    "name": "ipython",
    "version": 3
   },
   "file_extension": ".py",
   "mimetype": "text/x-python",
   "name": "python",
   "nbconvert_exporter": "python",
   "pygments_lexer": "ipython3",
   "version": "3.8.16"
  },
  "orig_nbformat": 4
 },
 "nbformat": 4,
 "nbformat_minor": 2
}
