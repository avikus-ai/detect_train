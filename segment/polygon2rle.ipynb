{
 "cells": [
  {
   "cell_type": "code",
   "execution_count": 37,
   "metadata": {},
   "outputs": [],
   "source": [
    "# import libraries\n",
    "import os\n",
    "import sys\n",
    "import matplotlib.pyplot as plt\n",
    "import numpy as np\n",
    "import cv2\n",
    "from tqdm import tqdm\n",
    "from pycocotools import mask as maskUtils\n",
    "# interact\n",
    "from ipywidgets import interact"
   ]
  },
  {
   "cell_type": "code",
   "execution_count": 38,
   "metadata": {},
   "outputs": [],
   "source": [
    "VIDEO_PATH = '../sources/KIMPO_230808_4.MOV'\n",
    "LABEL_PATH = '../runs/predict-seg/exp/labels'\n",
    "\n",
    "# Exists check\n",
    "if not os.path.exists(VIDEO_PATH):\n",
    "    print('Video file not exists')\n",
    "    sys.exit()\n",
    "if not os.path.exists(LABEL_PATH):\n",
    "    print('Label file not exists')\n",
    "    sys.exit()"
   ]
  },
  {
   "cell_type": "code",
   "execution_count": 39,
   "metadata": {},
   "outputs": [],
   "source": [
    "def polygons_to_rle(polygons, height, width):\n",
    "    # Create an empty mask\n",
    "    mask_image = np.zeros((height, width), dtype=np.uint8)\n",
    "\n",
    "    # Draw the polygons on the mask\n",
    "    for polygon in polygons:\n",
    "        # Reshape the polygon to the required format for cv2.fillPoly\n",
    "        np_polygon = np.array(polygon).reshape((-1, 2))\n",
    "        cv2.fillPoly(mask_image, [np_polygon], 1)\n",
    "\n",
    "    # Create RLE from the mask\n",
    "    rle = maskUtils.encode(np.asfortranarray(mask_image))\n",
    "    return rle"
   ]
  },
  {
   "cell_type": "code",
   "execution_count": 40,
   "metadata": {},
   "outputs": [],
   "source": [
    "cap = cv2.VideoCapture(VIDEO_PATH)\n",
    "max_frame = int(cap.get(cv2.CAP_PROP_FRAME_COUNT)) - 1\n",
    "frame_height = int(cap.get(cv2.CAP_PROP_FRAME_HEIGHT))\n",
    "frame_width = int(cap.get(cv2.CAP_PROP_FRAME_WIDTH))\n",
    "cap.release()"
   ]
  },
  {
   "cell_type": "code",
   "execution_count": 35,
   "metadata": {},
   "outputs": [
    {
     "data": {
      "application/vnd.jupyter.widget-view+json": {
       "model_id": "d2933447cf5e4e96a28b4a86b3539c61",
       "version_major": 2,
       "version_minor": 0
      },
      "text/plain": [
       "interactive(children=(IntSlider(value=612, description='frame_id', max=1224, min=1), Output()), _dom_classes=(…"
      ]
     },
     "metadata": {},
     "output_type": "display_data"
    }
   ],
   "source": [
    "@interact(frame_id=(1, max_frame))\n",
    "def print_rle(frame_id):\n",
    "    # cap = cv2.VideoCapture(VIDEO_PATH)\n",
    "    # cap.set(cv2.CAP_PROP_POS_FRAMES, frame_id-1)\n",
    "    # ret, frame = cap.read()\n",
    "    # if not ret:\n",
    "    #     print(\"프레임을 가져오는데 실패했습니다.\")\n",
    "    #     cap.release()\n",
    "    #     return\n",
    "\n",
    "    file_name = os.path.splitext(os.path.basename(VIDEO_PATH))[0]\n",
    "    label_file = os.path.join(LABEL_PATH, file_name + '_' + str(frame_id) + '.txt')\n",
    "\n",
    "    # 레이블 파일 읽기 및 포인트 조정\n",
    "    if os.path.exists(label_file):\n",
    "        with open(label_file, 'r') as f:\n",
    "            data = f.read().strip()\n",
    "\n",
    "        for line in data.split('\\n'):\n",
    "            parts = line.split()\n",
    "            label = int(parts[0])\n",
    "            # points: N x 2 배열\n",
    "            points = np.array(parts[1:], dtype=float).reshape(-1, 2)\n",
    "            points[:, 0] *= frame_width  # X 좌표 조정\n",
    "            points[:, 1] *= frame_height  # Y 좌표 조정\n",
    "            # put random color\n",
    "            # color = np.random.randint(0, 255, 3).tolist()\n",
    "            # cv2.polylines(frame, [points.astype(np.int32)], True, color, 7)\n",
    "            \n",
    "            polygons =[]\n",
    "            for point in points:\n",
    "                # int casting\n",
    "                polygons.append([int(point[0]), int(point[1])])\n",
    "                \n",
    "            # RLE 변환\n",
    "            rle = polygons_to_rle(polygons, frame_height, frame_width)\n",
    "            # rle의 counts 크기 확인\n",
    "            print('rle counts size: ', len(rle['counts']))\n",
    "            \n",
    "    # 프레임 표시\n",
    "    # plt.figure(figsize=(14, 10))\n",
    "    # plt.imshow(cv2.cvtColor(frame, cv2.COLOR_BGR2RGB))\n",
    "    # plt.axis('off')\n",
    "    # plt.show()\n",
    "    # cap.release()"
   ]
  },
  {
   "cell_type": "code",
   "execution_count": null,
   "metadata": {},
   "outputs": [],
   "source": []
  }
 ],
 "metadata": {
  "kernelspec": {
   "display_name": "pytorch_train",
   "language": "python",
   "name": "python3"
  },
  "language_info": {
   "codemirror_mode": {
    "name": "ipython",
    "version": 3
   },
   "file_extension": ".py",
   "mimetype": "text/x-python",
   "name": "python",
   "nbconvert_exporter": "python",
   "pygments_lexer": "ipython3",
   "version": "3.8.16"
  }
 },
 "nbformat": 4,
 "nbformat_minor": 2
}
