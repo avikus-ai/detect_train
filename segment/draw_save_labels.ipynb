{
 "cells": [
  {
   "cell_type": "code",
   "execution_count": null,
   "metadata": {},
   "outputs": [],
   "source": [
    "\"\"\"\n",
    "@ Purpose:\n",
    "    YOLOv5Seg에서 저장되는 save_txt를 실제로 그림에 표시해보기\n",
    "    save_txt 시에 Polygon 형태로 저장되며, masks2segments 함수에서 알 수 있듯이 기본적으로 largest만을 저장한다 (Concat도 선택 가능)\n",
    "    데이터가 매우 크며, 추후 RLE 형태로 저장할 필요가 있음\n",
    "\"\"\""
   ]
  },
  {
   "cell_type": "code",
   "execution_count": 11,
   "metadata": {},
   "outputs": [],
   "source": [
    "# import libraries\n",
    "import os\n",
    "import sys\n",
    "import matplotlib.pyplot as plt\n",
    "import numpy as np\n",
    "import cv2\n",
    "# interact\n",
    "from ipywidgets import interact"
   ]
  },
  {
   "cell_type": "code",
   "execution_count": 12,
   "metadata": {},
   "outputs": [],
   "source": [
    "VIDEO_PATH = '../sources/KIMPO_230808_4.MOV'\n",
    "LABEL_PATH = '../runs/predict-seg/exp/labels'"
   ]
  },
  {
   "cell_type": "code",
   "execution_count": 13,
   "metadata": {},
   "outputs": [],
   "source": [
    "# Exists check\n",
    "if not os.path.exists(VIDEO_PATH):\n",
    "    print('Video file not exists')\n",
    "    sys.exit()\n",
    "if not os.path.exists(LABEL_PATH):\n",
    "    print('Label file not exists')\n",
    "    sys.exit()"
   ]
  },
  {
   "cell_type": "code",
   "execution_count": 14,
   "metadata": {},
   "outputs": [],
   "source": [
    "cap = cv2.VideoCapture(VIDEO_PATH)\n",
    "max_frame = int(cap.get(cv2.CAP_PROP_FRAME_COUNT)) - 1\n",
    "cap.release()"
   ]
  },
  {
   "cell_type": "code",
   "execution_count": 21,
   "metadata": {},
   "outputs": [
    {
     "data": {
      "application/vnd.jupyter.widget-view+json": {
       "model_id": "73a09908abfc42f29182885754d94924",
       "version_major": 2,
       "version_minor": 0
      },
      "text/plain": [
       "interactive(children=(IntSlider(value=612, description='frame_id', max=1224, min=1), Output()), _dom_classes=(…"
      ]
     },
     "metadata": {},
     "output_type": "display_data"
    }
   ],
   "source": [
    "@interact(frame_id=(1, max_frame))\n",
    "def plot_frame(frame_id):\n",
    "    cap = cv2.VideoCapture(VIDEO_PATH)\n",
    "    cap.set(cv2.CAP_PROP_POS_FRAMES, frame_id-1)\n",
    "    ret, frame = cap.read()\n",
    "    if not ret:\n",
    "        print(\"프레임을 가져오는데 실패했습니다.\")\n",
    "        cap.release()\n",
    "        return\n",
    "\n",
    "    file_name = os.path.splitext(os.path.basename(VIDEO_PATH))[0]\n",
    "    label_file = os.path.join(LABEL_PATH, file_name + '_' + str(frame_id) + '.txt')\n",
    "\n",
    "    # 레이블 파일 읽기 및 포인트 조정\n",
    "    if os.path.exists(label_file):\n",
    "        with open(label_file, 'r') as f:\n",
    "            data = f.read().strip()\n",
    "\n",
    "        for line in data.split('\\n'):\n",
    "            parts = line.split()\n",
    "            label = int(parts[0])\n",
    "            points = np.array(parts[1:], dtype=float).reshape(-1, 2)\n",
    "            points[:, 0] *= frame.shape[1]  # X 좌표 조정\n",
    "            points[:, 1] *= frame.shape[0]  # Y 좌표 조정\n",
    "            # put random color\n",
    "            color = np.random.randint(0, 255, 3).tolist()\n",
    "            \n",
    "            cv2.polylines(frame, [points.astype(np.int32)], True, color, 7)\n",
    "\n",
    "    # 프레임 표시\n",
    "    plt.figure(figsize=(14, 10))\n",
    "    plt.imshow(cv2.cvtColor(frame, cv2.COLOR_BGR2RGB))\n",
    "    plt.axis('off')\n",
    "    plt.show()\n",
    "    cap.release()"
   ]
  },
  {
   "cell_type": "code",
   "execution_count": null,
   "metadata": {},
   "outputs": [],
   "source": []
  },
  {
   "cell_type": "code",
   "execution_count": null,
   "metadata": {},
   "outputs": [],
   "source": []
  }
 ],
 "metadata": {
  "kernelspec": {
   "display_name": "pytorch_train",
   "language": "python",
   "name": "python3"
  },
  "language_info": {
   "codemirror_mode": {
    "name": "ipython",
    "version": 3
   },
   "file_extension": ".py",
   "mimetype": "text/x-python",
   "name": "python",
   "nbconvert_exporter": "python",
   "pygments_lexer": "ipython3",
   "version": "3.8.16"
  },
  "orig_nbformat": 4
 },
 "nbformat": 4,
 "nbformat_minor": 2
}
