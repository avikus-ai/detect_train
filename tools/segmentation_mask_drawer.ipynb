{
 "cells": [
  {
   "attachments": {},
   "cell_type": "markdown",
   "metadata": {},
   "source": [
    "### 0. Import Library "
   ]
  },
  {
   "cell_type": "code",
   "execution_count": 16,
   "metadata": {},
   "outputs": [],
   "source": [
    "import os\n",
    "import numpy as np\n",
    "from PIL import Image\n",
    "import matplotlib.pyplot as plt\n",
    "from ipywidgets import interact"
   ]
  },
  {
   "attachments": {},
   "cell_type": "markdown",
   "metadata": {},
   "source": [
    "### 1. Instance Segmentation Mask"
   ]
  },
  {
   "cell_type": "code",
   "execution_count": 9,
   "metadata": {},
   "outputs": [
    {
     "data": {
      "application/vnd.jupyter.widget-view+json": {
       "model_id": "4721c90750e24f2cba7071aed2080ecc",
       "version_major": 2,
       "version_minor": 0
      },
      "text/plain": [
       "interactive(children=(IntSlider(value=0, description='idx', max=2915), Output()), _dom_classes=('widget-intera…"
      ]
     },
     "metadata": {},
     "output_type": "display_data"
    }
   ],
   "source": [
    "instance_mask_path = \"/data/HiNAS-DATA/MassMIND/InstanceSegmentation_Masks/\"\n",
    "\n",
    "# List all files in the mask directory\n",
    "instance_mask_files = os.listdir(instance_mask_path)\n",
    "\n",
    "@interact(idx=(0,len(instance_mask_files)-1))\n",
    "def draw_mask(idx=0):\n",
    "    # Choose a mask file for visualization\n",
    "    instance_mask_file = os.path.join(instance_mask_path, instance_mask_files[idx])\n",
    "\n",
    "    # Load the mask image\n",
    "    instance_mask_image = Image.open(instance_mask_file)\n",
    "\n",
    "    # Convert the mask image to a NumPy array\n",
    "    instance_mask_array = np.array(instance_mask_image)\n",
    "\n",
    "    # Define a colormap for visualization\n",
    "    cmap = plt.get_cmap(\"tab20b\", np.max(instance_mask_array) - np.min(instance_mask_array) + 1)\n",
    "\n",
    "    # Normalize the mask array for better visualization\n",
    "    instance_mask_array_norm = instance_mask_array - np.min(instance_mask_array)\n",
    "\n",
    "    # Visualize the mask with color values\n",
    "    plt.figure(figsize=(12,8))\n",
    "    plt.imshow(instance_mask_array_norm, cmap=cmap, vmin=np.min(instance_mask_array), vmax=np.max(instance_mask_array))\n",
    "    plt.colorbar(ticks=range(np.min(instance_mask_array), np.max(instance_mask_array) + 1))\n",
    "    plt.title(\"Mask Visualization\")\n",
    "\n",
    "    # Display the plot\n",
    "    plt.show()"
   ]
  },
  {
   "attachments": {},
   "cell_type": "markdown",
   "metadata": {},
   "source": [
    "### 2. Semantic Segmentation Mask"
   ]
  },
  {
   "cell_type": "code",
   "execution_count": 10,
   "metadata": {},
   "outputs": [],
   "source": [
    "labels = {\"Sky\": 0,\n",
    "          \"Water\": 1,\n",
    "          \"Bridge\": 2,\n",
    "          \"Obstacles\": 3,\n",
    "          \"Living Obstacles\": 4,\n",
    "          \"Background\": 5,\n",
    "          \"Self\": 6}"
   ]
  },
  {
   "cell_type": "code",
   "execution_count": 11,
   "metadata": {},
   "outputs": [
    {
     "data": {
      "application/vnd.jupyter.widget-view+json": {
       "model_id": "8a4857602c0a4e9a919aeac6563459ed",
       "version_major": 2,
       "version_minor": 0
      },
      "text/plain": [
       "interactive(children=(IntSlider(value=0, description='idx', max=2915), Output()), _dom_classes=('widget-intera…"
      ]
     },
     "metadata": {},
     "output_type": "display_data"
    }
   ],
   "source": [
    "semantic_mask_path = \"/data/HiNAS-DATA/MassMIND/Segmentation_Masks/\"\n",
    "\n",
    "# List all files in the mask directory\n",
    "semantic_mask_files = os.listdir(semantic_mask_path)\n",
    "\n",
    "@interact(idx=(0,len(semantic_mask_files)-1))\n",
    "def draw_mask(idx=0):\n",
    "    # Choose a mask file for visualization\n",
    "    semantic_mask_file = os.path.join(semantic_mask_path, semantic_mask_files[idx])\n",
    "\n",
    "    # Load the mask image\n",
    "    semantic_mask_image = Image.open(semantic_mask_file)\n",
    "\n",
    "    # Convert the mask image to a NumPy array\n",
    "    semantic_mask_array = np.array(semantic_mask_image)\n",
    "\n",
    "    # Define a colormap for visualization\n",
    "    cmap = plt.get_cmap(\"tab20b\", np.max(semantic_mask_array) - np.min(semantic_mask_array) + 1)\n",
    "\n",
    "    # Normalize the mask array for better visualization\n",
    "    semantic_mask_array_norm = semantic_mask_array - np.min(semantic_mask_array)\n",
    "\n",
    "    # Visualize the mask with color values\n",
    "    plt.figure(figsize=(12,8))\n",
    "    plt.imshow(semantic_mask_array_norm, cmap=cmap, vmin=np.min(semantic_mask_array), vmax=np.max(semantic_mask_array))\n",
    "    plt.colorbar(ticks=range(np.min(semantic_mask_array), np.max(semantic_mask_array) + 1))\n",
    "    plt.title(\"Mask Visualization\")\n",
    "\n",
    "    # Display the plot\n",
    "    plt.show()\n",
    "    print(labels)"
   ]
  },
  {
   "attachments": {},
   "cell_type": "markdown",
   "metadata": {},
   "source": [
    "### 3. Semantic Segmentation Mask with Image"
   ]
  },
  {
   "cell_type": "code",
   "execution_count": 15,
   "metadata": {},
   "outputs": [
    {
     "data": {
      "application/vnd.jupyter.widget-view+json": {
       "model_id": "066f5d151ea74596bc4c096dee385050",
       "version_major": 2,
       "version_minor": 0
      },
      "text/plain": [
       "interactive(children=(IntSlider(value=0, description='idx', max=2915), FloatSlider(value=0.5, description='alp…"
      ]
     },
     "metadata": {},
     "output_type": "display_data"
    }
   ],
   "source": [
    "import os\n",
    "import numpy as np\n",
    "from PIL import Image\n",
    "import matplotlib.pyplot as plt\n",
    "from matplotlib.colors import LinearSegmentedColormap\n",
    "\n",
    "semantic_mask_path = \"/data/HiNAS-DATA/MassMIND/Segmentation_Masks/\"\n",
    "image_path = \"/data/HiNAS-DATA/MassMIND/Images/\"\n",
    "\n",
    "# List all files in the mask directory\n",
    "semantic_mask_files = os.listdir(semantic_mask_path)\n",
    "\n",
    "# Define the alpha value for overlaying\n",
    "@interact(idx=(0,len(semantic_mask_files)-1), alpha=(0,1,0.1))\n",
    "def draw_mask(idx=0, alpha=0.5):\n",
    "    # Choose a mask file for visualization\n",
    "    semantic_mask_file = os.path.join(semantic_mask_path, semantic_mask_files[idx])\n",
    "\n",
    "    # Load the mask image\n",
    "    semantic_mask_image = Image.open(semantic_mask_file)\n",
    "\n",
    "    # Convert the mask image to a NumPy array\n",
    "    semantic_mask_array = np.array(semantic_mask_image)\n",
    "\n",
    "    # Define a colormap based on the minimum and maximum values of the mask array\n",
    "    cmap = LinearSegmentedColormap.from_list('my_cmap', [(0, 'black')] + [(x, plt.cm.tab20b(x)) for x in np.linspace(0, 1, np.max(semantic_mask_array) - np.min(semantic_mask_array) + 1)])\n",
    "\n",
    "    # Overlay mask on the corresponding image\n",
    "    image_file = os.path.join(image_path, semantic_mask_files[idx])\n",
    "    image = Image.open(image_file)\n",
    "\n",
    "    # Resize the mask to match the image size\n",
    "    semantic_mask_image_resized = semantic_mask_image.resize(image.size)\n",
    "\n",
    "    # Blend the image and mask\n",
    "    overlaid_image = Image.blend(image.convert(\"RGBA\"), semantic_mask_image_resized.convert(\"RGBA\"), alpha)\n",
    "\n",
    "    # Normalize the mask array for better visualization\n",
    "    semantic_mask_array_norm = semantic_mask_array - np.min(semantic_mask_array)\n",
    "\n",
    "    # Display the overlaid image with the colormap\n",
    "    plt.figure(figsize=(12,8))\n",
    "    plt.imshow(overlaid_image)\n",
    "    plt.imshow(semantic_mask_array_norm, cmap=cmap, alpha=alpha, vmin=0, vmax=np.max(semantic_mask_array) - np.min(semantic_mask_array))\n",
    "    plt.title(\"Image with Overlaid Mask\")\n",
    "    plt.colorbar(ticks=range(np.min(semantic_mask_array), np.max(semantic_mask_array) + 1))\n",
    "    plt.show()\n",
    "    print(labels)\n"
   ]
  },
  {
   "cell_type": "code",
   "execution_count": null,
   "metadata": {},
   "outputs": [],
   "source": []
  }
 ],
 "metadata": {
  "kernelspec": {
   "display_name": "base",
   "language": "python",
   "name": "python3"
  },
  "language_info": {
   "codemirror_mode": {
    "name": "ipython",
    "version": 3
   },
   "file_extension": ".py",
   "mimetype": "text/x-python",
   "name": "python",
   "nbconvert_exporter": "python",
   "pygments_lexer": "ipython3",
   "version": "3.8.13"
  },
  "orig_nbformat": 4
 },
 "nbformat": 4,
 "nbformat_minor": 2
}
