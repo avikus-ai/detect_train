{
 "cells": [
  {
   "attachments": {},
   "cell_type": "markdown",
   "metadata": {},
   "source": [
    "## Wandb에서 pt 파일을 받아서, ONNX Export 후에 다시 업로드"
   ]
  },
  {
   "cell_type": "code",
   "execution_count": null,
   "metadata": {
    "vscode": {
     "languageId": "ini"
    }
   },
   "outputs": [
    {
     "ename": "",
     "evalue": "",
     "output_type": "error",
     "traceback": [
      "\u001b[1;31mRunning cells with 'yolov5_train' requires the ipykernel package.\n",
      "\u001b[1;31mRun the following command to install 'ipykernel' into the Python environment. \n",
      "\u001b[1;31mCommand: 'conda install -n yolov5_train ipykernel --update-deps --force-reinstall'"
     ]
    }
   ],
   "source": [
    "\"\"\"\n",
    "----------------------------------------------------------------------------\n",
    "Filename: neuboat_upload_download.ipynb\n",
    "Path: tools/neuboat_upload_download.ipynb\n",
    "Date: 08.09.2023\n",
    "Author: youngjae.you\n",
    "Purpose: Wandb Registry에서 Neuboat detection task 관련 최신 pt, onnx, engine 모델을 다운로드하거나 업로드할 수 있는 스크립트\n",
    "History:\n",
    "----------------------------------------------------------------------------\n",
    "\"\"\""
   ]
  },
  {
   "attachments": {},
   "cell_type": "markdown",
   "metadata": {},
   "source": [
    "### Wandb 설치"
   ]
  },
  {
   "cell_type": "code",
   "execution_count": 1,
   "metadata": {},
   "outputs": [],
   "source": [
    "# Install the Weights & Biases library\n",
    "!pip install wandb -qqq"
   ]
  },
  {
   "cell_type": "code",
   "execution_count": 2,
   "metadata": {},
   "outputs": [],
   "source": [
    "# Log a dataset version as an artifact\n",
    "import wandb\n",
    "import os"
   ]
  },
  {
   "cell_type": "code",
   "execution_count": 3,
   "metadata": {},
   "outputs": [
    {
     "name": "stderr",
     "output_type": "stream",
     "text": [
      "Failed to detect the name of this notebook, you can set it manually with the WANDB_NOTEBOOK_NAME environment variable to enable code saving.\n",
      "\u001b[34m\u001b[1mwandb\u001b[0m: Logging into wandb.ai. (Learn how to deploy a W&B server locally: https://wandb.me/wandb-server)\n",
      "\u001b[34m\u001b[1mwandb\u001b[0m: You can find your API key in your browser here: https://wandb.ai/authorize\n",
      "\u001b[34m\u001b[1mwandb\u001b[0m: Paste an API key from your profile and hit enter, or press ctrl+c to quit:\u001b[34m\u001b[1mwandb\u001b[0m: Appending key for api.wandb.ai to your netrc file: /home/yjyou/.netrc\n"
     ]
    },
    {
     "data": {
      "text/plain": [
       "True"
      ]
     },
     "execution_count": 3,
     "metadata": {},
     "output_type": "execute_result"
    }
   ],
   "source": [
    "wandb.login()"
   ]
  },
  {
   "attachments": {},
   "cell_type": "markdown",
   "metadata": {},
   "source": [
    "### Latest 모델 다운로드"
   ]
  },
  {
   "cell_type": "code",
   "execution_count": 4,
   "metadata": {},
   "outputs": [
    {
     "name": "stderr",
     "output_type": "stream",
     "text": [
      "\u001b[34m\u001b[1mwandb\u001b[0m: Currently logged in as: \u001b[33myoungjae-you\u001b[0m (\u001b[33mavikus-cv\u001b[0m). Use \u001b[1m`wandb login --relogin`\u001b[0m to force relogin\n"
     ]
    },
    {
     "data": {
      "text/html": [
       "Tracking run with wandb version 0.15.8"
      ],
      "text/plain": [
       "<IPython.core.display.HTML object>"
      ]
     },
     "metadata": {},
     "output_type": "display_data"
    },
    {
     "data": {
      "text/html": [
       "Run data is saved locally in <code>/home/yjyou/workspace/detect_train/tools/wandb/run-20230809_151424-b9oc4zhm</code>"
      ],
      "text/plain": [
       "<IPython.core.display.HTML object>"
      ]
     },
     "metadata": {},
     "output_type": "display_data"
    },
    {
     "data": {
      "text/html": [
       "Syncing run <strong><a href='https://wandb.ai/avikus-cv/detect_train-tools/runs/b9oc4zhm' target=\"_blank\">curious-pine-3</a></strong> to <a href='https://wandb.ai/avikus-cv/detect_train-tools' target=\"_blank\">Weights & Biases</a> (<a href='https://wandb.me/run' target=\"_blank\">docs</a>)<br/>"
      ],
      "text/plain": [
       "<IPython.core.display.HTML object>"
      ]
     },
     "metadata": {},
     "output_type": "display_data"
    },
    {
     "data": {
      "text/html": [
       " View project at <a href='https://wandb.ai/avikus-cv/detect_train-tools' target=\"_blank\">https://wandb.ai/avikus-cv/detect_train-tools</a>"
      ],
      "text/plain": [
       "<IPython.core.display.HTML object>"
      ]
     },
     "metadata": {},
     "output_type": "display_data"
    },
    {
     "data": {
      "text/html": [
       " View run at <a href='https://wandb.ai/avikus-cv/detect_train-tools/runs/b9oc4zhm' target=\"_blank\">https://wandb.ai/avikus-cv/detect_train-tools/runs/b9oc4zhm</a>"
      ],
      "text/plain": [
       "<IPython.core.display.HTML object>"
      ]
     },
     "metadata": {},
     "output_type": "display_data"
    },
    {
     "name": "stderr",
     "output_type": "stream",
     "text": [
      "\u001b[34m\u001b[1mwandb\u001b[0m: Downloading large artifact neuboat:pt, 88.81MB. 1 files... \n",
      "\u001b[34m\u001b[1mwandb\u001b[0m:   1 of 1 files downloaded.  \n",
      "Done. 0:0:5.3\n"
     ]
    }
   ],
   "source": [
    "run = wandb.init()\n",
    "artifact = run.use_artifact('avikus-cv/model-registry/neuboat:pt', type='model')\n",
    "artifact_dir = artifact.download()"
   ]
  },
  {
   "cell_type": "code",
   "execution_count": 16,
   "metadata": {},
   "outputs": [],
   "source": [
    "model_path = './artifacts/neuboat:pt/best.pt'"
   ]
  },
  {
   "attachments": {},
   "cell_type": "markdown",
   "metadata": {},
   "source": [
    "### Export onnx"
   ]
  },
  {
   "cell_type": "code",
   "execution_count": 17,
   "metadata": {},
   "outputs": [
    {
     "name": "stdout",
     "output_type": "stream",
     "text": [
      "\n",
      "Starting: ./artifacts/neuboat:pt/best.pt\n",
      "Opening YOLOv5 model\n",
      "\n",
      "YOLOv5 🚀 b5bb23d Python-3.8.16 torch-1.12.1 CPU\n",
      "\n",
      "Fusing layers... \n",
      "Model summary: 267 layers, 46124433 parameters, 0 gradients, 107.7 GFLOPs\n",
      "\n",
      "Creating labels.txt file\n",
      "\n",
      "Exporting the model to ONNX\n",
      "Simplifying the ONNX model\n",
      "Done: best.onnx\n",
      "\n"
     ]
    }
   ],
   "source": [
    "command = f\"python ../export_yoloV5_for_deepstream.py -w {model_path} -s 544 960 --opset 12 --simplify --dynamic\"\n",
    "!{command}"
   ]
  },
  {
   "cell_type": "code",
   "execution_count": 18,
   "metadata": {},
   "outputs": [],
   "source": [
    "import os\n",
    "\n",
    "current_filename = 'best.onnx'\n",
    "new_filename = 'neuboat.onnx'\n",
    "\n",
    "os.rename(current_filename, new_filename)"
   ]
  },
  {
   "cell_type": "code",
   "execution_count": 19,
   "metadata": {},
   "outputs": [
    {
     "name": "stdout",
     "output_type": "stream",
     "text": [
      "['Buoy', 'Motor Boat', 'Channel Marker', 'Speed Warning Sign']\n"
     ]
    }
   ],
   "source": [
    "labels_file = 'labels.txt'\n",
    "labels = []\n",
    "\n",
    "with open(labels_file, 'r') as file:\n",
    "    for line in file:\n",
    "        label = line.strip()  # Remove leading/trailing whitespaces\n",
    "        labels.append(label)\n",
    "\n",
    "print(labels)"
   ]
  },
  {
   "attachments": {},
   "cell_type": "markdown",
   "metadata": {},
   "source": [
    "### Upload Wandb Artifact"
   ]
  },
  {
   "cell_type": "code",
   "execution_count": 20,
   "metadata": {},
   "outputs": [
    {
     "data": {
      "text/plain": [
       "<Artifact nature-mt1msmmg>"
      ]
     },
     "execution_count": 20,
     "metadata": {},
     "output_type": "execute_result"
    }
   ],
   "source": [
    "art = wandb.Artifact(f\"nature-{wandb.run.id}\", \n",
    "                        type=\"model\",\n",
    "                        metadata={'format': 'onnx',\n",
    "                                  'model_input_size': '544 960',\n",
    "                                  'classes': labels})\n",
    "\n",
    "art.add_file(new_filename)\n",
    "art.add_file(labels_file)\n",
    "\n",
    "### Add aliases to keep track of your best checkpoints over time\n",
    "wandb.log_artifact(art, aliases=[\"best\", \"latest\"])"
   ]
  },
  {
   "cell_type": "code",
   "execution_count": 21,
   "metadata": {},
   "outputs": [],
   "source": [
    "run.link_artifact(art, 'avikus-cv/model-registry/neuboat', aliases=['best', 'onnx'])"
   ]
  },
  {
   "cell_type": "code",
   "execution_count": 22,
   "metadata": {},
   "outputs": [
    {
     "data": {
      "text/html": [
       "Waiting for W&B process to finish... <strong style=\"color:green\">(success).</strong>"
      ],
      "text/plain": [
       "<IPython.core.display.HTML object>"
      ]
     },
     "metadata": {},
     "output_type": "display_data"
    },
    {
     "data": {
      "text/html": [
       " View run <strong style=\"color:#cdcd00\">true-fire-2</strong> at: <a href='https://wandb.ai/avikus-cv/detect_train-tools/runs/mt1msmmg' target=\"_blank\">https://wandb.ai/avikus-cv/detect_train-tools/runs/mt1msmmg</a><br/>Synced 6 W&B file(s), 0 media file(s), 2 artifact file(s) and 0 other file(s)"
      ],
      "text/plain": [
       "<IPython.core.display.HTML object>"
      ]
     },
     "metadata": {},
     "output_type": "display_data"
    },
    {
     "data": {
      "text/html": [
       "Find logs at: <code>./wandb/run-20230718_145234-mt1msmmg/logs</code>"
      ],
      "text/plain": [
       "<IPython.core.display.HTML object>"
      ]
     },
     "metadata": {},
     "output_type": "display_data"
    }
   ],
   "source": [
    "wandb.finish()"
   ]
  },
  {
   "cell_type": "code",
   "execution_count": null,
   "metadata": {},
   "outputs": [],
   "source": []
  }
 ],
 "metadata": {
  "kernelspec": {
   "display_name": "pytorch_train",
   "language": "python",
   "name": "python3"
  },
  "language_info": {
   "codemirror_mode": {
    "name": "ipython",
    "version": 3
   },
   "file_extension": ".py",
   "mimetype": "text/x-python",
   "name": "python",
   "nbconvert_exporter": "python",
   "pygments_lexer": "ipython3",
   "version": "3.8.17"
  },
  "orig_nbformat": 4
 },
 "nbformat": 4,
 "nbformat_minor": 2
}
