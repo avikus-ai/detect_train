{
 "cells": [
  {
   "attachments": {},
   "cell_type": "markdown",
   "metadata": {},
   "source": [
    "### 0. Import Lib"
   ]
  },
  {
   "cell_type": "code",
   "execution_count": 40,
   "metadata": {},
   "outputs": [],
   "source": [
    "import os\n",
    "import numpy as np\n",
    "import cv2\n",
    "import matplotlib.pyplot as plt\n",
    "from ipywidgets import interact"
   ]
  },
  {
   "attachments": {},
   "cell_type": "markdown",
   "metadata": {},
   "source": [
    "### 1. Draw bbox with Interact"
   ]
  },
  {
   "cell_type": "code",
   "execution_count": 41,
   "metadata": {},
   "outputs": [
    {
     "data": {
      "application/vnd.jupyter.widget-view+json": {
       "model_id": "61bffdffdfb4457c8a969530f1bd2a83",
       "version_major": 2,
       "version_minor": 0
      },
      "text/plain": [
       "interactive(children=(IntSlider(value=0, description='idx', max=2915), Output()), _dom_classes=('widget-intera…"
      ]
     },
     "metadata": {},
     "output_type": "display_data"
    }
   ],
   "source": [
    "image_path = \"/data/HiNAS-DATA/MassMIND/Images/\"\n",
    "semantic_mask_path = \"/data/HiNAS-DATA/MassMIND/Segmentation_Masks/\"\n",
    "instance_mask_path = \"/data/HiNAS-DATA/MassMIND/InstanceSegmentation_Masks/\"\n",
    "\n",
    "# Get the list of all files in the instance_mask_path directory\n",
    "files = os.listdir(instance_mask_path)\n",
    "\n",
    "@interact(idx=(0,len(files)-1))\n",
    "def draw_mask(idx=0):\n",
    "    # Get the file name without extension\n",
    "    file_name = os.path.splitext(files[idx])[0]\n",
    "    \n",
    "    # Load the image, semantic mask, and instance mask\n",
    "    image = cv2.imread(image_path + file_name + '.png', cv2.IMREAD_UNCHANGED)\n",
    "    semantic_mask = cv2.imread(semantic_mask_path + file_name + '.png', cv2.IMREAD_UNCHANGED)\n",
    "    instance_mask = cv2.imread(instance_mask_path + file_name + '.png', cv2.IMREAD_UNCHANGED)\n",
    "    \n",
    "    # print(f\"semantic mask min: {np.min(semantic_mask)}, max: {np.max(semantic_mask)}\")\n",
    "    # print(f\"instance mask min: {np.min(instance_mask)}, max: {np.max(instance_mask)}\")\n",
    "    # print(f\"semantic_mask size: {semantic_mask.shape}, instance_mask size: {instance_mask.shape} \")\n",
    "    values = np.unique(instance_mask).tolist()\n",
    "    \n",
    "    # Loop over the values between min_value and max_value inclusive\n",
    "    for i in values:\n",
    "        # Create a binary mask for the current value\n",
    "        mask = (instance_mask == i)\n",
    "        \n",
    "        # Extract the corresponding pixels in the semantic mask\n",
    "        semantic_pixels_mask = semantic_mask[mask]\n",
    "        \n",
    "        # Count the number of pixels with a value of 3\n",
    "        semantic_pixels = np.sum(semantic_pixels_mask == 3)\n",
    "        \n",
    "        mask_pixels = np.sum(mask)\n",
    "        \n",
    "        # If 80% of the pixels have a value of 2 in the semantic mask, extract the bounding box\n",
    "        if semantic_pixels/mask_pixels == 1.0:\n",
    "        \n",
    "            # Convert the mask to a binary image\n",
    "            mask_binary = (mask > 0).astype(np.uint8) * 255\n",
    "\n",
    "            # Find the contours in the binary image\n",
    "            contours, _ = cv2.findContours(mask_binary, cv2.RETR_EXTERNAL, cv2.CHAIN_APPROX_SIMPLE)\n",
    "\n",
    "            x, y, w, h = cv2.boundingRect(contours[0])\n",
    "            \n",
    "            # Draw the bounding box on the image\n",
    "            cv2.rectangle(image, (x, y), (x+w, y+h), (0, 255, 0), 2)\n",
    "    \n",
    "    # Display the image with the bounding box\n",
    "    plt.figure(figsize=(16,12))\n",
    "    plt.imshow(cv2.cvtColor(image, cv2.COLOR_BGR2RGB))\n",
    "    plt.show()\n"
   ]
  },
  {
   "attachments": {},
   "cell_type": "markdown",
   "metadata": {},
   "source": [
    "### 2. Save yolo bbox file"
   ]
  },
  {
   "cell_type": "code",
   "execution_count": 42,
   "metadata": {},
   "outputs": [],
   "source": [
    "\n",
    "# Set the paths to the data directories\n",
    "image_path = \"/data/HiNAS-DATA/MassMIND/Images/\"\n",
    "semantic_mask_path = \"/data/HiNAS-DATA/MassMIND/Segmentation_Masks/\"\n",
    "instance_mask_path = \"/data/HiNAS-DATA/MassMIND/InstanceSegmentation_Masks/\"\n",
    "yolo_label_path = \"/data/HiNAS-DATA/MassMIND/labels/\"\n",
    "\n",
    "# Create the yolo_label_path directory if it doesn't exist\n",
    "if not os.path.exists(yolo_label_path):\n",
    "    os.makedirs(yolo_label_path)\n",
    "\n",
    "# Get the list of all files in the instance_mask_path directory\n",
    "files = os.listdir(instance_mask_path)\n",
    "\n",
    "# Loop over the files in the instance_mask_path directory\n",
    "for file_name in files:\n",
    "    # Get the file name without extension\n",
    "    file_name_without_ext = os.path.splitext(file_name)[0]\n",
    "\n",
    "    # Load the image, semantic mask, and instance mask\n",
    "    image = cv2.imread(image_path + file_name_without_ext + '.png', cv2.IMREAD_UNCHANGED)\n",
    "    semantic_mask = cv2.imread(semantic_mask_path + file_name_without_ext + '.png', cv2.IMREAD_UNCHANGED)\n",
    "    instance_mask = cv2.imread(instance_mask_path + file_name_without_ext + '.png', cv2.IMREAD_UNCHANGED)\n",
    "\n",
    "    # Get the unique values in the instance mask\n",
    "    values = np.unique(instance_mask).tolist()\n",
    "\n",
    "    # Create a list to store the bbox labels\n",
    "    bbox_labels = []\n",
    "\n",
    "    # Loop over the values in the instance mask\n",
    "    for i in values:\n",
    "        # Create a binary mask for the current value\n",
    "        mask = (instance_mask == i)\n",
    "\n",
    "        # Extract the corresponding pixels in the semantic mask\n",
    "        semantic_pixels_mask = semantic_mask[mask]\n",
    "\n",
    "        # Count the number of pixels with a value of 3\n",
    "        semantic_pixels = np.sum(semantic_pixels_mask == 3)\n",
    "\n",
    "        mask_pixels = np.sum(mask)\n",
    "\n",
    "        # If 80% of the pixels have a value of 2 in the semantic mask, extract the bounding box\n",
    "        if semantic_pixels/mask_pixels == 1.0:\n",
    "            # Find the contours in the mask\n",
    "            contours, _ = cv2.findContours(mask.astype(np.uint8), cv2.RETR_EXTERNAL, cv2.CHAIN_APPROX_SIMPLE)\n",
    "\n",
    "            # Get the bbox coordinates\n",
    "            x, y, w, h = cv2.boundingRect(contours[0])\n",
    "\n",
    "            # Calculate the center coordinates and dimensions of the bbox\n",
    "            center_x = (x + w/2) / image.shape[1]\n",
    "            center_y = (y + h/2) / image.shape[0]\n",
    "            bbox_width = w / image.shape[1]\n",
    "            bbox_height = h / image.shape[0]\n",
    "\n",
    "            # Add the bbox label to the list\n",
    "            bbox_label = f\"{i} {center_x:.6f} {center_y:.6f} {bbox_width:.6f} {bbox_height:.6f}\"\n",
    "            bbox_labels.append(bbox_label)\n",
    "\n",
    "    # Write the bbox labels to a file in the yolo_label_path directory\n",
    "    with open(os.path.join(yolo_label_path, file_name_without_ext + '.txt'), 'w') as f:\n",
    "        f.write('\\n'.join(bbox_labels))\n"
   ]
  },
  {
   "cell_type": "code",
   "execution_count": null,
   "metadata": {},
   "outputs": [],
   "source": []
  }
 ],
 "metadata": {
  "kernelspec": {
   "display_name": "base",
   "language": "python",
   "name": "python3"
  },
  "language_info": {
   "codemirror_mode": {
    "name": "ipython",
    "version": 3
   },
   "file_extension": ".py",
   "mimetype": "text/x-python",
   "name": "python",
   "nbconvert_exporter": "python",
   "pygments_lexer": "ipython3",
   "version": "3.8.13"
  },
  "orig_nbformat": 4
 },
 "nbformat": 4,
 "nbformat_minor": 2
}
