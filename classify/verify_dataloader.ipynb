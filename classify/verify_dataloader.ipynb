{
 "cells": [
  {
   "cell_type": "code",
   "execution_count": null,
   "metadata": {},
   "outputs": [],
   "source": [
    "import matplotlib.pyplot as plt\n",
    "import torch\n",
    "import sys\n",
    "sys.path.append('..')\n",
    "from utils.dataloaders import create_classification_dataloader\n",
    "from pathlib import Path\n",
    "\n",
    "import warnings\n",
    "warnings.filterwarnings('ignore')"
   ]
  },
  {
   "cell_type": "code",
   "execution_count": null,
   "metadata": {},
   "outputs": [],
   "source": [
    "# 설정\n",
    "data_dir = Path(\"/data/instances\")  # 데이터셋 경로 지정\n",
    "imgsz = 224  # 이미지 크기 설정\n",
    "batch_size = 16  # 배치 크기 설정"
   ]
  },
  {
   "cell_type": "code",
   "execution_count": null,
   "metadata": {},
   "outputs": [],
   "source": [
    "# ImageNet의 평균과 표준 편차\n",
    "IMAGENET_MEAN = [0.485, 0.456, 0.406]\n",
    "IMAGENET_STD = [0.229, 0.224, 0.225]\n",
    "\n",
    "def unnormalize(tensor, mean=IMAGENET_MEAN, std=IMAGENET_STD):\n",
    "    \"\"\" 정규화된 이미지 텐서를 역정규화하는 함수 \"\"\"\n",
    "    for t, m, s in zip(tensor, mean, std):  # 각 채널에 대해\n",
    "        t.mul_(s).add_(m)  # 정규화 역변환\n",
    "    return tensor"
   ]
  },
  {
   "cell_type": "markdown",
   "metadata": {},
   "source": [
    "### Base Train DataLoader"
   ]
  },
  {
   "cell_type": "code",
   "execution_count": null,
   "metadata": {},
   "outputs": [],
   "source": [
    "# 데이터 로더 생성\n",
    "trainloader = create_classification_dataloader(\n",
    "    path=data_dir / 'train',\n",
    "    imgsz=imgsz,\n",
    "    batch_size=batch_size,\n",
    "    augment=True,\n",
    "    cache=False,\n",
    "    rank=-1,\n",
    "    workers=2\n",
    ")"
   ]
  },
  {
   "cell_type": "code",
   "execution_count": null,
   "metadata": {},
   "outputs": [],
   "source": [
    "# 배치 가져오기 및 시각화\n",
    "images, labels = next(iter(trainloader))\n",
    "fig, axs = plt.subplots(4, 4, figsize=(8, 8))  # 4x4 그리드 생성\n",
    "axs = axs.flatten()\n",
    "for img, label, ax in zip(images, labels, axs):\n",
    "    img = unnormalize(img)  # 역정규화 적용\n",
    "    ax.imshow(img.permute(1, 2, 0).clamp(0, 1)) # 이미지 채널 변경 (C, H, W) -> (H, W, C)\n",
    "    ax.axis('off')\n",
    "    ax.set_title(f\"Label: {label}\")\n",
    "plt.tight_layout()\n",
    "plt.show()"
   ]
  },
  {
   "cell_type": "code",
   "execution_count": null,
   "metadata": {},
   "outputs": [],
   "source": [
    "imgsz = 112\n",
    "# 데이터 로더 생성\n",
    "valloader = create_classification_dataloader(\n",
    "    path=data_dir / 'val',\n",
    "    imgsz=imgsz,\n",
    "    batch_size=batch_size,\n",
    "    augment=False,\n",
    "    cache=False,\n",
    "    rank=-1,\n",
    "    workers=2\n",
    ")"
   ]
  },
  {
   "cell_type": "code",
   "execution_count": null,
   "metadata": {},
   "outputs": [],
   "source": [
    "# 배치 가져오기 및 시각화\n",
    "images, labels = next(iter(valloader))\n",
    "fig, axs = plt.subplots(4, 4, figsize=(8, 8))  # 4x4 그리드 생성\n",
    "axs = axs.flatten()\n",
    "for img, label, ax in zip(images, labels, axs):\n",
    "    img = unnormalize(img)  # 역정규화 적용\n",
    "    ax.imshow(img.permute(1, 2, 0).clamp(0, 1)) # 이미지 채널 변경 (C, H, W) -> (H, W, C)\n",
    "    ax.axis('off')\n",
    "    ax.set_title(f\"Label: {label}\")\n",
    "plt.tight_layout()\n",
    "plt.show()"
   ]
  },
  {
   "cell_type": "code",
   "execution_count": null,
   "metadata": {},
   "outputs": [],
   "source": []
  }
 ],
 "metadata": {
  "kernelspec": {
   "display_name": "Python 3 (ipykernel)",
   "language": "python",
   "name": "python3"
  },
  "language_info": {
   "codemirror_mode": {
    "name": "ipython",
    "version": 3
   },
   "file_extension": ".py",
   "mimetype": "text/x-python",
   "name": "python",
   "nbconvert_exporter": "python",
   "pygments_lexer": "ipython3",
   "version": "3.8.18"
  }
 },
 "nbformat": 4,
 "nbformat_minor": 4
}
