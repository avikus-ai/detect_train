{
 "cells": [
  {
   "cell_type": "code",
   "execution_count": 8,
   "metadata": {},
   "outputs": [],
   "source": [
    "import os\n",
    "import numpy as np\n",
    "from tqdm import tqdm\n",
    "\n",
    "from PIL import Image, ImageDraw, ImageFont\n",
    "from pathlib import Path"
   ]
  },
  {
   "cell_type": "code",
   "execution_count": 13,
   "metadata": {},
   "outputs": [],
   "source": [
    "def bbox_drawer(img_dir, label_dir, out_dir, names):\n",
    "    img_files = os.listdir(img_dir)\n",
    "    no_label_imgs = []\n",
    "    no_label_img_cnt = 0\n",
    "    for img_file in tqdm(img_files):\n",
    "        label_file = f'{img_file.rsplit(\".\", 1)[0]}.txt'\n",
    "        \n",
    "        ext = img_file.rsplit(\".\", 1)[-1]\n",
    "        if ext.lower() not in ('jpg', 'jpeg', 'png'):\n",
    "            continue\n",
    "        \n",
    "        img_file_path = img_dir / img_file\n",
    "        label_file_path = label_dir / label_file\n",
    "        pil_img = Image.open(img_file_path)\n",
    "        pil_draw = ImageDraw.Draw(pil_img)\n",
    "        width, height = pil_img.size\n",
    "\n",
    "        try:\n",
    "            labels = np.loadtxt(label_file_path)\n",
    "        except:\n",
    "            no_label_img_cnt += 1\n",
    "            no_label_imgs.append(img_file)\n",
    "            labels = np.array([])\n",
    "\n",
    "        if labels.size > 0:\n",
    "            if labels.ndim == 1:\n",
    "                labels = np.expand_dims(labels, 0)\n",
    "            x1 = (labels[:, 1] - labels[:, 3] / 2) * width\n",
    "            y1 = (labels[:, 2] - labels[:, 4] / 2) * height\n",
    "            x2 = (labels[:, 1] + labels[:, 3] / 2) * width\n",
    "            y2 = (labels[:, 2] + labels[:, 4] / 2) * height\n",
    "\n",
    "            for label in np.stack((labels[:, 0], x1, y1, x2, y2), axis=1).tolist():\n",
    "                cat, xx1, yy1, xx2, yy2 = label\n",
    "                pil_draw.rectangle((xx1, yy1, xx2, yy2), outline='red', width=3)\n",
    "                pil_draw.text((xx1, yy1 - 22), f'{names[int(label[0])]}', fill='red', font=ImageFont.load_default())\n",
    "        \n",
    "        img_out_file_path = out_dir / img_file\n",
    "        pil_img.save(img_out_file_path)\n",
    "\n",
    "    print(f'{no_label_img_cnt} image file dont have labels')\n",
    "    return no_label_imgs, no_label_img_cnt"
   ]
  },
  {
   "cell_type": "code",
   "execution_count": 14,
   "metadata": {},
   "outputs": [],
   "source": [
    "# names = {0: 'Buoy', 1: 'Boat', 2: 'Channel Marker', 3: 'Speed Warning Sign'}\n",
    "# names = {0: 'Vessel', 1: 'Boat', 2: 'Buoy', 3: 'etc'}\n",
    "names = {0: 'Vessel'}"
   ]
  },
  {
   "cell_type": "code",
   "execution_count": 16,
   "metadata": {},
   "outputs": [
    {
     "name": "stdout",
     "output_type": "stream",
     "text": [
      "/data01/HiNAS-DATA/PROCESSED-IR-DATA/YMwinner/images /data01/HiNAS-DATA/PROCESSED-IR-DATA/YMwinner/labels /data01/HiNAS-DATA/PROCESSED-IR-DATA/YMwinner/masked_images\n"
     ]
    },
    {
     "name": "stderr",
     "output_type": "stream",
     "text": [
      "100%|██████████| 713/713 [00:20<00:00, 35.34it/s]\n"
     ]
    },
    {
     "name": "stdout",
     "output_type": "stream",
     "text": [
      "0 image file dont have labels\n",
      "/data01/HiNAS-DATA/PROCESSED-IR-DATA/ccnuri/images /data01/HiNAS-DATA/PROCESSED-IR-DATA/ccnuri/labels /data01/HiNAS-DATA/PROCESSED-IR-DATA/ccnuri/masked_images\n"
     ]
    },
    {
     "name": "stderr",
     "output_type": "stream",
     "text": [
      "100%|██████████| 228/228 [00:07<00:00, 29.47it/s]\n"
     ]
    },
    {
     "name": "stdout",
     "output_type": "stream",
     "text": [
      "0 image file dont have labels\n",
      "/data01/HiNAS-DATA/PROCESSED-IR-DATA/2939/images /data01/HiNAS-DATA/PROCESSED-IR-DATA/2939/labels /data01/HiNAS-DATA/PROCESSED-IR-DATA/2939/masked_images\n"
     ]
    },
    {
     "name": "stderr",
     "output_type": "stream",
     "text": [
      "100%|██████████| 614/614 [00:16<00:00, 37.23it/s]\n"
     ]
    },
    {
     "name": "stdout",
     "output_type": "stream",
     "text": [
      "0 image file dont have labels\n",
      "/data01/HiNAS-DATA/PROCESSED-IR-DATA/MassMIND/images /data01/HiNAS-DATA/PROCESSED-IR-DATA/MassMIND/labels /data01/HiNAS-DATA/PROCESSED-IR-DATA/MassMIND/masked_images\n"
     ]
    },
    {
     "name": "stderr",
     "output_type": "stream",
     "text": [
      "100%|██████████| 454/454 [00:19<00:00, 23.58it/s]\n"
     ]
    },
    {
     "name": "stdout",
     "output_type": "stream",
     "text": [
      "0 image file dont have labels\n",
      "/data01/HiNAS-DATA/PROCESSED-IR-DATA/KHOPE/images /data01/HiNAS-DATA/PROCESSED-IR-DATA/KHOPE/labels /data01/HiNAS-DATA/PROCESSED-IR-DATA/KHOPE/masked_images\n"
     ]
    },
    {
     "name": "stderr",
     "output_type": "stream",
     "text": [
      "100%|██████████| 166/166 [00:01<00:00, 88.83it/s]\n"
     ]
    },
    {
     "name": "stdout",
     "output_type": "stream",
     "text": [
      "0 image file dont have labels\n",
      "/data01/HiNAS-DATA/PROCESSED-IR-DATA/UIPA/images /data01/HiNAS-DATA/PROCESSED-IR-DATA/UIPA/labels /data01/HiNAS-DATA/PROCESSED-IR-DATA/UIPA/masked_images\n"
     ]
    },
    {
     "name": "stderr",
     "output_type": "stream",
     "text": [
      "100%|██████████| 188/188 [00:02<00:00, 65.28it/s]\n"
     ]
    },
    {
     "name": "stdout",
     "output_type": "stream",
     "text": [
      "0 image file dont have labels\n",
      "/data01/HiNAS-DATA/PROCESSED-IR-DATA/HANNARA/images /data01/HiNAS-DATA/PROCESSED-IR-DATA/HANNARA/labels /data01/HiNAS-DATA/PROCESSED-IR-DATA/HANNARA/masked_images\n"
     ]
    },
    {
     "name": "stderr",
     "output_type": "stream",
     "text": [
      "100%|██████████| 3/3 [00:00<00:00, 90524.55it/s]\n"
     ]
    },
    {
     "name": "stdout",
     "output_type": "stream",
     "text": [
      "0 image file dont have labels\n",
      "/data01/HiNAS-DATA/PROCESSED-IR-DATA/GORAE/images /data01/HiNAS-DATA/PROCESSED-IR-DATA/GORAE/labels /data01/HiNAS-DATA/PROCESSED-IR-DATA/GORAE/masked_images\n"
     ]
    },
    {
     "name": "stderr",
     "output_type": "stream",
     "text": [
      "100%|██████████| 3/3 [00:00<00:00, 97541.95it/s]\n"
     ]
    },
    {
     "name": "stdout",
     "output_type": "stream",
     "text": [
      "0 image file dont have labels\n",
      "/data01/HiNAS-DATA/PROCESSED-IR-DATA/HYUNDAIGLOVIS/images /data01/HiNAS-DATA/PROCESSED-IR-DATA/HYUNDAIGLOVIS/labels /data01/HiNAS-DATA/PROCESSED-IR-DATA/HYUNDAIGLOVIS/masked_images\n"
     ]
    },
    {
     "name": "stderr",
     "output_type": "stream",
     "text": [
      "100%|██████████| 240/240 [00:03<00:00, 67.49it/s]\n"
     ]
    },
    {
     "name": "stdout",
     "output_type": "stream",
     "text": [
      "1 image file dont have labels\n",
      "/data01/HiNAS-DATA/PROCESSED-IR-DATA/Seaspan/images /data01/HiNAS-DATA/PROCESSED-IR-DATA/Seaspan/labels /data01/HiNAS-DATA/PROCESSED-IR-DATA/Seaspan/masked_images\n"
     ]
    },
    {
     "name": "stderr",
     "output_type": "stream",
     "text": [
      "100%|██████████| 39/39 [00:00<00:00, 57.55it/s]"
     ]
    },
    {
     "name": "stdout",
     "output_type": "stream",
     "text": [
      "0 image file dont have labels\n"
     ]
    },
    {
     "name": "stderr",
     "output_type": "stream",
     "text": [
      "\n"
     ]
    }
   ],
   "source": [
    "for root, dirs, files in os.walk(\"/data01/HiNAS-DATA/PROCESSED-IR-DATA/\"):\n",
    "    for dir in dirs:\n",
    "        dir_path = os.path.join(root, dir)\n",
    "        \n",
    "        IMG_DIR = Path(os.path.join(dir_path, \"images\"))\n",
    "        LABEL_DIR = Path(os.path.join(dir_path, \"labels\"))\n",
    "        OUT_DIR = Path(os.path.join(dir_path, \"masked_images\"))\n",
    "        \n",
    "        OUT_DIR.mkdir(exist_ok=True)\n",
    "        \n",
    "        print(IMG_DIR, LABEL_DIR, OUT_DIR)\n",
    "        \n",
    "        bbox_drawer(IMG_DIR, LABEL_DIR, OUT_DIR, names)\n",
    "\n",
    "    dirs[:] = []"
   ]
  },
  {
   "cell_type": "code",
   "execution_count": null,
   "metadata": {},
   "outputs": [],
   "source": []
  }
 ],
 "metadata": {
  "kernelspec": {
   "display_name": "torch",
   "language": "python",
   "name": "python3"
  },
  "language_info": {
   "codemirror_mode": {
    "name": "ipython",
    "version": 3
   },
   "file_extension": ".py",
   "mimetype": "text/x-python",
   "name": "python",
   "nbconvert_exporter": "python",
   "pygments_lexer": "ipython3",
   "version": "3.8.16"
  },
  "orig_nbformat": 4,
  "vscode": {
   "interpreter": {
    "hash": "a4db1b9f79b8c67a8d6db16a3ee63762ee72417fe7ea5af279fd1f2cecb5d3cf"
   }
  }
 },
 "nbformat": 4,
 "nbformat_minor": 2
}
