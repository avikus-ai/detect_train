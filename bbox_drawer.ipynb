{
 "cells": [
  {
   "cell_type": "code",
   "execution_count": 1,
   "metadata": {},
   "outputs": [],
   "source": [
    "import os\n",
    "import numpy as np\n",
    "from tqdm import tqdm\n",
    "\n",
    "from PIL import Image, ImageDraw, ImageFont\n",
    "from pathlib import Path"
   ]
  },
  {
   "cell_type": "code",
   "execution_count": null,
   "metadata": {},
   "outputs": [],
   "source": [
    "def bbox_drawer(img_dir, label_dir, out_dir, names):\n",
    "    img_files = os.listdir(img_dir)\n",
    "    no_label_imgs = []\n",
    "    no_label_img_cnt = 0\n",
    "    for img_file in tqdm(img_files):\n",
    "        label_file = f'{img_file.rsplit(\".\", 1)[0]}.txt'\n",
    "        \n",
    "        ext = img_file.rsplit(\".\", 1)[-1]\n",
    "        if ext.lower() not in ('jpg', 'jpeg', 'png'):\n",
    "            continue\n",
    "        \n",
    "        img_file_path = img_dir / img_file\n",
    "        label_file_path = label_dir / label_file\n",
    "        pil_img = Image.open(img_file_path)\n",
    "        pil_draw = ImageDraw.Draw(pil_img)\n",
    "        width, height = pil_img.size\n",
    "\n",
    "        try:\n",
    "            labels = np.loadtxt(label_file_path)\n",
    "        except:\n",
    "            no_label_img_cnt += 1\n",
    "            no_label_imgs.append(img_file)\n",
    "            labels = np.array([])\n",
    "\n",
    "        if labels.size > 0:\n",
    "            if labels.ndim == 1:\n",
    "                labels = np.expand_dims(labels, 0)\n",
    "            x1 = (labels[:, 1] - labels[:, 3] / 2) * width\n",
    "            y1 = (labels[:, 2] - labels[:, 4] / 2) * height\n",
    "            x2 = (labels[:, 1] + labels[:, 3] / 2) * width\n",
    "            y2 = (labels[:, 2] + labels[:, 4] / 2) * height\n",
    "\n",
    "            for label in np.stack((labels[:, 0], x1, y1, x2, y2), axis=1).tolist():\n",
    "                cat, xx1, yy1, xx2, yy2 = label\n",
    "                pil_draw.rectangle((xx1, yy1, xx2, yy2), outline='red', width=3)\n",
    "                pil_draw.text((xx1, yy1 - 22), f'{names[int(label[0])]}', fill='red', font=ImageFont.truetype('arial.ttf', size=20))\n",
    "        \n",
    "        img_out_file_path = out_dir / img_file\n",
    "        pil_img.save(img_out_file_path)\n",
    "\n",
    "    print(f'{no_label_img_cnt} image file dont have labels')\n",
    "    return no_label_imgs, no_label_img_cnt"
   ]
  },
  {
   "cell_type": "code",
   "execution_count": 2,
   "metadata": {},
   "outputs": [],
   "source": [
    "# names = {0: 'Buoy', 1: 'Boat', 2: 'Channel Marker', 3: 'Speed Warning Sign'}\n",
    "names = {0: 'Vessel', 1: 'Boat', 2: 'Buoy', 3: 'etc'}"
   ]
  },
  {
   "cell_type": "code",
   "execution_count": null,
   "metadata": {},
   "outputs": [],
   "source": [
    "IMG_DIR = Path('/data/HiNAS-DATA/EO-DATA/DATASET/2939/slice_dataset/images')\n",
    "LABEL_DIR = Path('/data/HiNAS-DATA/EO-DATA/DATASET/2939/slice_dataset/labels/')\n",
    "OUT_DIR = Path('/data/HiNAS-DATA/EO-DATA/DATASET/2939/slice_dataset/masked_images')"
   ]
  },
  {
   "cell_type": "code",
   "execution_count": null,
   "metadata": {},
   "outputs": [],
   "source": [
    "bbox_drawer(IMG_DIR, LABEL_DIR, OUT_DIR, names)"
   ]
  }
 ],
 "metadata": {
  "kernelspec": {
   "display_name": "torch",
   "language": "python",
   "name": "python3"
  },
  "language_info": {
   "codemirror_mode": {
    "name": "ipython",
    "version": 3
   },
   "file_extension": ".py",
   "mimetype": "text/x-python",
   "name": "python",
   "nbconvert_exporter": "python",
   "pygments_lexer": "ipython3",
   "version": "3.8.13"
  },
  "orig_nbformat": 4,
  "vscode": {
   "interpreter": {
    "hash": "a4db1b9f79b8c67a8d6db16a3ee63762ee72417fe7ea5af279fd1f2cecb5d3cf"
   }
  }
 },
 "nbformat": 4,
 "nbformat_minor": 2
}
