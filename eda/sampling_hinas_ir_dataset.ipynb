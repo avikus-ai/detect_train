{
 "cells": [
  {
   "attachments": {},
   "cell_type": "markdown",
   "metadata": {},
   "source": [
    "### 1. 2939"
   ]
  },
  {
   "cell_type": "code",
   "execution_count": 4,
   "metadata": {},
   "outputs": [],
   "source": [
    "image_2939_path = \"/data/HiNAS-DATA/PROCESSED-IR-DATA/2939/images\"\n",
    "label_2939_path = \"/data/HiNAS-DATA/PROCESSED-IR-DATA/2939/labels\"\n",
    "key_frame = 10\n",
    "# 원본 6138장 \n",
    "# 데이터 특성상 10장씩 파싱"
   ]
  },
  {
   "cell_type": "code",
   "execution_count": 5,
   "metadata": {},
   "outputs": [
    {
     "name": "stdout",
     "output_type": "stream",
     "text": [
      "Done.\n"
     ]
    }
   ],
   "source": [
    "import os\n",
    "\n",
    "image_dir = image_2939_path\n",
    "label_dir = label_2939_path\n",
    "keep_every_nth = key_frame\n",
    "\n",
    "image_files = sorted(os.listdir(image_dir))\n",
    "label_files = sorted(os.listdir(label_dir))\n",
    "\n",
    "# Iterate over the image files and delete those that are not every nth file\n",
    "for i, image_file in enumerate(image_files):\n",
    "    if i % keep_every_nth != 0:\n",
    "        os.remove(os.path.join(image_dir, image_file))\n",
    "        os.remove(os.path.join(label_dir, label_files[i]))  # Delete corresponding label file\n",
    "\n",
    "print(\"Done.\")"
   ]
  },
  {
   "attachments": {},
   "cell_type": "markdown",
   "metadata": {},
   "source": [
    "### 2. CCnuri"
   ]
  },
  {
   "cell_type": "code",
   "execution_count": 7,
   "metadata": {},
   "outputs": [],
   "source": [
    "image_ccnuri_path = \"/data/HiNAS-DATA/PROCESSED-IR-DATA/ccnuri/images\"\n",
    "label_ccnuri_path = \"/data/HiNAS-DATA/PROCESSED-IR-DATA/ccnuri/labels\"\n",
    "key_frame = 30\n",
    "# 원본 6816장 \n",
    "# 데이터 특성상 30장씩 파싱"
   ]
  },
  {
   "cell_type": "code",
   "execution_count": 8,
   "metadata": {},
   "outputs": [
    {
     "name": "stdout",
     "output_type": "stream",
     "text": [
      "Done.\n"
     ]
    }
   ],
   "source": [
    "import os\n",
    "\n",
    "image_dir = image_ccnuri_path\n",
    "label_dir = label_ccnuri_path\n",
    "keep_every_nth = key_frame\n",
    "\n",
    "image_files = sorted(os.listdir(image_dir))\n",
    "label_files = sorted(os.listdir(label_dir))\n",
    "\n",
    "# Iterate over the image files and delete those that are not every nth file\n",
    "for i, image_file in enumerate(image_files):\n",
    "    if i % keep_every_nth != 0:\n",
    "        os.remove(os.path.join(image_dir, image_file))\n",
    "        os.remove(os.path.join(label_dir, label_files[i]))  # Delete corresponding label file\n",
    "\n",
    "print(\"Done.\")"
   ]
  },
  {
   "attachments": {},
   "cell_type": "markdown",
   "metadata": {},
   "source": [
    "### 3. 고래 221020"
   ]
  },
  {
   "cell_type": "code",
   "execution_count": 9,
   "metadata": {},
   "outputs": [],
   "source": [
    "image_gorae_221020_path = \"/data/HiNAS-DATA/PROCESSED-IR-DATA/GORAE/images/221020/\"\n",
    "label_gorae_221020_path = \"/data/HiNAS-DATA/PROCESSED-IR-DATA/GORAE/labels/221020/\"\n",
    "key_frame = 15\n",
    "# 원본 1274장 \n",
    "# 데이터 특성상 15장씩 파싱"
   ]
  },
  {
   "cell_type": "code",
   "execution_count": 10,
   "metadata": {},
   "outputs": [
    {
     "name": "stdout",
     "output_type": "stream",
     "text": [
      "Done.\n"
     ]
    }
   ],
   "source": [
    "import os\n",
    "\n",
    "image_dir = image_gorae_221020_path\n",
    "label_dir = label_gorae_221020_path\n",
    "keep_every_nth = key_frame\n",
    "\n",
    "image_files = sorted(os.listdir(image_dir))\n",
    "label_files = sorted(os.listdir(label_dir))\n",
    "\n",
    "# Iterate over the image files and delete those that are not every nth file\n",
    "for i, image_file in enumerate(image_files):\n",
    "    if i % keep_every_nth != 0:\n",
    "        os.remove(os.path.join(image_dir, image_file))\n",
    "        os.remove(os.path.join(label_dir, label_files[i]))  # Delete corresponding label file\n",
    "\n",
    "print(\"Done.\")"
   ]
  },
  {
   "attachments": {},
   "cell_type": "markdown",
   "metadata": {},
   "source": [
    "### 4. 고래 221026"
   ]
  },
  {
   "cell_type": "code",
   "execution_count": 11,
   "metadata": {},
   "outputs": [],
   "source": [
    "image_gorae_221026_path = \"/data/HiNAS-DATA/PROCESSED-IR-DATA/GORAE/images/221026/\"\n",
    "label_gorae_221026_path = \"/data/HiNAS-DATA/PROCESSED-IR-DATA/GORAE/labels/221026/\"\n",
    "key_frame = 15\n",
    "# 원본 3642장 \n",
    "# 데이터 특성상 10장씩 파싱\n",
    "\n",
    "# \"EO_2022-10-26_08_03550.jpg\" 부터는 5장씩 훈련"
   ]
  },
  {
   "cell_type": "code",
   "execution_count": 12,
   "metadata": {},
   "outputs": [
    {
     "name": "stdout",
     "output_type": "stream",
     "text": [
      "Done.\n"
     ]
    }
   ],
   "source": [
    "import os\n",
    "\n",
    "image_dir = image_gorae_221026_path\n",
    "label_dir = label_gorae_221026_path\n",
    "keep_every_nth = key_frame\n",
    "\n",
    "image_files = sorted(os.listdir(image_dir))\n",
    "label_files = sorted(os.listdir(label_dir))\n",
    "\n",
    "# Iterate over the image files and delete those that are not every nth file\n",
    "for i, image_file in enumerate(image_files):\n",
    "    if i % keep_every_nth != 0:\n",
    "        os.remove(os.path.join(image_dir, image_file))\n",
    "        os.remove(os.path.join(label_dir, label_files[i]))  # Delete corresponding label file\n",
    "\n",
    "print(\"Done.\")"
   ]
  },
  {
   "attachments": {},
   "cell_type": "markdown",
   "metadata": {},
   "source": [
    "### 5. 고래 221028"
   ]
  },
  {
   "cell_type": "code",
   "execution_count": 13,
   "metadata": {},
   "outputs": [],
   "source": [
    "image_gorae_221028_path = \"/data/HiNAS-DATA/PROCESSED-IR-DATA/GORAE/images/221028/\"\n",
    "label_gorae_221028_path = \"/data/HiNAS-DATA/PROCESSED-IR-DATA/GORAE/labels/221028/\"\n",
    "key_frame = 15\n",
    "# 원본 1245장 \n",
    "# 데이터 특성상 5장씩 파싱"
   ]
  },
  {
   "cell_type": "code",
   "execution_count": 14,
   "metadata": {},
   "outputs": [
    {
     "name": "stdout",
     "output_type": "stream",
     "text": [
      "Done.\n"
     ]
    }
   ],
   "source": [
    "import os\n",
    "\n",
    "image_dir = image_gorae_221028_path\n",
    "label_dir = label_gorae_221028_path\n",
    "keep_every_nth = key_frame\n",
    "\n",
    "image_files = sorted(os.listdir(image_dir))\n",
    "label_files = sorted(os.listdir(label_dir))\n",
    "\n",
    "# Iterate over the image files and delete those that are not every nth file\n",
    "for i, image_file in enumerate(image_files):\n",
    "    if i % keep_every_nth != 0:\n",
    "        os.remove(os.path.join(image_dir, image_file))\n",
    "        os.remove(os.path.join(label_dir, label_files[i]))  # Delete corresponding label file\n",
    "\n",
    "print(\"Done.\")"
   ]
  },
  {
   "attachments": {},
   "cell_type": "markdown",
   "metadata": {},
   "source": [
    "### 한나라호 busan departure"
   ]
  },
  {
   "cell_type": "code",
   "execution_count": 15,
   "metadata": {},
   "outputs": [],
   "source": [
    "image_busan_220525_departure_path = \"/data/HiNAS-DATA/PROCESSED-IR-DATA/HANNARA/images/busan_220525_departure/\"\n",
    "label_busan_220525_departure_path = \"/data/HiNAS-DATA/PROCESSED-IR-DATA/HANNARA/labels/busan_220525_departure/\"\n",
    "key_frame = 20\n",
    "# 원본 897장 \n",
    "# 데이터 특성상 20장씩 파싱"
   ]
  },
  {
   "cell_type": "code",
   "execution_count": 16,
   "metadata": {},
   "outputs": [
    {
     "name": "stdout",
     "output_type": "stream",
     "text": [
      "Done.\n"
     ]
    }
   ],
   "source": [
    "import os\n",
    "\n",
    "image_dir = image_busan_220525_departure_path\n",
    "label_dir = label_busan_220525_departure_path\n",
    "keep_every_nth = key_frame\n",
    "\n",
    "image_files = sorted(os.listdir(image_dir))\n",
    "label_files = sorted(os.listdir(label_dir))\n",
    "\n",
    "# Iterate over the image files and delete those that are not every nth file\n",
    "for i, image_file in enumerate(image_files):\n",
    "    if i % keep_every_nth != 0:\n",
    "        os.remove(os.path.join(image_dir, image_file))\n",
    "        os.remove(os.path.join(label_dir, label_files[i]))  # Delete corresponding label file\n",
    "\n",
    "print(\"Done.\")"
   ]
  },
  {
   "cell_type": "markdown",
   "metadata": {},
   "source": []
  },
  {
   "attachments": {},
   "cell_type": "markdown",
   "metadata": {},
   "source": [
    "### 한나라호 incheon arriving"
   ]
  },
  {
   "cell_type": "code",
   "execution_count": 17,
   "metadata": {},
   "outputs": [],
   "source": [
    "image_incheon_220527_arriving_path = \"/data/HiNAS-DATA/PROCESSED-IR-DATA/HANNARA/images/incheon_220527_arriving/\"\n",
    "label_incheon_220527_arriving_path = \"/data/HiNAS-DATA/PROCESSED-IR-DATA/HANNARA/labels/incheon_220527_arriving/\"\n",
    "key_frame = 15\n",
    "# 원본 753 \n",
    "# 데이터 특성상 15장씩 파싱"
   ]
  },
  {
   "cell_type": "code",
   "execution_count": 18,
   "metadata": {},
   "outputs": [
    {
     "name": "stdout",
     "output_type": "stream",
     "text": [
      "Done.\n"
     ]
    }
   ],
   "source": [
    "import os\n",
    "\n",
    "image_dir = image_incheon_220527_arriving_path\n",
    "label_dir = label_incheon_220527_arriving_path\n",
    "keep_every_nth = key_frame\n",
    "\n",
    "image_files = sorted(os.listdir(image_dir))\n",
    "label_files = sorted(os.listdir(label_dir))\n",
    "\n",
    "# Iterate over the image files and delete those that are not every nth file\n",
    "for i, image_file in enumerate(image_files):\n",
    "    if i % keep_every_nth != 0:\n",
    "        os.remove(os.path.join(image_dir, image_file))\n",
    "        os.remove(os.path.join(label_dir, label_files[i]))  # Delete corresponding label file\n",
    "\n",
    "print(\"Done.\")"
   ]
  },
  {
   "attachments": {},
   "cell_type": "markdown",
   "metadata": {},
   "source": [
    "### 한나라호 canal and berth"
   ]
  },
  {
   "cell_type": "code",
   "execution_count": 19,
   "metadata": {},
   "outputs": [],
   "source": [
    "image_incheon_220527_canal_and_berth_path = \"/data/HiNAS-DATA/PROCESSED-IR-DATA/HANNARA/images/incheon_220527_canal_and_berth/\"\n",
    "label_incheon_220527_canal_and_berth_path = \"/data/HiNAS-DATA/PROCESSED-IR-DATA/HANNARA/labels/incheon_220527_canal_and_berth/\"\n",
    "key_frame = 30\n",
    "# 원본 2726 \n",
    "# 데이터 특성상 30장씩 파싱"
   ]
  },
  {
   "cell_type": "code",
   "execution_count": 20,
   "metadata": {},
   "outputs": [
    {
     "name": "stdout",
     "output_type": "stream",
     "text": [
      "Done.\n"
     ]
    }
   ],
   "source": [
    "import os\n",
    "\n",
    "image_dir = image_incheon_220527_canal_and_berth_path\n",
    "label_dir = label_incheon_220527_canal_and_berth_path\n",
    "keep_every_nth = key_frame\n",
    "\n",
    "image_files = sorted(os.listdir(image_dir))\n",
    "label_files = sorted(os.listdir(label_dir))\n",
    "\n",
    "# Iterate over the image files and delete those that are not every nth file\n",
    "for i, image_file in enumerate(image_files):\n",
    "    if i % keep_every_nth != 0:\n",
    "        os.remove(os.path.join(image_dir, image_file))\n",
    "        os.remove(os.path.join(label_dir, label_files[i]))  # Delete corresponding label file\n",
    "\n",
    "print(\"Done.\")"
   ]
  },
  {
   "attachments": {},
   "cell_type": "markdown",
   "metadata": {},
   "source": [
    "### KHOPE"
   ]
  },
  {
   "cell_type": "code",
   "execution_count": 21,
   "metadata": {},
   "outputs": [],
   "source": [
    "image_khope_path = \"/data/HiNAS-DATA/PROCESSED-IR-DATA/KHOPE/images/\"\n",
    "label_khope_path = \"/data/HiNAS-DATA/PROCESSED-IR-DATA/KHOPE/labels/\"\n",
    "key_frame = 5\n",
    "# 원본 827장 \n",
    "# 데이터 특성상 5장씩 파싱"
   ]
  },
  {
   "cell_type": "code",
   "execution_count": 22,
   "metadata": {},
   "outputs": [
    {
     "name": "stdout",
     "output_type": "stream",
     "text": [
      "Done.\n"
     ]
    }
   ],
   "source": [
    "import os\n",
    "\n",
    "image_dir = image_khope_path\n",
    "label_dir = label_khope_path\n",
    "keep_every_nth = key_frame\n",
    "\n",
    "image_files = sorted(os.listdir(image_dir))\n",
    "label_files = sorted(os.listdir(label_dir))\n",
    "\n",
    "# Iterate over the image files and delete those that are not every nth file\n",
    "for i, image_file in enumerate(image_files):\n",
    "    if i % keep_every_nth != 0:\n",
    "        os.remove(os.path.join(image_dir, image_file))\n",
    "        os.remove(os.path.join(label_dir, label_files[i]))  # Delete corresponding label file\n",
    "\n",
    "print(\"Done.\")"
   ]
  },
  {
   "cell_type": "markdown",
   "metadata": {},
   "source": [
    "### YMWINNER"
   ]
  },
  {
   "cell_type": "code",
   "execution_count": 23,
   "metadata": {},
   "outputs": [],
   "source": [
    "image_ymwinner_path = \"/data/HiNAS-DATA/PROCESSED-IR-DATA/YMwinner/images/\"\n",
    "label_ymwinner_path = \"/data/HiNAS-DATA/PROCESSED-IR-DATA/YMwinner/labels/\"\n",
    "key_frame = 30\n",
    "# 원본 21370장 \n",
    "# 데이터 특성상 30장씩 파싱\n"
   ]
  },
  {
   "cell_type": "code",
   "execution_count": 24,
   "metadata": {},
   "outputs": [
    {
     "name": "stdout",
     "output_type": "stream",
     "text": [
      "Done.\n"
     ]
    }
   ],
   "source": [
    "import os\n",
    "\n",
    "image_dir = image_ymwinner_path\n",
    "label_dir = label_ymwinner_path\n",
    "keep_every_nth = key_frame\n",
    "\n",
    "image_files = sorted(os.listdir(image_dir))\n",
    "label_files = sorted(os.listdir(label_dir))\n",
    "\n",
    "# Iterate over the image files and delete those that are not every nth file\n",
    "for i, image_file in enumerate(image_files):\n",
    "    if i % keep_every_nth != 0:\n",
    "        os.remove(os.path.join(image_dir, image_file))\n",
    "        os.remove(os.path.join(label_dir, label_files[i]))  # Delete corresponding label file\n",
    "\n",
    "print(\"Done.\")"
   ]
  },
  {
   "cell_type": "code",
   "execution_count": null,
   "metadata": {},
   "outputs": [],
   "source": []
  }
 ],
 "metadata": {
  "kernelspec": {
   "display_name": "base",
   "language": "python",
   "name": "python3"
  },
  "language_info": {
   "codemirror_mode": {
    "name": "ipython",
    "version": 3
   },
   "file_extension": ".py",
   "mimetype": "text/x-python",
   "name": "python",
   "nbconvert_exporter": "python",
   "pygments_lexer": "ipython3",
   "version": "3.8.13"
  },
  "orig_nbformat": 4
 },
 "nbformat": 4,
 "nbformat_minor": 2
}
