{
 "cells": [
  {
   "cell_type": "code",
   "execution_count": 15,
   "metadata": {},
   "outputs": [],
   "source": [
    "import os\n",
    "import numpy as np\n",
    "from tqdm import tqdm\n",
    "from PIL import Image, ImageDraw, ImageFont\n",
    "from pathlib import Path"
   ]
  },
  {
   "cell_type": "code",
   "execution_count": 23,
   "metadata": {},
   "outputs": [],
   "source": [
    "def bbox_drawer(img_dir, label_dir, out_dir, names):\n",
    "    img_files = os.listdir(img_dir)\n",
    "    no_label_imgs = []\n",
    "    no_label_img_cnt = 0\n",
    "    for img_file in tqdm(img_files):\n",
    "        label_file = f'{img_file.rsplit(\".\", 1)[0]}.txt'\n",
    "        \n",
    "        ext = img_file.rsplit(\".\", 1)[-1]\n",
    "        if ext.lower() not in ('jpg', 'jpeg', 'png'):\n",
    "            continue\n",
    "        \n",
    "        img_file_path = img_dir / img_file\n",
    "        label_file_path = label_dir / label_file\n",
    "        pil_img = Image.open(img_file_path)\n",
    "        pil_draw = ImageDraw.Draw(pil_img)\n",
    "        width, height = pil_img.size\n",
    "\n",
    "        try:\n",
    "            labels = np.loadtxt(label_file_path)\n",
    "        except:\n",
    "            no_label_img_cnt += 1\n",
    "            no_label_imgs.append(img_file)\n",
    "            labels = np.array([])\n",
    "\n",
    "        if labels.size > 0:\n",
    "            if labels.ndim == 1:\n",
    "                labels = np.expand_dims(labels, 0)\n",
    "            x1 = (labels[:, 1] - labels[:, 3] / 2) * width\n",
    "            y1 = (labels[:, 2] - labels[:, 4] / 2) * height\n",
    "            x2 = (labels[:, 1] + labels[:, 3] / 2) * width\n",
    "            y2 = (labels[:, 2] + labels[:, 4] / 2) * height\n",
    "\n",
    "            for label in np.stack((labels[:, 0], x1, y1, x2, y2), axis=1).tolist():\n",
    "                cat, xx1, yy1, xx2, yy2 = label\n",
    "                pil_draw.rectangle((xx1, yy1, xx2, yy2), outline='red', width=2)\n",
    "                pil_draw.text((xx1, yy1 - 17), f'{names[int(label[0])]}', fill='red', font=ImageFont.truetype('arial.ttf', size=15))\n",
    "        \n",
    "        img_out_file_path = out_dir / img_file\n",
    "        pil_img.save(img_out_file_path)\n",
    "\n",
    "    print(f'{no_label_img_cnt} image file dont have labels')\n",
    "    return no_label_imgs, no_label_img_cnt"
   ]
  },
  {
   "cell_type": "code",
   "execution_count": null,
   "metadata": {},
   "outputs": [
    {
     "name": "stderr",
     "output_type": "stream",
     "text": [
      "100%|██████████| 91/91 [00:01<00:00, 72.30it/s]"
     ]
    },
    {
     "name": "stdout",
     "output_type": "stream",
     "text": [
      "0 image file dont have labels\n"
     ]
    },
    {
     "name": "stderr",
     "output_type": "stream",
     "text": [
      "\n"
     ]
    },
    {
     "data": {
      "text/plain": [
       "([], 0)"
      ]
     },
     "execution_count": 26,
     "metadata": {},
     "output_type": "execute_result"
    }
   ],
   "source": [
    "names = {0: 'Vessel'}\n",
    "\n",
    "IMG_DIR = Path(\"/data/HiNAS-DATA/PROCESSED-IR-DATA/MassMIND/images/\")\n",
    "LABEL_DIR = Path(\"/data/HiNAS-DATA/PROCESSED-IR-DATA/MassMIND/labels/\")\n",
    "OUT_DIR = Path(\"/data/HiNAS-DATA/PROCESSED-IR-DATA/MassMIND/masked_images/\")\n",
    "\n",
    "if not OUT_DIR.exists():\n",
    "    OUT_DIR.mkdir(parents=True)\n",
    "\n",
    "bbox_drawer(IMG_DIR, LABEL_DIR, OUT_DIR, names)"
   ]
  },
  {
   "cell_type": "code",
   "execution_count": null,
   "metadata": {},
   "outputs": [],
   "source": []
  }
 ],
 "metadata": {
  "kernelspec": {
   "display_name": "pytorch_train",
   "language": "python",
   "name": "python3"
  },
  "language_info": {
   "codemirror_mode": {
    "name": "ipython",
    "version": 3
   },
   "file_extension": ".py",
   "mimetype": "text/x-python",
   "name": "python",
   "nbconvert_exporter": "python",
   "pygments_lexer": "ipython3",
   "version": "3.8.16"
  },
  "orig_nbformat": 4
 },
 "nbformat": 4,
 "nbformat_minor": 2
}
